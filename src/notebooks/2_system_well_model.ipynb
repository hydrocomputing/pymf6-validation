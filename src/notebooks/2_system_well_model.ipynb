{
 "cells": [
  {
   "cell_type": "markdown",
   "id": "cd282849-bb38-430c-a734-f1e9795af027",
   "metadata": {},
   "source": [
    "# Pump and Treat - Well System Model"
   ]
  },
  {
   "cell_type": "markdown",
   "id": "9f9593d1-1279-4180-930f-ac2700f56602",
   "metadata": {},
   "source": [
    "### Problem definition "
   ]
  },
  {
   "cell_type": "markdown",
   "id": "6f15f127-8d9c-48ce-b7a5-1e0fe5d81dd5",
   "metadata": {},
   "source": [
    "A heavy metal contamination issue has arisen at a site where a smelter, established in 1966 for chromium production, operated without proper anti-seepage measures beneath its slag deposits. Over time, rainfall leached significant quantities of toxic metals, primarily hexavalent chromium (Cr(VI)) into the soil and groundwater. A commonly used remediation approach for such contamination is the pump-and-treat (PAT) method, which involves extracting polluted groundwater via wells and treating it at a surface facility. However, PAT has notable drawbacks, such as high operational costs, limited effectiveness in low-permeability formations and unsaturated zones, and the risk of altering the natural hydraulic gradient. Field monitoring data showed that Cr(VI) contamination in the unconfined aquifer peak concentrations reaching 1000 mg/L, far exceeding the permissible limit of 0.1 mg/L (He et al., 2024). Addressing this groundwater pollution is critical to protect both environmental health and water quality, since there is an aquifer used for drinking water supply at the area. There are three wells already existing at the area close to the contamination source. They will be used to perform the PAT. "
   ]
  },
  {
   "cell_type": "markdown",
   "id": "7f397289-9870-4fe6-8e06-2281fb86e7f2",
   "metadata": {},
   "source": [
    "![River Base Concept Model](river_and_wells.svg)"
   ]
  },
  {
   "cell_type": "markdown",
   "id": "b667af76-2748-47cf-880f-362f18df551b",
   "metadata": {
    "tags": []
   },
   "source": [
    "### Model Description\n",
    "\n",
    "This groundwater flow and contaminant transport model simulates a pump-and-treat (PAT) remediation system for a site contaminated with hexavalent chromium (Cr(VI)). \n",
    "#### Domain \n",
    "The model domain is a 2D single-layer grid consisting of 101 rows and columns, representing a 100 m × 100 m unconfined aquifer with a thickness of 30 m. \n",
    "### Boundary conditions \n",
    "Boundary conditions include constant head boundaries on the left and right edges of the domain to simulate regional flow, with head values set to 25.0 m and 24.5 m, respectively. Three extraction wells are positioned between the contamination source and a sensitive municipal boundary to control plume migration. Initial contamination is introduced at six grid cells near the source zone using the CNC package, with maximum concentrations up to 1000 mg/L. \n",
    "### Layer properties \n",
    "Groundwater flow is modeled using the NPF, STO, and CHD packages, while solute transport is handled by the GWT model with advection, dispersion, and source-sink mixing processes. The SSM package connects flow and transport components by linking CHD and WEL sources with auxiliary concentration data. Output includes head, flow, and concentration files, enabling visualization and assessment of plume dynamics and remediation performance.\n"
   ]
  },
  {
   "cell_type": "markdown",
   "id": "2b4835b8-8060-469f-9531-f405a2abde39",
   "metadata": {},
   "source": [
    "# Start setting up the model "
   ]
  },
  {
   "cell_type": "markdown",
   "id": "16c80df8-d761-4698-8ca0-f602662ac047",
   "metadata": {
    "tags": []
   },
   "source": [
    "### Magic commands - auto reload of the model each time "
   ]
  },
  {
   "cell_type": "code",
   "execution_count": 1,
   "id": "482a74f0-385b-495d-92f6-9d5b368374d9",
   "metadata": {
    "tags": []
   },
   "outputs": [],
   "source": [
    "%load_ext autoreload"
   ]
  },
  {
   "cell_type": "code",
   "execution_count": 2,
   "id": "9a97cf56-15fc-4af5-97b0-309d1744f41d",
   "metadata": {
    "tags": []
   },
   "outputs": [],
   "source": [
    "%autoreload 2"
   ]
  },
  {
   "cell_type": "markdown",
   "id": "1b24c6f7-4000-4666-883e-9c522d464bbb",
   "metadata": {
    "tags": []
   },
   "source": [
    "### Import from pymf6tools the functions to run, get and visualize simulation results"
   ]
  },
  {
   "cell_type": "code",
   "execution_count": 3,
   "id": "a7f6a036-b3b3-4ba5-b02b-1b4c298f7bf2",
   "metadata": {},
   "outputs": [],
   "source": [
    "from pathlib import Path \n",
    "from pymf6.mf6 import MF6\n",
    "import pandas as pd \n",
    "from functools import partial \n",
    "import numpy as np \n",
    "\n",
    "from pymf6_tools.make_model import run_simulation, get_simulation\n",
    "\n",
    "\n",
    "from pymf6_tools.base_model import make_model_data\n",
    "from pymf6_tools.make_model import make_input, run_simulation, get_simulation\n",
    "from pymf6_tools.plotting import show_heads, show_well_head, show_bcs"
   ]
  },
  {
   "cell_type": "code",
   "execution_count": 4,
   "id": "3e931716-42e0-413f-92e3-33c9c8dbd505",
   "metadata": {
    "tags": []
   },
   "outputs": [],
   "source": [
    "from pymf6_tools.plotting import show_heads, show_well_head, show_concentration, show_bcs, show_bot_elevations, show_river_stages, contour_bot_elevations, plot_spec_discharge "
   ]
  },
  {
   "cell_type": "markdown",
   "id": "16231890-25d0-4bc3-b14a-765a966659b6",
   "metadata": {},
   "source": [
    "## Set model path and name "
   ]
  },
  {
   "cell_type": "code",
   "execution_count": 5,
   "id": "0b865120-0329-4a36-8be7-60171efff881",
   "metadata": {},
   "outputs": [],
   "source": [
    "model_path = r'models/pumptreatnw'\n",
    "model_name = 'pumptreatnw'"
   ]
  },
  {
   "cell_type": "markdown",
   "id": "d3f8ccb6-4fab-4ded-a194-c8faa5cae633",
   "metadata": {
    "tags": []
   },
   "source": [
    "## Run simulation "
   ]
  },
  {
   "cell_type": "code",
   "execution_count": 6,
   "id": "1bfa1db4-7c63-4a16-a8b3-116b8f37b9b3",
   "metadata": {
    "tags": []
   },
   "outputs": [
    {
     "name": "stdout",
     "output_type": "stream",
     "text": [
      "loading simulation...\n",
      "  loading simulation name file...\n",
      "  loading tdis package...\n",
      "  loading model gwf6...\n",
      "    loading package dis...\n",
      "    loading package ic...\n",
      "    loading package npf...\n",
      "    loading package sto...\n",
      "    loading package chd...\n",
      "    loading package oc...\n",
      "  loading model gwt6...\n",
      "    loading package dis...\n",
      "    loading package ic...\n",
      "    loading package adv...\n",
      "    loading package dsp...\n",
      "    loading package mst...\n",
      "    loading package ssm...\n",
      "    loading package cnc...\n",
      "    loading package oc...\n",
      "  loading exchange package gwf-gwt_exg_0...\n",
      "  loading solution package gwf_pumptreatnw...\n",
      "  loading solution package gwt_pumptreatnw...\n",
      "FloPy is using the following executable to run the model: ..\\..\\..\\..\\..\\..\\mf6.6.2_win64\\bin\\mf6.exe\n",
      "                                   MODFLOW 6\n",
      "                U.S. GEOLOGICAL SURVEY MODULAR HYDROLOGIC MODEL\n",
      "                            VERSION 6.6.2 05/12/2025\n",
      "\n",
      "   MODFLOW 6 compiled May 12 2025 12:42:18 with Intel(R) Fortran Intel(R) 64\n",
      "   Compiler Classic for applications running on Intel(R) 64, Version 2021.7.0\n",
      "                             Build 20220726_000000\n",
      "\n",
      "This software has been approved for release by the U.S. Geological \n",
      "Survey (USGS). Although the software has been subjected to rigorous \n",
      "review, the USGS reserves the right to update the software as needed \n",
      "pursuant to further analysis and review. No warranty, expressed or \n",
      "implied, is made by the USGS or the U.S. Government as to the \n",
      "functionality of the software and related material nor shall the \n",
      "fact of release constitute any such warranty. Furthermore, the \n",
      "software is released on condition that neither the USGS nor the U.S. \n",
      "Government shall be held liable for any damages resulting from its \n",
      "authorized or unauthorized use. Also refer to the USGS Water \n",
      "Resources Software User Rights Notice for complete use, copyright, \n",
      "and distribution information.\n",
      "\n",
      " \n",
      " MODFLOW runs in SEQUENTIAL mode\n",
      " \n",
      " Run start date and time (yyyy/mm/dd hh:mm:ss): 2025/07/17 19:23:59\n",
      " \n",
      " Writing simulation list file: mfsim.lst\n",
      " Using Simulation name file: mfsim.nam\n",
      " \n",
      "    Solving:  Stress period:     1    Time step:     1\n",
      "    Solving:  Stress period:     2    Time step:     1\n",
      "    Solving:  Stress period:     2    Time step:     2\n",
      "    Solving:  Stress period:     2    Time step:     3\n",
      "    Solving:  Stress period:     2    Time step:     4\n",
      "    Solving:  Stress period:     2    Time step:     5\n",
      "    Solving:  Stress period:     2    Time step:     6\n",
      "    Solving:  Stress period:     2    Time step:     7\n",
      "    Solving:  Stress period:     2    Time step:     8\n",
      "    Solving:  Stress period:     2    Time step:     9\n",
      "    Solving:  Stress period:     2    Time step:    10\n",
      "    Solving:  Stress period:     2    Time step:    11\n",
      "    Solving:  Stress period:     2    Time step:    12\n",
      "    Solving:  Stress period:     2    Time step:    13\n",
      "    Solving:  Stress period:     2    Time step:    14\n",
      "    Solving:  Stress period:     2    Time step:    15\n",
      "    Solving:  Stress period:     2    Time step:    16\n",
      "    Solving:  Stress period:     2    Time step:    17\n",
      "    Solving:  Stress period:     2    Time step:    18\n",
      "    Solving:  Stress period:     2    Time step:    19\n",
      "    Solving:  Stress period:     2    Time step:    20\n",
      "    Solving:  Stress period:     2    Time step:    21\n",
      "    Solving:  Stress period:     2    Time step:    22\n",
      "    Solving:  Stress period:     2    Time step:    23\n",
      "    Solving:  Stress period:     2    Time step:    24\n",
      "    Solving:  Stress period:     2    Time step:    25\n",
      "    Solving:  Stress period:     2    Time step:    26\n",
      "    Solving:  Stress period:     2    Time step:    27\n",
      "    Solving:  Stress period:     2    Time step:    28\n",
      "    Solving:  Stress period:     2    Time step:    29\n",
      "    Solving:  Stress period:     2    Time step:    30\n",
      "    Solving:  Stress period:     2    Time step:    31\n",
      "    Solving:  Stress period:     2    Time step:    32\n",
      "    Solving:  Stress period:     2    Time step:    33\n",
      "    Solving:  Stress period:     2    Time step:    34\n",
      "    Solving:  Stress period:     2    Time step:    35\n",
      "    Solving:  Stress period:     2    Time step:    36\n",
      "    Solving:  Stress period:     2    Time step:    37\n",
      "    Solving:  Stress period:     2    Time step:    38\n",
      "    Solving:  Stress period:     2    Time step:    39\n",
      "    Solving:  Stress period:     2    Time step:    40\n",
      "    Solving:  Stress period:     2    Time step:    41\n",
      "    Solving:  Stress period:     2    Time step:    42\n",
      "    Solving:  Stress period:     2    Time step:    43\n",
      "    Solving:  Stress period:     2    Time step:    44\n",
      "    Solving:  Stress period:     2    Time step:    45\n",
      "    Solving:  Stress period:     2    Time step:    46\n",
      "    Solving:  Stress period:     2    Time step:    47\n",
      "    Solving:  Stress period:     2    Time step:    48\n",
      "    Solving:  Stress period:     2    Time step:    49\n",
      "    Solving:  Stress period:     2    Time step:    50\n",
      "    Solving:  Stress period:     2    Time step:    51\n",
      "    Solving:  Stress period:     2    Time step:    52\n",
      "    Solving:  Stress period:     2    Time step:    53\n",
      "    Solving:  Stress period:     2    Time step:    54\n",
      "    Solving:  Stress period:     2    Time step:    55\n",
      "    Solving:  Stress period:     2    Time step:    56\n",
      "    Solving:  Stress period:     2    Time step:    57\n",
      "    Solving:  Stress period:     2    Time step:    58\n",
      "    Solving:  Stress period:     2    Time step:    59\n",
      "    Solving:  Stress period:     2    Time step:    60\n",
      "    Solving:  Stress period:     2    Time step:    61\n",
      "    Solving:  Stress period:     2    Time step:    62\n",
      "    Solving:  Stress period:     2    Time step:    63\n",
      "    Solving:  Stress period:     2    Time step:    64\n",
      "    Solving:  Stress period:     2    Time step:    65\n",
      "    Solving:  Stress period:     2    Time step:    66\n",
      "    Solving:  Stress period:     2    Time step:    67\n",
      "    Solving:  Stress period:     2    Time step:    68\n",
      "    Solving:  Stress period:     2    Time step:    69\n",
      "    Solving:  Stress period:     2    Time step:    70\n",
      "    Solving:  Stress period:     2    Time step:    71\n",
      "    Solving:  Stress period:     2    Time step:    72\n",
      "    Solving:  Stress period:     2    Time step:    73\n",
      "    Solving:  Stress period:     2    Time step:    74\n",
      "    Solving:  Stress period:     2    Time step:    75\n",
      "    Solving:  Stress period:     2    Time step:    76\n",
      "    Solving:  Stress period:     2    Time step:    77\n",
      "    Solving:  Stress period:     2    Time step:    78\n",
      "    Solving:  Stress period:     2    Time step:    79\n",
      "    Solving:  Stress period:     2    Time step:    80\n",
      "    Solving:  Stress period:     2    Time step:    81\n",
      "    Solving:  Stress period:     2    Time step:    82\n",
      "    Solving:  Stress period:     2    Time step:    83\n",
      "    Solving:  Stress period:     2    Time step:    84\n",
      "    Solving:  Stress period:     2    Time step:    85\n",
      "    Solving:  Stress period:     2    Time step:    86\n",
      "    Solving:  Stress period:     2    Time step:    87\n",
      "    Solving:  Stress period:     2    Time step:    88\n",
      "    Solving:  Stress period:     2    Time step:    89\n",
      "    Solving:  Stress period:     2    Time step:    90\n",
      "    Solving:  Stress period:     2    Time step:    91\n",
      "    Solving:  Stress period:     2    Time step:    92\n",
      "    Solving:  Stress period:     2    Time step:    93\n",
      "    Solving:  Stress period:     2    Time step:    94\n",
      "    Solving:  Stress period:     2    Time step:    95\n",
      "    Solving:  Stress period:     2    Time step:    96\n",
      "    Solving:  Stress period:     2    Time step:    97\n",
      "    Solving:  Stress period:     2    Time step:    98\n",
      "    Solving:  Stress period:     2    Time step:    99\n",
      "    Solving:  Stress period:     2    Time step:   100\n",
      "    Solving:  Stress period:     2    Time step:   101\n",
      "    Solving:  Stress period:     2    Time step:   102\n",
      "    Solving:  Stress period:     2    Time step:   103\n",
      "    Solving:  Stress period:     2    Time step:   104\n",
      "    Solving:  Stress period:     2    Time step:   105\n",
      "    Solving:  Stress period:     2    Time step:   106\n",
      "    Solving:  Stress period:     2    Time step:   107\n",
      "    Solving:  Stress period:     2    Time step:   108\n",
      "    Solving:  Stress period:     2    Time step:   109\n",
      "    Solving:  Stress period:     2    Time step:   110\n",
      "    Solving:  Stress period:     2    Time step:   111\n",
      "    Solving:  Stress period:     2    Time step:   112\n",
      "    Solving:  Stress period:     2    Time step:   113\n",
      "    Solving:  Stress period:     2    Time step:   114\n",
      "    Solving:  Stress period:     2    Time step:   115\n",
      "    Solving:  Stress period:     2    Time step:   116\n",
      "    Solving:  Stress period:     2    Time step:   117\n",
      "    Solving:  Stress period:     2    Time step:   118\n",
      "    Solving:  Stress period:     2    Time step:   119\n",
      "    Solving:  Stress period:     2    Time step:   120\n",
      "    Solving:  Stress period:     2    Time step:   121\n",
      "    Solving:  Stress period:     2    Time step:   122\n",
      "    Solving:  Stress period:     2    Time step:   123\n",
      "    Solving:  Stress period:     2    Time step:   124\n",
      "    Solving:  Stress period:     2    Time step:   125\n",
      "    Solving:  Stress period:     2    Time step:   126\n",
      "    Solving:  Stress period:     2    Time step:   127\n",
      "    Solving:  Stress period:     2    Time step:   128\n",
      "    Solving:  Stress period:     2    Time step:   129\n",
      "    Solving:  Stress period:     2    Time step:   130\n",
      "    Solving:  Stress period:     2    Time step:   131\n",
      "    Solving:  Stress period:     2    Time step:   132\n",
      "    Solving:  Stress period:     2    Time step:   133\n",
      "    Solving:  Stress period:     2    Time step:   134\n",
      "    Solving:  Stress period:     2    Time step:   135\n",
      "    Solving:  Stress period:     2    Time step:   136\n",
      "    Solving:  Stress period:     2    Time step:   137\n",
      "    Solving:  Stress period:     2    Time step:   138\n",
      "    Solving:  Stress period:     2    Time step:   139\n",
      "    Solving:  Stress period:     2    Time step:   140\n",
      "    Solving:  Stress period:     2    Time step:   141\n",
      "    Solving:  Stress period:     2    Time step:   142\n",
      "    Solving:  Stress period:     2    Time step:   143\n",
      "    Solving:  Stress period:     2    Time step:   144\n",
      "    Solving:  Stress period:     2    Time step:   145\n",
      "    Solving:  Stress period:     2    Time step:   146\n",
      "    Solving:  Stress period:     2    Time step:   147\n",
      "    Solving:  Stress period:     2    Time step:   148\n",
      "    Solving:  Stress period:     2    Time step:   149\n",
      "    Solving:  Stress period:     2    Time step:   150\n",
      " \n",
      " Run end date and time (yyyy/mm/dd hh:mm:ss): 2025/07/17 19:24:18\n",
      " Elapsed run time: 19.229 Seconds\n",
      " \n",
      " Normal termination of simulation.\n"
     ]
    }
   ],
   "source": [
    "run_simulation(model_path, verbosity_level=1)"
   ]
  },
  {
   "cell_type": "code",
   "execution_count": 7,
   "id": "bc8fb4d4-3696-4b34-98dd-3d1b7c1520c9",
   "metadata": {},
   "outputs": [
    {
     "data": {
      "text/plain": [
       "\u001b[31mSignature:\u001b[39m run_simulation(model_path, verbosity_level=\u001b[32m0\u001b[39m)\n",
       "\u001b[31mDocstring:\u001b[39m Run a MODFLOW 6 model.\n",
       "\u001b[31mFile:\u001b[39m      c:\\users\\lucialabarca\\re-run noteboks\\pymf6-validation\\.pixi\\envs\\default\\lib\\site-packages\\pymf6_tools\\make_model.py\n",
       "\u001b[31mType:\u001b[39m      function"
      ]
     },
     "metadata": {},
     "output_type": "display_data"
    }
   ],
   "source": [
    "run_simulation?"
   ]
  },
  {
   "cell_type": "markdown",
   "id": "60d83044-3066-4e54-86d5-e4a3863c084d",
   "metadata": {},
   "source": [
    "## Inspect model parameters "
   ]
  },
  {
   "cell_type": "code",
   "execution_count": 8,
   "id": "413f12d5-f0bb-4bd1-9c98-1d6457f896f2",
   "metadata": {},
   "outputs": [],
   "source": [
    "sim = get_simulation(model_path, model_name)\n",
    "ml = sim.get_model('gwf_' + model_name)\n",
    "dis = ml.get_package('dis') "
   ]
  },
  {
   "cell_type": "code",
   "execution_count": 9,
   "id": "77fe0153-fe2b-4714-874a-069ff01e7140",
   "metadata": {},
   "outputs": [
    {
     "data": {
      "text/plain": [
       "[,\n",
       " ,\n",
       " ,\n",
       " ,\n",
       " ,\n",
       " ,\n",
       " ,\n",
       " ,\n",
       " ,\n",
       " {internal}\n",
       " (1),\n",
       " {internal}\n",
       " (101),\n",
       " {internal}\n",
       " (101),\n",
       " {constant 1.0},\n",
       " {constant 1.0},\n",
       " {constant 0.0},\n",
       " {constant -30.0},\n",
       " ]"
      ]
     },
     "execution_count": 9,
     "metadata": {},
     "output_type": "execute_result"
    }
   ],
   "source": [
    "dis.data_list"
   ]
  },
  {
   "cell_type": "markdown",
   "id": "b709e145-451b-4260-ab34-f6a8fa412790",
   "metadata": {},
   "source": [
    "## Visualization of Input and Output - e.g. Boundary conditions, Heads and Contamination plume"
   ]
  },
  {
   "cell_type": "markdown",
   "id": "3943cd7b-493e-441e-af36-4f17c08994b8",
   "metadata": {},
   "source": [
    "### Plot Boundary conditions "
   ]
  },
  {
   "cell_type": "markdown",
   "id": "d3a1e043-981b-4b72-85ad-d6b38c4fc531",
   "metadata": {},
   "source": [
    "### Boundary Conditions \n",
    "Note that you should change the \"bc_names\" according to the boundary conditions present in the simulation.  \n",
    "<span style=\"color:blue\">'chd'</span> Constant-head boundary  \n",
    "<span style=\"color:blue\">'wel'</span> River boundary"
   ]
  },
  {
   "cell_type": "code",
   "execution_count": 10,
   "id": "1d0f88ee-6fae-4e42-ad71-c61c0822603f",
   "metadata": {},
   "outputs": [
    {
     "data": {
      "text/plain": [
       "\u001b[31mSignature:\u001b[39m\n",
       "show_bcs(\n",
       "    model_path,\n",
       "    name,\n",
       "    title=\u001b[33m'Boundary Conditions'\u001b[39m,\n",
       "    bc_names=(\u001b[33m'chd'\u001b[39m, \u001b[33m'wel'\u001b[39m, \u001b[33m'riv'\u001b[39m),\n",
       "    show_grid=\u001b[38;5;28;01mTrue\u001b[39;00m,\n",
       ")\n",
       "\u001b[31mDocstring:\u001b[39m Show location of boundary conditions.\n",
       "\u001b[31mFile:\u001b[39m      c:\\users\\lucialabarca\\re-run noteboks\\pymf6-validation\\.pixi\\envs\\default\\lib\\site-packages\\pymf6_tools\\plotting.py\n",
       "\u001b[31mType:\u001b[39m      function"
      ]
     },
     "metadata": {},
     "output_type": "display_data"
    }
   ],
   "source": [
    "show_bcs?"
   ]
  },
  {
   "cell_type": "code",
   "execution_count": 11,
   "id": "45f354f7-bb5d-4c86-a3fc-3d925e6bdd2c",
   "metadata": {
    "tags": []
   },
   "outputs": [
    {
     "data": {
      "text/plain": [
       "<matplotlib.collections.QuadMesh at 0x245e934f380>"
      ]
     },
     "execution_count": 11,
     "metadata": {},
     "output_type": "execute_result"
    },
    {
     "data": {
      "image/png": "[encoded data removed]",
      "text/plain": [
       "<Figure size 640x480 with 1 Axes>"
      ]
     },
     "metadata": {},
     "output_type": "display_data"
    }
   ],
   "source": [
    "show_bcs(model_path, name=model_name, bc_names=('chd',))"
   ]
  },
  {
   "cell_type": "markdown",
   "id": "1a587b8c-9450-428e-bbf4-aa3a3e741f1e",
   "metadata": {},
   "source": [
    "### Groundwater level "
   ]
  },
  {
   "cell_type": "code",
   "execution_count": 12,
   "id": "3cc7df6d-f54c-4a15-a083-6ef1eae737b8",
   "metadata": {},
   "outputs": [
    {
     "data": {
      "text/plain": [
       "\u001b[31mSignature:\u001b[39m\n",
       "show_heads(\n",
       "    model_path,\n",
       "    name,\n",
       "    title=\u001b[33m''\u001b[39m,\n",
       "    show_grid=\u001b[38;5;28;01mTrue\u001b[39;00m,\n",
       "    show_wells=\u001b[38;5;28;01mTrue\u001b[39;00m,\n",
       "    show_contours=\u001b[38;5;28;01mTrue\u001b[39;00m,\n",
       "    kstpkper=(\u001b[32m119\u001b[39m, \u001b[32m2\u001b[39m),\n",
       "    spdis_index=\u001b[32m240\u001b[39m,\n",
       ")\n",
       "\u001b[31mDocstring:\u001b[39m Plot calculated heads along with flow vector.\n",
       "\u001b[31mFile:\u001b[39m      c:\\users\\lucialabarca\\re-run noteboks\\pymf6-validation\\.pixi\\envs\\default\\lib\\site-packages\\pymf6_tools\\plotting.py\n",
       "\u001b[31mType:\u001b[39m      function"
      ]
     },
     "metadata": {},
     "output_type": "display_data"
    }
   ],
   "source": [
    "show_heads?"
   ]
  },
  {
   "cell_type": "code",
   "execution_count": 13,
   "id": "a34a3424-61f5-45ed-9aec-59d0ff52bd0c",
   "metadata": {},
   "outputs": [
    {
     "ename": "Exception",
     "evalue": "The specified text string is not in the budget file.",
     "output_type": "error",
     "traceback": [
      "\u001b[31m---------------------------------------------------------------------------\u001b[39m",
      "\u001b[31mException\u001b[39m                                 Traceback (most recent call last)",
      "\u001b[36mCell\u001b[39m\u001b[36m \u001b[39m\u001b[32mIn[13]\u001b[39m\u001b[32m, line 1\u001b[39m\n\u001b[32m----> \u001b[39m\u001b[32m1\u001b[39m \u001b[43mshow_heads\u001b[49m\u001b[43m(\u001b[49m\u001b[43mmodel_path\u001b[49m\u001b[43m,\u001b[49m\u001b[43m \u001b[49m\u001b[43mmodel_name\u001b[49m\u001b[43m,\u001b[49m\u001b[43m \u001b[49m\u001b[43mshow_wells\u001b[49m\u001b[43m=\u001b[49m\u001b[38;5;28;43;01mFalse\u001b[39;49;00m\u001b[43m,\u001b[49m\u001b[43m \u001b[49m\u001b[43mkstpkper\u001b[49m\u001b[43m=\u001b[49m\u001b[43m(\u001b[49m\u001b[32;43m149\u001b[39;49m\u001b[43m,\u001b[49m\u001b[43m \u001b[49m\u001b[32;43m1\u001b[39;49m\u001b[43m)\u001b[49m\u001b[43m)\u001b[49m\n",
      "\u001b[36mFile \u001b[39m\u001b[32m~\\re-run noteboks\\pymf6-validation\\.pixi\\envs\\default\\Lib\\site-packages\\pymf6_tools\\plotting.py:31\u001b[39m, in \u001b[36mshow_heads\u001b[39m\u001b[34m(model_path, name, title, show_grid, show_wells, show_contours, kstpkper, spdis_index)\u001b[39m\n\u001b[32m     29\u001b[39m head = gwf.output.head().get_data(kstpkper=kstpkper)\n\u001b[32m     30\u001b[39m bud = gwf.output.budget()\n\u001b[32m---> \u001b[39m\u001b[32m31\u001b[39m spdis = \u001b[43mbud\u001b[49m\u001b[43m.\u001b[49m\u001b[43mget_data\u001b[49m\u001b[43m(\u001b[49m\u001b[43mtext\u001b[49m\u001b[43m=\u001b[49m\u001b[33;43m'\u001b[39;49m\u001b[33;43mDATA-SPDIS\u001b[39;49m\u001b[33;43m'\u001b[39;49m\u001b[43m)\u001b[49m[spdis_index]\n\u001b[32m     32\u001b[39m qx, qy, _ = get_specific_discharge(spdis, gwf)\n\u001b[32m     33\u001b[39m pmv = flopy.plot.PlotMapView(gwf)\n",
      "\u001b[36mFile \u001b[39m\u001b[32m~\\re-run noteboks\\pymf6-validation\\.pixi\\envs\\default\\Lib\\site-packages\\flopy\\utils\\binaryfile\\__init__.py:1558\u001b[39m, in \u001b[36mCellBudgetFile.get_data\u001b[39m\u001b[34m(self, idx, kstpkper, totim, text, paknam, paknam2, full3D)\u001b[39m\n\u001b[32m   1556\u001b[39m text16 = \u001b[38;5;28;01mNone\u001b[39;00m\n\u001b[32m   1557\u001b[39m \u001b[38;5;28;01mif\u001b[39;00m text \u001b[38;5;129;01mis\u001b[39;00m \u001b[38;5;129;01mnot\u001b[39;00m \u001b[38;5;28;01mNone\u001b[39;00m:\n\u001b[32m-> \u001b[39m\u001b[32m1558\u001b[39m     text16 = \u001b[38;5;28;43mself\u001b[39;49m\u001b[43m.\u001b[49m\u001b[43m_find_text\u001b[49m\u001b[43m(\u001b[49m\u001b[43mtext\u001b[49m\u001b[43m)\u001b[49m\n\u001b[32m   1559\u001b[39m paknam16 = \u001b[38;5;28;01mNone\u001b[39;00m\n\u001b[32m   1560\u001b[39m \u001b[38;5;28;01mif\u001b[39;00m paknam \u001b[38;5;129;01mis\u001b[39;00m \u001b[38;5;129;01mnot\u001b[39;00m \u001b[38;5;28;01mNone\u001b[39;00m:\n",
      "\u001b[36mFile \u001b[39m\u001b[32m~\\re-run noteboks\\pymf6-validation\\.pixi\\envs\\default\\Lib\\site-packages\\flopy\\utils\\binaryfile\\__init__.py:1279\u001b[39m, in \u001b[36mCellBudgetFile._find_text\u001b[39m\u001b[34m(self, text)\u001b[39m\n\u001b[32m   1277\u001b[39m     \u001b[38;5;28;01mif\u001b[39;00m text16 \u001b[38;5;129;01mis\u001b[39;00m \u001b[38;5;28;01mNone\u001b[39;00m:\n\u001b[32m   1278\u001b[39m         errmsg = \u001b[33m\"\u001b[39m\u001b[33mThe specified text string is not in the budget file.\u001b[39m\u001b[33m\"\u001b[39m\n\u001b[32m-> \u001b[39m\u001b[32m1279\u001b[39m         \u001b[38;5;28;01mraise\u001b[39;00m \u001b[38;5;167;01mException\u001b[39;00m(errmsg)\n\u001b[32m   1280\u001b[39m \u001b[38;5;28;01mreturn\u001b[39;00m text16\n",
      "\u001b[31mException\u001b[39m: The specified text string is not in the budget file."
     ]
    }
   ],
   "source": [
    "show_heads(model_path, model_name, show_wells=False, kstpkper=(149, 1))"
   ]
  },
  {
   "cell_type": "code",
   "execution_count": null,
   "id": "22bbb6f8-74d2-46e6-8a13-15999582b566",
   "metadata": {},
   "outputs": [],
   "source": [
    "show_heads(model_path, name=model_name, show_grid=True, show_wells=True, show_contours = True, kstpkper=(149, 1))\n",
    "#show_heads(model_path, model_name, show_wells=False)"
   ]
  },
  {
   "cell_type": "markdown",
   "id": "71b0de40-6210-4c98-b8cb-c03d714b931d",
   "metadata": {},
   "source": [
    "🔍 What is kstpkper?\n",
    "In MODFLOW 6, kstpkper = (kstp, kper) refers to:\n",
    "\n",
    "kstp: Time step within a stress period\n",
    "\n",
    "kper: Stress period number\n",
    "\n",
    "FloPy tracks head and budget data per (kstp, kper). If you ask for a timestep combination that wasn't saved or doesn't exist, it throws this error.\n",
    "\n",
    "✅ How to Find your kstper?\n",
    "Check your simulation's stress period setup\n",
    "From the model in this case \n",
    "\n",
    "perioddata=[(1.0, 1, 1.0), (2000.0, 150, 1.0)]\n",
    "\n",
    "There are:\n",
    "\n",
    "Stress period 0: 1 time step\n",
    "\n",
    "Stress period 1: 150 time steps\n",
    "\n",
    "So valid kstpkper values:\n",
    "\n",
    "For kper=0: only (0, 0)\n",
    "\n",
    "For kper=1: (0, 1) to (149, 1)\n",
    "\n",
    "Since we want the final time then is its (149, 1)."
   ]
  },
  {
   "cell_type": "code",
   "execution_count": null,
   "id": "37804300-1be1-4d15-812f-a12462d1eb05",
   "metadata": {},
   "outputs": [],
   "source": []
  },
  {
   "cell_type": "markdown",
   "id": "ef9ffe06-22ea-4248-a129-b20e5f4fb32a",
   "metadata": {},
   "source": [
    "### Visualize contamination plume"
   ]
  },
  {
   "cell_type": "markdown",
   "id": "3c91ff95-a26f-49b1-9e72-0d35f02449ef",
   "metadata": {},
   "source": [
    "### Concentration"
   ]
  },
  {
   "cell_type": "code",
   "execution_count": null,
   "id": "ea25516b-f311-427d-be7d-cc2315235cb6",
   "metadata": {},
   "outputs": [],
   "source": [
    "show_concentration(model_path, model_name, show_wells=False, show_arrows=True, show_rivers=False)"
   ]
  },
  {
   "cell_type": "markdown",
   "id": "9ab85f27-a492-4a3b-a6cb-2e5bd0ac9d42",
   "metadata": {},
   "source": [
    "The current situation shows a contamination plume of Cr(VI) on the right side of the model, which is the area that we want to maintain the water quality. \n",
    "The model without control would result in a plume evolution that would continue to extend a reach the drinking water supply resources. The main objective is to maintain and regulate the water quality standards of the aquifer. Further containing the contamination plume from extending beyond the observation well is essential to reduce costs of the remediation and maintenance. There are three existing wells on the site already that have different maximum rates, therefore they will be used to perform the PAT. \n"
   ]
  },
  {
   "cell_type": "markdown",
   "id": "f251093a-9e42-41c6-a555-2b3abd72dde8",
   "metadata": {},
   "source": [
    "## Solving it with unregulated pumping campaign"
   ]
  },
  {
   "cell_type": "markdown",
   "id": "d6229978-44cd-4cea-a2a8-1fb523fc2f5c",
   "metadata": {},
   "source": [
    "### Set path for the model with the wells "
   ]
  },
  {
   "cell_type": "code",
   "execution_count": null,
   "id": "bdd94250-7cff-4747-9c39-66f7a5de7de5",
   "metadata": {},
   "outputs": [],
   "source": [
    "model_path = r'models/pumptreat'\n",
    "model_name = 'pumptreat'"
   ]
  },
  {
   "cell_type": "markdown",
   "id": "9c6c432d-44cd-4262-be97-c5fb34e0c4b8",
   "metadata": {},
   "source": [
    "### Location of the wells "
   ]
  },
  {
   "cell_type": "code",
   "execution_count": null,
   "id": "c9fa1195-bc31-4d14-ab72-901d3128f07d",
   "metadata": {},
   "outputs": [],
   "source": [
    "show_bcs(model_path, model_name=model_name, bc_names=('chd','wel'))"
   ]
  },
  {
   "cell_type": "markdown",
   "id": "073ee411-b1d9-4cd5-bab7-380cac593f46",
   "metadata": {},
   "source": [
    "### Specific Discharge - Interactive graph (layer and time)\n",
    "Specify the layer and time of the simulation to be visualized."
   ]
  },
  {
   "cell_type": "code",
   "execution_count": null,
   "id": "023730b0-603a-4a0a-af4c-c03f379f8ae0",
   "metadata": {
    "scrolled": true,
    "tags": []
   },
   "outputs": [],
   "source": [
    "plot_spec_discharge(model_path, model_name, layer=1, times = 300)"
   ]
  },
  {
   "cell_type": "code",
   "execution_count": null,
   "id": "28d0abec-5af0-4b90-bc9c-186768ae6855",
   "metadata": {
    "tags": []
   },
   "outputs": [],
   "source": [
    "plot_spec_discharge(model_path, model_name, layer=2, times = 300)"
   ]
  },
  {
   "cell_type": "markdown",
   "id": "f5c72e9c-0f34-486d-ab64-b647e25aafc0",
   "metadata": {},
   "source": [
    "### Groundwater level "
   ]
  },
  {
   "cell_type": "code",
   "execution_count": null,
   "id": "793ea635-6122-4238-b84a-87eeb00c775b",
   "metadata": {},
   "outputs": [],
   "source": [
    "show_heads(model_path, model_name, show_wells=False)"
   ]
  },
  {
   "cell_type": "markdown",
   "id": "2127d3df-fe41-4ed7-803c-091d14785578",
   "metadata": {},
   "source": [
    "### Well head "
   ]
  },
  {
   "cell_type": "code",
   "execution_count": null,
   "id": "0c6a27ee-d0d5-4ba3-8f68-8f6b0918e938",
   "metadata": {},
   "outputs": [],
   "source": [
    "show_well_head((1, 5, 5), model_path, model_name, times=[1], y_start=0, y_end=20)"
   ]
  },
  {
   "cell_type": "markdown",
   "id": "5dff2b4b-3a7f-4a18-afe5-d64c4df0cc52",
   "metadata": {},
   "source": [
    "### Contamination plume "
   ]
  },
  {
   "cell_type": "code",
   "execution_count": null,
   "id": "023b5d4d-702f-4486-85b6-a68cf4a871ac",
   "metadata": {},
   "outputs": [],
   "source": [
    "show_concentration(model_path, model_name, show_wells=False, show_arrows=True, show_rivers=False)"
   ]
  },
  {
   "cell_type": "markdown",
   "id": "d36b3501-f2da-45d7-99a0-a8781a3cacf8",
   "metadata": {},
   "source": [
    "### Limitations of the Unregulated Pump-and-Treat Approach\n",
    "\n",
    "An unregulated pump-and-treat (PAT) strategy, where extraction wells operate continuously at maximum capacity, is both inefficient and potentially counterproductive. Without adaptive control, this approach cannot respond to changes in contaminant levels, leading to unnecessary energy use and treatment of clean water. Moreover, excessive pumping risks altering the natural hydraulic gradient, potentially drawing contaminants toward clean areas, including the municipal boundary. In low-permeability zones, it may also reduce effectiveness by bypassing trapped pollutants. Therefore, a controlled, feedback-based strategy is essential to optimize remediation efforts, contain the contamination plume, and maintain water quality standards efficiently."
   ]
  },
  {
   "cell_type": "markdown",
   "id": "08df355f-9a89-4bbf-9727-3cbe4f4a1aa9",
   "metadata": {},
   "source": [
    "## pmyf6 dynamic control "
   ]
  },
  {
   "cell_type": "markdown",
   "id": "bd271477-98e3-4ca9-bc12-1b389784a5ad",
   "metadata": {},
   "source": [
    "### Controlled case "
   ]
  },
  {
   "cell_type": "markdown",
   "id": "0873f400-78b9-433a-8b30-9dd5b3ad0140",
   "metadata": {},
   "source": [
    "The wells will be pumping 24h and regulated by two key thresholds: environmental quality standards for water of 0.1 mg/L (He et al., 2024) and maximum rate per well was 6 m3/h (144 m3 /d) (Song et al., 2024). To increase efficiency, we vary the rate of the pumping wells since optimization is crucial to balance treatment speed, cost and water use.\n",
    "The technical objective is to dynamically regulate the wells based on the values at the observation well, located at the area that we want to protect at the municipal boundary. The state has regulated thresholds for the amount that is possible to extract and treat. That amount can be reached or not. By using a control script, we optimize by regulating the minimum rate needed to maintain the water quality bellow the threshold and implies that we will treat the optimum amount. "
   ]
  },
  {
   "cell_type": "markdown",
   "id": "216a2005-5a99-4ff3-8a2d-e2a4ccb382cc",
   "metadata": {},
   "source": [
    "### Inspect visualization tools"
   ]
  },
  {
   "cell_type": "code",
   "execution_count": null,
   "id": "7267b457-c30b-4408-9597-2b47a36015ea",
   "metadata": {
    "tags": []
   },
   "outputs": [],
   "source": [
    "show_bcs?"
   ]
  },
  {
   "cell_type": "markdown",
   "id": "e8305e3e-df1c-4ad2-a857-21168ceb55a4",
   "metadata": {},
   "source": [
    "### Inspect the parameters by importing the model results "
   ]
  },
  {
   "cell_type": "code",
   "execution_count": null,
   "id": "429ebf0a-1064-45c2-a7bb-c4ec0828ecb7",
   "metadata": {},
   "outputs": [],
   "source": [
    "model_path = r'models/transbase'\n",
    "model_name = 'transbase'"
   ]
  },
  {
   "cell_type": "code",
   "execution_count": null,
   "id": "5e718290-8bef-42a5-8f0c-f027fdb177e0",
   "metadata": {},
   "outputs": [],
   "source": [
    "from pymf6.mf6 import MF6"
   ]
  },
  {
   "cell_type": "code",
   "execution_count": null,
   "id": "ce8d1e61-cc7b-45de-a16b-7680812321b7",
   "metadata": {},
   "outputs": [],
   "source": [
    "mf6 = MF6(model_path)"
   ]
  },
  {
   "cell_type": "code",
   "execution_count": null,
   "id": "5ae3e97c-d848-462d-b28c-b79f76f6c8e7",
   "metadata": {},
   "outputs": [],
   "source": [
    "mf6.models.keys()"
   ]
  },
  {
   "cell_type": "code",
   "execution_count": null,
   "id": "d6d6ecc2-8c60-4112-a21a-4d79b0ff17d4",
   "metadata": {},
   "outputs": [],
   "source": [
    "gwf_models = mf6.models['gwf6']"
   ]
  },
  {
   "cell_type": "code",
   "execution_count": null,
   "id": "26b87095-7877-4280-bd02-35c0b6029d4e",
   "metadata": {},
   "outputs": [],
   "source": [
    "gwf_models.keys()"
   ]
  },
  {
   "cell_type": "code",
   "execution_count": null,
   "id": "d381d44d-c2fc-47ac-b7bd-5b1a94987c71",
   "metadata": {},
   "outputs": [],
   "source": [
    "gwt_models = mf6.models['gwt6']"
   ]
  },
  {
   "cell_type": "code",
   "execution_count": null,
   "id": "d643350c-063b-4084-87f6-59db69e02abd",
   "metadata": {},
   "outputs": [],
   "source": [
    "gwt_models.keys()"
   ]
  },
  {
   "cell_type": "markdown",
   "id": "31c80e8a-9e48-4df8-9e27-f47b66809105",
   "metadata": {},
   "source": [
    "### Inspect model packages "
   ]
  },
  {
   "cell_type": "code",
   "execution_count": null,
   "id": "345e31a4-dd2f-4684-95a0-d1d1bed6dd5d",
   "metadata": {},
   "outputs": [],
   "source": [
    "gwt = gwt_models['gwt_transbase']"
   ]
  },
  {
   "cell_type": "code",
   "execution_count": null,
   "id": "c4867f5d-3727-41a1-99e7-cb58a7e2d6a0",
   "metadata": {},
   "outputs": [],
   "source": [
    "gwf = gwf_models['gwf_transbase']"
   ]
  },
  {
   "cell_type": "code",
   "execution_count": null,
   "id": "06bd798e-e1f5-4fdd-b82b-1517d4a0818f",
   "metadata": {},
   "outputs": [],
   "source": [
    "gwf.packages"
   ]
  },
  {
   "cell_type": "code",
   "execution_count": null,
   "id": "3a193ad1-8741-402f-90fe-fcfeca33cad8",
   "metadata": {},
   "outputs": [],
   "source": [
    "gwt.packages"
   ]
  },
  {
   "cell_type": "markdown",
   "id": "18b44eeb-9f0e-4381-bfbc-58b6c396bcca",
   "metadata": {},
   "source": [
    "### Inspect well package "
   ]
  },
  {
   "cell_type": "code",
   "execution_count": null,
   "id": "4a94a009-ec16-4574-91b0-b652a81b5cab",
   "metadata": {},
   "outputs": [],
   "source": [
    " for _ in mf6.model_loop():\n",
    "        if gwf.kper > 0: # break after\n",
    "            break"
   ]
  },
  {
   "cell_type": "code",
   "execution_count": null,
   "id": "00b2b60e-91cd-4009-b62c-2b215912db94",
   "metadata": {},
   "outputs": [],
   "source": [
    "wel = gwf.packages.get_package('wel-1').as_mutable_bc()"
   ]
  },
  {
   "cell_type": "code",
   "execution_count": null,
   "id": "6daa63c5-0526-4f9c-87a5-09baa750a138",
   "metadata": {},
   "outputs": [],
   "source": [
    "wel.nodelist[:]"
   ]
  },
  {
   "cell_type": "markdown",
   "id": "5caa1d47-2d28-42e2-a879-41c4f2f83171",
   "metadata": {},
   "source": [
    "### Inspect values at any node"
   ]
  },
  {
   "cell_type": "code",
   "execution_count": null,
   "id": "1245e46d-e171-4c34-b2b6-f14f56fa8b1a",
   "metadata": {},
   "outputs": [],
   "source": [
    "initial_head = gwf.X[(1, 6, 7)]\n",
    "initial_head"
   ]
  },
  {
   "cell_type": "markdown",
   "id": "ba1a24e1-2625-4cf7-bb64-5c700c940997",
   "metadata": {},
   "source": [
    "### Forward it to next time-step 2"
   ]
  },
  {
   "cell_type": "code",
   "execution_count": null,
   "id": "1c3d9bd4-bcab-4f70-bf5f-7ec64e64757a",
   "metadata": {},
   "outputs": [],
   "source": [
    "for _ in mf6.model_loop():\n",
    "        if gwf.kper > 1: # break after\n",
    "            break"
   ]
  },
  {
   "cell_type": "markdown",
   "id": "7b1ce4d5-687a-478f-a492-e3d972c3335a",
   "metadata": {},
   "source": [
    "### Concentration at sources"
   ]
  },
  {
   "cell_type": "code",
   "execution_count": null,
   "id": "27554f66-42e5-4e7f-a948-e24a831a4f93",
   "metadata": {},
   "outputs": [],
   "source": [
    "conc = gwt.X[(1, 7, 2)]\n",
    "conc"
   ]
  },
  {
   "cell_type": "code",
   "execution_count": null,
   "id": "09251c02-90ea-4ec1-ad73-e43620906de2",
   "metadata": {},
   "outputs": [],
   "source": [
    "conc = gwt.X[(1, 6, 2)]\n",
    "conc"
   ]
  },
  {
   "cell_type": "code",
   "execution_count": null,
   "id": "772c1ffc-9795-4837-b073-47294b40c9f9",
   "metadata": {},
   "outputs": [],
   "source": [
    "conc = gwt.X[(1, 6, 3)]\n",
    "conc"
   ]
  },
  {
   "cell_type": "code",
   "execution_count": null,
   "id": "2e9ec3fb-8841-4a97-a54b-56f3091a0fe2",
   "metadata": {},
   "outputs": [],
   "source": [
    "conc = gwt.X[(1, 6, 3)]\n",
    "conc"
   ]
  },
  {
   "cell_type": "markdown",
   "id": "2de7b764-cf09-4c28-b0df-b83cd914fbcc",
   "metadata": {},
   "source": [
    "### concentration at observation well "
   ]
  },
  {
   "cell_type": "code",
   "execution_count": null,
   "id": "bfba887f-7a8f-4b57-b6eb-11c2c083ab1a",
   "metadata": {},
   "outputs": [],
   "source": [
    "conc = gwt.X[(1, 6, 7)]\n",
    "conc"
   ]
  },
  {
   "cell_type": "markdown",
   "id": "5085ddd4-68c2-410e-820b-1bd07342abaf",
   "metadata": {},
   "source": [
    "### "
   ]
  },
  {
   "cell_type": "code",
   "execution_count": null,
   "id": "f93ac3c4-10c3-42dd-8624-b52ec8356a2f",
   "metadata": {},
   "outputs": [],
   "source": [
    "for _ in mf6.model_loop():\n",
    "        if gwf.kper > 2: # break after\n",
    "            break"
   ]
  },
  {
   "cell_type": "markdown",
   "id": "51127add-56b6-422f-a314-5697466d9887",
   "metadata": {},
   "source": [
    "### Controlled Well Head "
   ]
  },
  {
   "cell_type": "markdown",
   "id": "dffa5bec-7cbd-4474-b859-cd9e8a096012",
   "metadata": {},
   "source": [
    "### Run the control script "
   ]
  },
  {
   "cell_type": "code",
   "execution_count": null,
   "id": "da79cffd-e5e7-46c6-ab3f-4adfaa94e8b1",
   "metadata": {},
   "outputs": [],
   "source": []
  },
  {
   "cell_type": "markdown",
   "id": "38435a21-f448-44cc-856f-83f5548c495f",
   "metadata": {},
   "source": [
    "### Why running the control has imporve dthe model - back up by numbers "
   ]
  },
  {
   "cell_type": "code",
   "execution_count": null,
   "id": "a48175dc-b573-490a-b9e0-cd24ce7d3204",
   "metadata": {},
   "outputs": [],
   "source": []
  }
 ],
 "metadata": {
  "kernelspec": {
   "display_name": "Python 3 (ipykernel)",
   "language": "python",
   "name": "python3"
  },
  "language_info": {
   "codemirror_mode": {
    "name": "ipython",
    "version": 3
   },
   "file_extension": ".py",
   "mimetype": "text/x-python",
   "name": "python",
   "nbconvert_exporter": "python",
   "pygments_lexer": "ipython3",
   "version": "3.13.5"
  }
 },
 "nbformat": 4,
 "nbformat_minor": 5
}
