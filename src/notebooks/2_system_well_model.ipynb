{
 "cells": [
  {
   "cell_type": "markdown",
   "id": "cd282849-bb38-430c-a734-f1e9795af027",
   "metadata": {},
   "source": [
    "# Pump and Treat - Well System Model"
   ]
  },
  {
   "cell_type": "markdown",
   "id": "7f397289-9870-4fe6-8e06-2281fb86e7f2",
   "metadata": {},
   "source": [
    "![River Base Concept Model](river_and_wells.svg)"
   ]
  },
  {
   "cell_type": "markdown",
   "id": "b667af76-2748-47cf-880f-362f18df551b",
   "metadata": {
    "tags": []
   },
   "source": [
    "# Example description\n",
    "### Spatial configuration\n",
    "There is two simulated aquifer which are separated by an aquitard. The model grid consists of 15 rows, 10 columns, and 3 layers.  Uniform grid spacing with a row and column width of 100.0 meters. The top layer is positioned at an elevation of 15.0 meters, while the bottom layers are situated at elevations of -5.0, -10.0, and -15.0 meters, respectively.\n",
    "### Temporal discretization\n",
    "The model is designed for a simulation period of 10 days, divided into 120 time steps per stress period, with a time step multiplier of 1.0. The simulation is repeated for a total of 3 periods. The model operates in days as time units and meters as length units.\n",
    "### Layer Hydraulic properties \n",
    "Initial hydraulic conductivity values for the three layers are set at 0.5, 0.000006, and 0.5, respectively.\n",
    "The vertical anisotropy ratios for the layers are specified as 0.1, 0.2, and 0.3, indicating differences in hydraulic conductivity in the vertical direction.\n",
    "### Storage properties \n",
    "The specific yield is set at 0.2, representing the volumetric ratio of water that drains under the influence of gravity.The specific storage is specified as 0.000001, representing the compressibility of the aquifer.\n",
    "### Boundary Conditions \n",
    "The model starts with an initial hydraulic head of 10.0 meters across the entire domain. \n",
    "Two constant head boundaries are established at specific locations: one at the intersection of the first layer, first row, and first column and another at the intersection of the last layer, last row, and last column, each set at a constant head of 10.0 meters.\n",
    "### Solute transport conditions \n",
    "The initial concentration of the substance being transported within the groundwater system set to 1.\n",
    "The model simulates a point source contamination: at cell (Layer 0, Row 5, Column 1), the initial concentration is set to 10.\n",
    "Similarly, at cell (Layer 0, Row 6, Column 1), the initial concentration is also set to 10.\n",
    "### Well Boundary Conditions \n",
    "The 3 wells are located at (0, 4, 4), (0, 6, 4) and (0, 8,4); and all wells only reaching the first layer (=0). \n",
    "Discharge or pumping rates associated with the wells are -0.05 (m/d) on the first time-period, -0.5 for the second and -0.05 for the third."
   ]
  },
  {
   "cell_type": "markdown",
   "id": "2b4835b8-8060-469f-9531-f405a2abde39",
   "metadata": {},
   "source": [
    "# Start setting up the model "
   ]
  },
  {
   "cell_type": "markdown",
   "id": "16c80df8-d761-4698-8ca0-f602662ac047",
   "metadata": {
    "tags": []
   },
   "source": [
    "### Magic commands - auto reload of the model each time "
   ]
  },
  {
   "cell_type": "code",
   "execution_count": 1,
   "id": "482a74f0-385b-495d-92f6-9d5b368374d9",
   "metadata": {
    "tags": []
   },
   "outputs": [],
   "source": [
    "%load_ext autoreload"
   ]
  },
  {
   "cell_type": "code",
   "execution_count": null,
   "id": "9a97cf56-15fc-4af5-97b0-309d1744f41d",
   "metadata": {
    "tags": []
   },
   "outputs": [],
   "source": [
    "%autoreload 2"
   ]
  },
  {
   "cell_type": "markdown",
   "id": "1b24c6f7-4000-4666-883e-9c522d464bbb",
   "metadata": {
    "tags": []
   },
   "source": [
    "### Import from pymf6tools the functions to run, get and visualize simulation results"
   ]
  },
  {
   "cell_type": "code",
   "execution_count": 3,
   "id": "a7f6a036-b3b3-4ba5-b02b-1b4c298f7bf2",
   "metadata": {},
   "outputs": [],
   "source": [
    "from pathlib import Path\n",
    "import numpy as np \n",
    "from pymf6.mf6 import MF6\n",
    "import pandas as pd \n",
    "from functools import partial \n",
    "\n",
    "from pymf6_tools.base_model import make_model_data\n",
    "from pymf6_tools.make_model import make_input, run_simulation, get_simulation\n",
    "from pymf6_tools.plotting import show_heads, show_well_head, show_bcs"
   ]
  },
  {
   "cell_type": "code",
   "execution_count": 4,
   "id": "3e931716-42e0-413f-92e3-33c9c8dbd505",
   "metadata": {
    "tags": []
   },
   "outputs": [],
   "source": [
    "from pymf6_tools.plotting import show_heads, show_well_head, show_concentration, show_bcs, show_bot_elevations, show_river_stages, contour_bot_elevations, plot_spec_discharge"
   ]
  },
  {
   "cell_type": "markdown",
   "id": "16231890-25d0-4bc3-b14a-765a966659b6",
   "metadata": {},
   "source": [
    "## Set model path and name "
   ]
  },
  {
   "cell_type": "code",
   "execution_count": 5,
   "id": "0b865120-0329-4a36-8be7-60171efff881",
   "metadata": {},
   "outputs": [],
   "source": [
    "model_path = r'models/transbase'\n",
    "model_name = 'transbase'"
   ]
  },
  {
   "cell_type": "markdown",
   "id": "d3f8ccb6-4fab-4ded-a194-c8faa5cae633",
   "metadata": {
    "tags": []
   },
   "source": [
    "## Run simulation - Uncontrolled"
   ]
  },
  {
   "cell_type": "code",
   "execution_count": 7,
   "id": "1bfa1db4-7c63-4a16-a8b3-116b8f37b9b3",
   "metadata": {
    "tags": []
   },
   "outputs": [
    {
     "name": "stdout",
     "output_type": "stream",
     "text": [
      "loading simulation...\n",
      "  loading simulation name file...\n",
      "  loading tdis package...\n",
      "  loading model gwf6...\n",
      "    loading package dis...\n",
      "    loading package ic...\n",
      "    loading package npf...\n",
      "    loading package sto...\n",
      "    loading package wel...\n",
      "    loading package chd...\n",
      "INFORMATION: maxbound in ('gwf6', 'chd', 'dimensions') changed to 30 based on size of stress_period_data\n",
      "    loading package oc...\n",
      "  loading model gwt6...\n",
      "    loading package dis...\n",
      "    loading package ic...\n",
      "    loading package adv...\n",
      "    loading package dsp...\n",
      "    loading package mst...\n",
      "    loading package ssm...\n",
      "    loading package cnc...\n",
      "    loading package oc...\n",
      "  loading exchange package gwf-gwt_exg_0...\n",
      "  loading solution package gwf_transbase...\n",
      "  loading solution package gwt_transbase...\n",
      "FloPy is using the following executable to run the model: ..\\..\\..\\..\\..\\mf6.6.2_win64\\bin\\mf6.exe\n",
      "                                   MODFLOW 6\n",
      "                U.S. GEOLOGICAL SURVEY MODULAR HYDROLOGIC MODEL\n",
      "                            VERSION 6.6.2 05/12/2025\n",
      "\n",
      "   MODFLOW 6 compiled May 12 2025 12:42:18 with Intel(R) Fortran Intel(R) 64\n",
      "   Compiler Classic for applications running on Intel(R) 64, Version 2021.7.0\n",
      "                             Build 20220726_000000\n",
      "\n",
      "This software has been approved for release by the U.S. Geological \n",
      "Survey (USGS). Although the software has been subjected to rigorous \n",
      "review, the USGS reserves the right to update the software as needed \n",
      "pursuant to further analysis and review. No warranty, expressed or \n",
      "implied, is made by the USGS or the U.S. Government as to the \n",
      "functionality of the software and related material nor shall the \n",
      "fact of release constitute any such warranty. Furthermore, the \n",
      "software is released on condition that neither the USGS nor the U.S. \n",
      "Government shall be held liable for any damages resulting from its \n",
      "authorized or unauthorized use. Also refer to the USGS Water \n",
      "Resources Software User Rights Notice for complete use, copyright, \n",
      "and distribution information.\n",
      "\n",
      " \n",
      " MODFLOW runs in SEQUENTIAL mode\n",
      " \n",
      " Run start date and time (yyyy/mm/dd hh:mm:ss): 2025/07/01 19:47:31\n",
      " \n",
      " Writing simulation list file: mfsim.lst\n",
      " Using Simulation name file: mfsim.nam\n",
      " \n",
      "    Solving:  Stress period:     1    Time step:     1\n",
      "    Solving:  Stress period:     2    Time step:     1\n",
      "    Solving:  Stress period:     2    Time step:     2\n",
      "    Solving:  Stress period:     2    Time step:     3\n",
      "    Solving:  Stress period:     2    Time step:     4\n",
      "    Solving:  Stress period:     2    Time step:     5\n",
      "    Solving:  Stress period:     2    Time step:     6\n",
      "    Solving:  Stress period:     2    Time step:     7\n",
      "    Solving:  Stress period:     2    Time step:     8\n",
      "    Solving:  Stress period:     2    Time step:     9\n",
      "    Solving:  Stress period:     2    Time step:    10\n",
      "    Solving:  Stress period:     2    Time step:    11\n",
      "    Solving:  Stress period:     2    Time step:    12\n",
      "    Solving:  Stress period:     2    Time step:    13\n",
      "    Solving:  Stress period:     2    Time step:    14\n",
      "    Solving:  Stress period:     2    Time step:    15\n",
      "    Solving:  Stress period:     2    Time step:    16\n",
      "    Solving:  Stress period:     2    Time step:    17\n",
      "    Solving:  Stress period:     2    Time step:    18\n",
      "    Solving:  Stress period:     2    Time step:    19\n",
      "    Solving:  Stress period:     2    Time step:    20\n",
      "    Solving:  Stress period:     2    Time step:    21\n",
      "    Solving:  Stress period:     2    Time step:    22\n",
      "    Solving:  Stress period:     2    Time step:    23\n",
      "    Solving:  Stress period:     2    Time step:    24\n",
      "    Solving:  Stress period:     2    Time step:    25\n",
      "    Solving:  Stress period:     2    Time step:    26\n",
      "    Solving:  Stress period:     2    Time step:    27\n",
      "    Solving:  Stress period:     2    Time step:    28\n",
      "    Solving:  Stress period:     2    Time step:    29\n",
      "    Solving:  Stress period:     2    Time step:    30\n",
      "    Solving:  Stress period:     2    Time step:    31\n",
      "    Solving:  Stress period:     2    Time step:    32\n",
      "    Solving:  Stress period:     2    Time step:    33\n",
      "    Solving:  Stress period:     2    Time step:    34\n",
      "    Solving:  Stress period:     2    Time step:    35\n",
      "    Solving:  Stress period:     2    Time step:    36\n",
      "    Solving:  Stress period:     2    Time step:    37\n",
      "    Solving:  Stress period:     2    Time step:    38\n",
      "    Solving:  Stress period:     2    Time step:    39\n",
      "    Solving:  Stress period:     2    Time step:    40\n",
      "    Solving:  Stress period:     2    Time step:    41\n",
      "    Solving:  Stress period:     2    Time step:    42\n",
      "    Solving:  Stress period:     2    Time step:    43\n",
      "    Solving:  Stress period:     2    Time step:    44\n",
      "    Solving:  Stress period:     2    Time step:    45\n",
      "    Solving:  Stress period:     2    Time step:    46\n",
      "    Solving:  Stress period:     2    Time step:    47\n",
      "    Solving:  Stress period:     2    Time step:    48\n",
      "    Solving:  Stress period:     2    Time step:    49\n",
      "    Solving:  Stress period:     2    Time step:    50\n",
      "    Solving:  Stress period:     2    Time step:    51\n",
      "    Solving:  Stress period:     2    Time step:    52\n",
      "    Solving:  Stress period:     2    Time step:    53\n",
      "    Solving:  Stress period:     2    Time step:    54\n",
      "    Solving:  Stress period:     2    Time step:    55\n",
      "    Solving:  Stress period:     2    Time step:    56\n",
      "    Solving:  Stress period:     2    Time step:    57\n",
      "    Solving:  Stress period:     2    Time step:    58\n",
      "    Solving:  Stress period:     2    Time step:    59\n",
      "    Solving:  Stress period:     2    Time step:    60\n",
      "    Solving:  Stress period:     2    Time step:    61\n",
      "    Solving:  Stress period:     2    Time step:    62\n",
      "    Solving:  Stress period:     2    Time step:    63\n",
      "    Solving:  Stress period:     2    Time step:    64\n",
      "    Solving:  Stress period:     2    Time step:    65\n",
      "    Solving:  Stress period:     2    Time step:    66\n",
      "    Solving:  Stress period:     2    Time step:    67\n",
      "    Solving:  Stress period:     2    Time step:    68\n",
      "    Solving:  Stress period:     2    Time step:    69\n",
      "    Solving:  Stress period:     2    Time step:    70\n",
      "    Solving:  Stress period:     2    Time step:    71\n",
      "    Solving:  Stress period:     2    Time step:    72\n",
      "    Solving:  Stress period:     2    Time step:    73\n",
      "    Solving:  Stress period:     2    Time step:    74\n",
      "    Solving:  Stress period:     2    Time step:    75\n",
      "    Solving:  Stress period:     2    Time step:    76\n",
      "    Solving:  Stress period:     2    Time step:    77\n",
      "    Solving:  Stress period:     2    Time step:    78\n",
      "    Solving:  Stress period:     2    Time step:    79\n",
      "    Solving:  Stress period:     2    Time step:    80\n",
      "    Solving:  Stress period:     2    Time step:    81\n",
      "    Solving:  Stress period:     2    Time step:    82\n",
      "    Solving:  Stress period:     2    Time step:    83\n",
      "    Solving:  Stress period:     2    Time step:    84\n",
      "    Solving:  Stress period:     2    Time step:    85\n",
      "    Solving:  Stress period:     2    Time step:    86\n",
      "    Solving:  Stress period:     2    Time step:    87\n",
      "    Solving:  Stress period:     2    Time step:    88\n",
      "    Solving:  Stress period:     2    Time step:    89\n",
      "    Solving:  Stress period:     2    Time step:    90\n",
      "    Solving:  Stress period:     2    Time step:    91\n",
      "    Solving:  Stress period:     2    Time step:    92\n",
      "    Solving:  Stress period:     2    Time step:    93\n",
      "    Solving:  Stress period:     2    Time step:    94\n",
      "    Solving:  Stress period:     2    Time step:    95\n",
      "    Solving:  Stress period:     2    Time step:    96\n",
      "    Solving:  Stress period:     2    Time step:    97\n",
      "    Solving:  Stress period:     2    Time step:    98\n",
      "    Solving:  Stress period:     2    Time step:    99\n",
      "    Solving:  Stress period:     2    Time step:   100\n",
      "    Solving:  Stress period:     2    Time step:   101\n",
      "    Solving:  Stress period:     2    Time step:   102\n",
      "    Solving:  Stress period:     2    Time step:   103\n",
      "    Solving:  Stress period:     2    Time step:   104\n",
      "    Solving:  Stress period:     2    Time step:   105\n",
      "    Solving:  Stress period:     2    Time step:   106\n",
      "    Solving:  Stress period:     2    Time step:   107\n",
      "    Solving:  Stress period:     2    Time step:   108\n",
      "    Solving:  Stress period:     2    Time step:   109\n",
      "    Solving:  Stress period:     2    Time step:   110\n",
      "    Solving:  Stress period:     2    Time step:   111\n",
      "    Solving:  Stress period:     2    Time step:   112\n",
      "    Solving:  Stress period:     2    Time step:   113\n",
      "    Solving:  Stress period:     2    Time step:   114\n",
      "    Solving:  Stress period:     2    Time step:   115\n",
      "    Solving:  Stress period:     2    Time step:   116\n",
      "    Solving:  Stress period:     2    Time step:   117\n",
      "    Solving:  Stress period:     2    Time step:   118\n",
      "    Solving:  Stress period:     2    Time step:   119\n",
      "    Solving:  Stress period:     2    Time step:   120\n",
      "    Solving:  Stress period:     2    Time step:   121\n",
      "    Solving:  Stress period:     2    Time step:   122\n",
      "    Solving:  Stress period:     2    Time step:   123\n",
      "    Solving:  Stress period:     2    Time step:   124\n",
      "    Solving:  Stress period:     2    Time step:   125\n",
      "    Solving:  Stress period:     2    Time step:   126\n",
      "    Solving:  Stress period:     2    Time step:   127\n",
      "    Solving:  Stress period:     2    Time step:   128\n",
      "    Solving:  Stress period:     2    Time step:   129\n",
      "    Solving:  Stress period:     2    Time step:   130\n",
      "    Solving:  Stress period:     2    Time step:   131\n",
      "    Solving:  Stress period:     2    Time step:   132\n",
      "    Solving:  Stress period:     2    Time step:   133\n",
      "    Solving:  Stress period:     2    Time step:   134\n",
      "    Solving:  Stress period:     2    Time step:   135\n",
      "    Solving:  Stress period:     2    Time step:   136\n",
      "    Solving:  Stress period:     2    Time step:   137\n",
      "    Solving:  Stress period:     2    Time step:   138\n",
      "    Solving:  Stress period:     2    Time step:   139\n",
      "    Solving:  Stress period:     2    Time step:   140\n",
      "    Solving:  Stress period:     2    Time step:   141\n",
      "    Solving:  Stress period:     2    Time step:   142\n",
      "    Solving:  Stress period:     2    Time step:   143\n",
      "    Solving:  Stress period:     2    Time step:   144\n",
      "    Solving:  Stress period:     2    Time step:   145\n",
      "    Solving:  Stress period:     2    Time step:   146\n",
      "    Solving:  Stress period:     2    Time step:   147\n",
      "    Solving:  Stress period:     2    Time step:   148\n",
      "    Solving:  Stress period:     2    Time step:   149\n",
      "    Solving:  Stress period:     2    Time step:   150\n",
      "    Solving:  Stress period:     3    Time step:     1\n",
      "    Solving:  Stress period:     3    Time step:     2\n",
      "    Solving:  Stress period:     3    Time step:     3\n",
      "    Solving:  Stress period:     3    Time step:     4\n",
      "    Solving:  Stress period:     3    Time step:     5\n",
      "    Solving:  Stress period:     3    Time step:     6\n",
      "    Solving:  Stress period:     3    Time step:     7\n",
      "    Solving:  Stress period:     3    Time step:     8\n",
      "    Solving:  Stress period:     3    Time step:     9\n",
      "    Solving:  Stress period:     3    Time step:    10\n",
      "    Solving:  Stress period:     3    Time step:    11\n",
      "    Solving:  Stress period:     3    Time step:    12\n",
      "    Solving:  Stress period:     3    Time step:    13\n",
      "    Solving:  Stress period:     3    Time step:    14\n",
      "    Solving:  Stress period:     3    Time step:    15\n",
      "    Solving:  Stress period:     3    Time step:    16\n",
      "    Solving:  Stress period:     3    Time step:    17\n",
      "    Solving:  Stress period:     3    Time step:    18\n",
      "    Solving:  Stress period:     3    Time step:    19\n",
      "    Solving:  Stress period:     3    Time step:    20\n",
      "    Solving:  Stress period:     3    Time step:    21\n",
      "    Solving:  Stress period:     3    Time step:    22\n",
      "    Solving:  Stress period:     3    Time step:    23\n",
      "    Solving:  Stress period:     3    Time step:    24\n",
      "    Solving:  Stress period:     3    Time step:    25\n",
      "    Solving:  Stress period:     3    Time step:    26\n",
      "    Solving:  Stress period:     3    Time step:    27\n",
      "    Solving:  Stress period:     3    Time step:    28\n",
      "    Solving:  Stress period:     3    Time step:    29\n",
      "    Solving:  Stress period:     3    Time step:    30\n",
      "    Solving:  Stress period:     3    Time step:    31\n",
      "    Solving:  Stress period:     3    Time step:    32\n",
      "    Solving:  Stress period:     3    Time step:    33\n",
      "    Solving:  Stress period:     3    Time step:    34\n",
      "    Solving:  Stress period:     3    Time step:    35\n",
      "    Solving:  Stress period:     3    Time step:    36\n",
      "    Solving:  Stress period:     3    Time step:    37\n",
      "    Solving:  Stress period:     3    Time step:    38\n",
      "    Solving:  Stress period:     3    Time step:    39\n",
      "    Solving:  Stress period:     3    Time step:    40\n",
      "    Solving:  Stress period:     3    Time step:    41\n",
      "    Solving:  Stress period:     3    Time step:    42\n",
      "    Solving:  Stress period:     3    Time step:    43\n",
      "    Solving:  Stress period:     3    Time step:    44\n",
      "    Solving:  Stress period:     3    Time step:    45\n",
      "    Solving:  Stress period:     3    Time step:    46\n",
      "    Solving:  Stress period:     3    Time step:    47\n",
      "    Solving:  Stress period:     3    Time step:    48\n",
      "    Solving:  Stress period:     3    Time step:    49\n",
      "    Solving:  Stress period:     3    Time step:    50\n",
      "    Solving:  Stress period:     3    Time step:    51\n",
      "    Solving:  Stress period:     3    Time step:    52\n",
      "    Solving:  Stress period:     3    Time step:    53\n",
      "    Solving:  Stress period:     3    Time step:    54\n",
      "    Solving:  Stress period:     3    Time step:    55\n",
      "    Solving:  Stress period:     3    Time step:    56\n",
      "    Solving:  Stress period:     3    Time step:    57\n",
      "    Solving:  Stress period:     3    Time step:    58\n",
      "    Solving:  Stress period:     3    Time step:    59\n",
      "    Solving:  Stress period:     3    Time step:    60\n",
      "    Solving:  Stress period:     3    Time step:    61\n",
      "    Solving:  Stress period:     3    Time step:    62\n",
      "    Solving:  Stress period:     3    Time step:    63\n",
      "    Solving:  Stress period:     3    Time step:    64\n",
      "    Solving:  Stress period:     3    Time step:    65\n",
      "    Solving:  Stress period:     3    Time step:    66\n",
      "    Solving:  Stress period:     3    Time step:    67\n",
      "    Solving:  Stress period:     3    Time step:    68\n",
      "    Solving:  Stress period:     3    Time step:    69\n",
      "    Solving:  Stress period:     3    Time step:    70\n",
      "    Solving:  Stress period:     3    Time step:    71\n",
      "    Solving:  Stress period:     3    Time step:    72\n",
      "    Solving:  Stress period:     3    Time step:    73\n",
      "    Solving:  Stress period:     3    Time step:    74\n",
      "    Solving:  Stress period:     3    Time step:    75\n",
      "    Solving:  Stress period:     3    Time step:    76\n",
      "    Solving:  Stress period:     3    Time step:    77\n",
      "    Solving:  Stress period:     3    Time step:    78\n",
      "    Solving:  Stress period:     3    Time step:    79\n",
      "    Solving:  Stress period:     3    Time step:    80\n",
      "    Solving:  Stress period:     3    Time step:    81\n",
      "    Solving:  Stress period:     3    Time step:    82\n",
      "    Solving:  Stress period:     3    Time step:    83\n",
      "    Solving:  Stress period:     3    Time step:    84\n",
      "    Solving:  Stress period:     3    Time step:    85\n",
      "    Solving:  Stress period:     3    Time step:    86\n",
      "    Solving:  Stress period:     3    Time step:    87\n",
      "    Solving:  Stress period:     3    Time step:    88\n",
      "    Solving:  Stress period:     3    Time step:    89\n",
      "    Solving:  Stress period:     3    Time step:    90\n",
      "    Solving:  Stress period:     3    Time step:    91\n",
      "    Solving:  Stress period:     3    Time step:    92\n",
      "    Solving:  Stress period:     3    Time step:    93\n",
      "    Solving:  Stress period:     3    Time step:    94\n",
      "    Solving:  Stress period:     3    Time step:    95\n",
      "    Solving:  Stress period:     3    Time step:    96\n",
      "    Solving:  Stress period:     3    Time step:    97\n",
      "    Solving:  Stress period:     3    Time step:    98\n",
      "    Solving:  Stress period:     3    Time step:    99\n",
      "    Solving:  Stress period:     3    Time step:   100\n",
      "    Solving:  Stress period:     3    Time step:   101\n",
      "    Solving:  Stress period:     3    Time step:   102\n",
      "    Solving:  Stress period:     3    Time step:   103\n",
      "    Solving:  Stress period:     3    Time step:   104\n",
      "    Solving:  Stress period:     3    Time step:   105\n",
      "    Solving:  Stress period:     3    Time step:   106\n",
      "    Solving:  Stress period:     3    Time step:   107\n",
      "    Solving:  Stress period:     3    Time step:   108\n",
      "    Solving:  Stress period:     3    Time step:   109\n",
      "    Solving:  Stress period:     3    Time step:   110\n",
      "    Solving:  Stress period:     3    Time step:   111\n",
      "    Solving:  Stress period:     3    Time step:   112\n",
      "    Solving:  Stress period:     3    Time step:   113\n",
      "    Solving:  Stress period:     3    Time step:   114\n",
      "    Solving:  Stress period:     3    Time step:   115\n",
      "    Solving:  Stress period:     3    Time step:   116\n",
      "    Solving:  Stress period:     3    Time step:   117\n",
      "    Solving:  Stress period:     3    Time step:   118\n",
      "    Solving:  Stress period:     3    Time step:   119\n",
      "    Solving:  Stress period:     3    Time step:   120\n",
      "    Solving:  Stress period:     3    Time step:   121\n",
      "    Solving:  Stress period:     3    Time step:   122\n",
      "    Solving:  Stress period:     3    Time step:   123\n",
      "    Solving:  Stress period:     3    Time step:   124\n",
      "    Solving:  Stress period:     3    Time step:   125\n",
      "    Solving:  Stress period:     3    Time step:   126\n",
      "    Solving:  Stress period:     3    Time step:   127\n",
      "    Solving:  Stress period:     3    Time step:   128\n",
      "    Solving:  Stress period:     3    Time step:   129\n",
      "    Solving:  Stress period:     3    Time step:   130\n",
      "    Solving:  Stress period:     3    Time step:   131\n",
      "    Solving:  Stress period:     3    Time step:   132\n",
      "    Solving:  Stress period:     3    Time step:   133\n",
      "    Solving:  Stress period:     3    Time step:   134\n",
      "    Solving:  Stress period:     3    Time step:   135\n",
      "    Solving:  Stress period:     3    Time step:   136\n",
      "    Solving:  Stress period:     3    Time step:   137\n",
      "    Solving:  Stress period:     3    Time step:   138\n",
      "    Solving:  Stress period:     3    Time step:   139\n",
      "    Solving:  Stress period:     3    Time step:   140\n",
      "    Solving:  Stress period:     3    Time step:   141\n",
      "    Solving:  Stress period:     3    Time step:   142\n",
      "    Solving:  Stress period:     3    Time step:   143\n",
      "    Solving:  Stress period:     3    Time step:   144\n",
      "    Solving:  Stress period:     3    Time step:   145\n",
      "    Solving:  Stress period:     3    Time step:   146\n",
      "    Solving:  Stress period:     3    Time step:   147\n",
      "    Solving:  Stress period:     3    Time step:   148\n",
      "    Solving:  Stress period:     3    Time step:   149\n",
      "    Solving:  Stress period:     3    Time step:   150\n",
      "    Solving:  Stress period:     4    Time step:     1\n",
      "    Solving:  Stress period:     4    Time step:     2\n",
      "    Solving:  Stress period:     4    Time step:     3\n",
      "    Solving:  Stress period:     4    Time step:     4\n",
      "    Solving:  Stress period:     4    Time step:     5\n",
      "    Solving:  Stress period:     4    Time step:     6\n",
      "    Solving:  Stress period:     4    Time step:     7\n",
      "    Solving:  Stress period:     4    Time step:     8\n",
      "    Solving:  Stress period:     4    Time step:     9\n",
      "    Solving:  Stress period:     4    Time step:    10\n",
      "    Solving:  Stress period:     4    Time step:    11\n",
      "    Solving:  Stress period:     4    Time step:    12\n",
      "    Solving:  Stress period:     4    Time step:    13\n",
      "    Solving:  Stress period:     4    Time step:    14\n",
      "    Solving:  Stress period:     4    Time step:    15\n",
      "    Solving:  Stress period:     4    Time step:    16\n",
      "    Solving:  Stress period:     4    Time step:    17\n",
      "    Solving:  Stress period:     4    Time step:    18\n",
      "    Solving:  Stress period:     4    Time step:    19\n",
      "    Solving:  Stress period:     4    Time step:    20\n",
      "    Solving:  Stress period:     4    Time step:    21\n",
      "    Solving:  Stress period:     4    Time step:    22\n",
      "    Solving:  Stress period:     4    Time step:    23\n",
      "    Solving:  Stress period:     4    Time step:    24\n",
      "    Solving:  Stress period:     4    Time step:    25\n",
      "    Solving:  Stress period:     4    Time step:    26\n",
      "    Solving:  Stress period:     4    Time step:    27\n",
      "    Solving:  Stress period:     4    Time step:    28\n",
      "    Solving:  Stress period:     4    Time step:    29\n",
      "    Solving:  Stress period:     4    Time step:    30\n",
      "    Solving:  Stress period:     4    Time step:    31\n",
      "    Solving:  Stress period:     4    Time step:    32\n",
      "    Solving:  Stress period:     4    Time step:    33\n",
      "    Solving:  Stress period:     4    Time step:    34\n",
      "    Solving:  Stress period:     4    Time step:    35\n",
      "    Solving:  Stress period:     4    Time step:    36\n",
      "    Solving:  Stress period:     4    Time step:    37\n",
      "    Solving:  Stress period:     4    Time step:    38\n",
      "    Solving:  Stress period:     4    Time step:    39\n",
      "    Solving:  Stress period:     4    Time step:    40\n",
      "    Solving:  Stress period:     4    Time step:    41\n",
      "    Solving:  Stress period:     4    Time step:    42\n",
      "    Solving:  Stress period:     4    Time step:    43\n",
      "    Solving:  Stress period:     4    Time step:    44\n",
      "    Solving:  Stress period:     4    Time step:    45\n",
      "    Solving:  Stress period:     4    Time step:    46\n",
      "    Solving:  Stress period:     4    Time step:    47\n",
      "    Solving:  Stress period:     4    Time step:    48\n",
      "    Solving:  Stress period:     4    Time step:    49\n",
      "    Solving:  Stress period:     4    Time step:    50\n",
      "    Solving:  Stress period:     4    Time step:    51\n",
      "    Solving:  Stress period:     4    Time step:    52\n",
      "    Solving:  Stress period:     4    Time step:    53\n",
      "    Solving:  Stress period:     4    Time step:    54\n",
      "    Solving:  Stress period:     4    Time step:    55\n",
      "    Solving:  Stress period:     4    Time step:    56\n",
      "    Solving:  Stress period:     4    Time step:    57\n",
      "    Solving:  Stress period:     4    Time step:    58\n",
      "    Solving:  Stress period:     4    Time step:    59\n",
      "    Solving:  Stress period:     4    Time step:    60\n",
      "    Solving:  Stress period:     4    Time step:    61\n",
      "    Solving:  Stress period:     4    Time step:    62\n",
      "    Solving:  Stress period:     4    Time step:    63\n",
      "    Solving:  Stress period:     4    Time step:    64\n",
      "    Solving:  Stress period:     4    Time step:    65\n",
      "    Solving:  Stress period:     4    Time step:    66\n",
      "    Solving:  Stress period:     4    Time step:    67\n",
      "    Solving:  Stress period:     4    Time step:    68\n",
      "    Solving:  Stress period:     4    Time step:    69\n",
      "    Solving:  Stress period:     4    Time step:    70\n",
      "    Solving:  Stress period:     4    Time step:    71\n",
      "    Solving:  Stress period:     4    Time step:    72\n",
      "    Solving:  Stress period:     4    Time step:    73\n",
      "    Solving:  Stress period:     4    Time step:    74\n",
      "    Solving:  Stress period:     4    Time step:    75\n",
      "    Solving:  Stress period:     4    Time step:    76\n",
      "    Solving:  Stress period:     4    Time step:    77\n",
      "    Solving:  Stress period:     4    Time step:    78\n",
      "    Solving:  Stress period:     4    Time step:    79\n",
      "    Solving:  Stress period:     4    Time step:    80\n",
      "    Solving:  Stress period:     4    Time step:    81\n",
      "    Solving:  Stress period:     4    Time step:    82\n",
      "    Solving:  Stress period:     4    Time step:    83\n",
      "    Solving:  Stress period:     4    Time step:    84\n",
      "    Solving:  Stress period:     4    Time step:    85\n",
      "    Solving:  Stress period:     4    Time step:    86\n",
      "    Solving:  Stress period:     4    Time step:    87\n",
      "    Solving:  Stress period:     4    Time step:    88\n",
      "    Solving:  Stress period:     4    Time step:    89\n",
      "    Solving:  Stress period:     4    Time step:    90\n",
      "    Solving:  Stress period:     4    Time step:    91\n",
      "    Solving:  Stress period:     4    Time step:    92\n",
      "    Solving:  Stress period:     4    Time step:    93\n",
      "    Solving:  Stress period:     4    Time step:    94\n",
      "    Solving:  Stress period:     4    Time step:    95\n",
      "    Solving:  Stress period:     4    Time step:    96\n",
      "    Solving:  Stress period:     4    Time step:    97\n",
      "    Solving:  Stress period:     4    Time step:    98\n",
      "    Solving:  Stress period:     4    Time step:    99\n",
      "    Solving:  Stress period:     4    Time step:   100\n",
      "    Solving:  Stress period:     4    Time step:   101\n",
      "    Solving:  Stress period:     4    Time step:   102\n",
      "    Solving:  Stress period:     4    Time step:   103\n",
      "    Solving:  Stress period:     4    Time step:   104\n",
      "    Solving:  Stress period:     4    Time step:   105\n",
      "    Solving:  Stress period:     4    Time step:   106\n",
      "    Solving:  Stress period:     4    Time step:   107\n",
      "    Solving:  Stress period:     4    Time step:   108\n",
      "    Solving:  Stress period:     4    Time step:   109\n",
      "    Solving:  Stress period:     4    Time step:   110\n",
      "    Solving:  Stress period:     4    Time step:   111\n",
      "    Solving:  Stress period:     4    Time step:   112\n",
      "    Solving:  Stress period:     4    Time step:   113\n",
      "    Solving:  Stress period:     4    Time step:   114\n",
      "    Solving:  Stress period:     4    Time step:   115\n",
      "    Solving:  Stress period:     4    Time step:   116\n",
      "    Solving:  Stress period:     4    Time step:   117\n",
      "    Solving:  Stress period:     4    Time step:   118\n",
      "    Solving:  Stress period:     4    Time step:   119\n",
      "    Solving:  Stress period:     4    Time step:   120\n",
      "    Solving:  Stress period:     4    Time step:   121\n",
      "    Solving:  Stress period:     4    Time step:   122\n",
      "    Solving:  Stress period:     4    Time step:   123\n",
      "    Solving:  Stress period:     4    Time step:   124\n",
      "    Solving:  Stress period:     4    Time step:   125\n",
      "    Solving:  Stress period:     4    Time step:   126\n",
      "    Solving:  Stress period:     4    Time step:   127\n",
      "    Solving:  Stress period:     4    Time step:   128\n",
      "    Solving:  Stress period:     4    Time step:   129\n",
      "    Solving:  Stress period:     4    Time step:   130\n",
      "    Solving:  Stress period:     4    Time step:   131\n",
      "    Solving:  Stress period:     4    Time step:   132\n",
      "    Solving:  Stress period:     4    Time step:   133\n",
      "    Solving:  Stress period:     4    Time step:   134\n",
      "    Solving:  Stress period:     4    Time step:   135\n",
      "    Solving:  Stress period:     4    Time step:   136\n",
      "    Solving:  Stress period:     4    Time step:   137\n",
      "    Solving:  Stress period:     4    Time step:   138\n",
      "    Solving:  Stress period:     4    Time step:   139\n",
      "    Solving:  Stress period:     4    Time step:   140\n",
      "    Solving:  Stress period:     4    Time step:   141\n",
      "    Solving:  Stress period:     4    Time step:   142\n",
      "    Solving:  Stress period:     4    Time step:   143\n",
      "    Solving:  Stress period:     4    Time step:   144\n",
      "    Solving:  Stress period:     4    Time step:   145\n",
      "    Solving:  Stress period:     4    Time step:   146\n",
      "    Solving:  Stress period:     4    Time step:   147\n",
      "    Solving:  Stress period:     4    Time step:   148\n",
      "    Solving:  Stress period:     4    Time step:   149\n",
      "    Solving:  Stress period:     4    Time step:   150\n",
      " \n",
      " Run end date and time (yyyy/mm/dd hh:mm:ss): 2025/07/01 19:47:33\n",
      " Elapsed run time:  2.463 Seconds\n",
      " \n",
      " Normal termination of simulation.\n"
     ]
    }
   ],
   "source": [
    "run_simulation(model_path, verbosity_level=1)"
   ]
  },
  {
   "cell_type": "code",
   "execution_count": null,
   "id": "bc8fb4d4-3696-4b34-98dd-3d1b7c1520c9",
   "metadata": {},
   "outputs": [],
   "source": [
    "run_simulation?"
   ]
  },
  {
   "cell_type": "markdown",
   "id": "b709e145-451b-4260-ab34-f6a8fa412790",
   "metadata": {},
   "source": [
    "## Visualization of Input and Output - e.g. Boundary conditions and Heads "
   ]
  },
  {
   "cell_type": "markdown",
   "id": "3943cd7b-493e-441e-af36-4f17c08994b8",
   "metadata": {},
   "source": [
    "### Plot Boundary conditions "
   ]
  },
  {
   "cell_type": "markdown",
   "id": "d3a1e043-981b-4b72-85ad-d6b38c4fc531",
   "metadata": {},
   "source": [
    "### Boundary Conditions \n",
    "Note that you should change the \"bc_names\" according to the boundary conditions present in the simulation.  \n",
    "<span style=\"color:blue\">'chd'</span> Constant-head boundary  \n",
    "<span style=\"color:blue\">'wel'</span> River boundary"
   ]
  },
  {
   "cell_type": "code",
   "execution_count": null,
   "id": "1d0f88ee-6fae-4e42-ad71-c61c0822603f",
   "metadata": {},
   "outputs": [],
   "source": [
    "show_bcs?"
   ]
  },
  {
   "cell_type": "code",
   "execution_count": null,
   "id": "45f354f7-bb5d-4c86-a3fc-3d925e6bdd2c",
   "metadata": {
    "tags": []
   },
   "outputs": [],
   "source": [
    "show_bcs(model_path, model_name, bc_names=('chd','wel'))"
   ]
  },
  {
   "cell_type": "markdown",
   "id": "073ee411-b1d9-4cd5-bab7-380cac593f46",
   "metadata": {},
   "source": [
    "### Specific Discharge - Interactive graph (layer and time)\n",
    "Specify the layer and time of the simulation to be visualized."
   ]
  },
  {
   "cell_type": "code",
   "execution_count": null,
   "id": "f0b1d352-0e16-426b-9dcf-2ef60c5ae715",
   "metadata": {},
   "outputs": [],
   "source": [
    "%ls -al \"C:/Users/lucialabarca/pymf6-validation/src/notebooks/models/transbase/gwf_transbase.bud\""
   ]
  },
  {
   "cell_type": "code",
   "execution_count": null,
   "id": "023730b0-603a-4a0a-af4c-c03f379f8ae0",
   "metadata": {
    "tags": []
   },
   "outputs": [],
   "source": [
    "plot_spec_discharge(model_path, model_name, layer=1, times = 300)"
   ]
  },
  {
   "cell_type": "code",
   "execution_count": null,
   "id": "28d0abec-5af0-4b90-bc9c-186768ae6855",
   "metadata": {
    "tags": []
   },
   "outputs": [],
   "source": [
    "#plot_spec_discharge(model_path, model_name, layer=2, times = 300)"
   ]
  },
  {
   "cell_type": "markdown",
   "id": "1a587b8c-9450-428e-bbf4-aa3a3e741f1e",
   "metadata": {},
   "source": [
    "### Groundwater level "
   ]
  },
  {
   "cell_type": "code",
   "execution_count": null,
   "id": "793ea635-6122-4238-b84a-87eeb00c775b",
   "metadata": {},
   "outputs": [],
   "source": [
    "#show_heads(model_path, model_name, show_wells=False)"
   ]
  },
  {
   "cell_type": "markdown",
   "id": "ef9ffe06-22ea-4248-a129-b20e5f4fb32a",
   "metadata": {},
   "source": [
    "### Visualize contamination plume"
   ]
  },
  {
   "cell_type": "markdown",
   "id": "3c91ff95-a26f-49b1-9e72-0d35f02449ef",
   "metadata": {},
   "source": [
    "### Concentration"
   ]
  },
  {
   "cell_type": "code",
   "execution_count": null,
   "id": "ea25516b-f311-427d-be7d-cc2315235cb6",
   "metadata": {},
   "outputs": [],
   "source": [
    "show_concentration(model_path, model_name, show_wells=True, show_arrows=True)"
   ]
  },
  {
   "cell_type": "markdown",
   "id": "2127d3df-fe41-4ed7-803c-091d14785578",
   "metadata": {},
   "source": [
    "### Well head "
   ]
  },
  {
   "cell_type": "code",
   "execution_count": null,
   "id": "0c6a27ee-d0d5-4ba3-8f68-8f6b0918e938",
   "metadata": {},
   "outputs": [],
   "source": [
    "show_well_head((1, 5, 5), model_path, model_name, times=[1], y_start=0, y_end=20)"
   ]
  },
  {
   "cell_type": "markdown",
   "id": "08df355f-9a89-4bbf-9727-3cbe4f4a1aa9",
   "metadata": {},
   "source": [
    "## pmyf6 dynamic control "
   ]
  },
  {
   "cell_type": "markdown",
   "id": "bd271477-98e3-4ca9-bc12-1b389784a5ad",
   "metadata": {},
   "source": [
    "### Controlled case "
   ]
  },
  {
   "cell_type": "markdown",
   "id": "0873f400-78b9-433a-8b30-9dd5b3ad0140",
   "metadata": {},
   "source": [
    "The technical objective is to dynamically regulate the pumping rates of these wells during the simulation based on two key thresholds: the daily treatment capacity (i.e., a maximum allowable extracted volume) and the contaminant concentrations at the municipal boundary, in order to maintain water quality the aquifer located at the protected area. The contamination source was implemented using the Initial Conditions (IC) package, with initial concentration of 10.0 defined at two grid cells: (1, 6, 2) and (1, 7, 2). To track contaminant migration and evaluate the performance of the hydraulic barrier, an observation well was installed on the eastern (right) side of the model at the municipal boundary, at coordinates (1, 6, 7). The extraction wells that form the hydraulic barrier are located at (1, 5, 5), (1, 7, 5), and (1, 9, 5), strategically positioned between the contamination source  and area we want to protect. "
   ]
  },
  {
   "cell_type": "markdown",
   "id": "216a2005-5a99-4ff3-8a2d-e2a4ccb382cc",
   "metadata": {},
   "source": [
    "### Inspect visualization tools"
   ]
  },
  {
   "cell_type": "code",
   "execution_count": null,
   "id": "7267b457-c30b-4408-9597-2b47a36015ea",
   "metadata": {
    "tags": []
   },
   "outputs": [],
   "source": [
    "show_bcs?"
   ]
  },
  {
   "cell_type": "markdown",
   "id": "e8305e3e-df1c-4ad2-a857-21168ceb55a4",
   "metadata": {},
   "source": [
    "### Inspect the parameters by importing the model results "
   ]
  },
  {
   "cell_type": "code",
   "execution_count": null,
   "id": "5e718290-8bef-42a5-8f0c-f027fdb177e0",
   "metadata": {},
   "outputs": [],
   "source": [
    "mf6 = MF6(model_path)"
   ]
  },
  {
   "cell_type": "code",
   "execution_count": null,
   "id": "5ae3e97c-d848-462d-b28c-b79f76f6c8e7",
   "metadata": {},
   "outputs": [],
   "source": [
    "mf6.models.keys()"
   ]
  },
  {
   "cell_type": "code",
   "execution_count": null,
   "id": "d6d6ecc2-8c60-4112-a21a-4d79b0ff17d4",
   "metadata": {},
   "outputs": [],
   "source": [
    "gwf_models = mf6.models['gwf6']"
   ]
  },
  {
   "cell_type": "code",
   "execution_count": null,
   "id": "26b87095-7877-4280-bd02-35c0b6029d4e",
   "metadata": {},
   "outputs": [],
   "source": [
    "gwf_models.keys()"
   ]
  },
  {
   "cell_type": "code",
   "execution_count": null,
   "id": "d381d44d-c2fc-47ac-b7bd-5b1a94987c71",
   "metadata": {},
   "outputs": [],
   "source": [
    "gwt_models = mf6.models['gwt6']"
   ]
  },
  {
   "cell_type": "code",
   "execution_count": null,
   "id": "d643350c-063b-4084-87f6-59db69e02abd",
   "metadata": {},
   "outputs": [],
   "source": [
    "gwt_models.keys()"
   ]
  },
  {
   "cell_type": "markdown",
   "id": "31c80e8a-9e48-4df8-9e27-f47b66809105",
   "metadata": {},
   "source": [
    "### Inspect model packages "
   ]
  },
  {
   "cell_type": "code",
   "execution_count": null,
   "id": "345e31a4-dd2f-4684-95a0-d1d1bed6dd5d",
   "metadata": {},
   "outputs": [],
   "source": [
    "gwt = gwt_models['gwt_transbase']"
   ]
  },
  {
   "cell_type": "code",
   "execution_count": null,
   "id": "c4867f5d-3727-41a1-99e7-cb58a7e2d6a0",
   "metadata": {},
   "outputs": [],
   "source": [
    "gwf = gwf_models['gwf_transbase']"
   ]
  },
  {
   "cell_type": "code",
   "execution_count": null,
   "id": "06bd798e-e1f5-4fdd-b82b-1517d4a0818f",
   "metadata": {},
   "outputs": [],
   "source": [
    "gwf.packages"
   ]
  },
  {
   "cell_type": "code",
   "execution_count": null,
   "id": "3a193ad1-8741-402f-90fe-fcfeca33cad8",
   "metadata": {},
   "outputs": [],
   "source": [
    "gwt.packages"
   ]
  },
  {
   "cell_type": "markdown",
   "id": "18b44eeb-9f0e-4381-bfbc-58b6c396bcca",
   "metadata": {},
   "source": [
    "### Inspect well package "
   ]
  },
  {
   "cell_type": "code",
   "execution_count": null,
   "id": "4a94a009-ec16-4574-91b0-b652a81b5cab",
   "metadata": {},
   "outputs": [],
   "source": [
    " for _ in mf6.model_loop():\n",
    "        if gwf.kper > 0: # break after\n",
    "            break"
   ]
  },
  {
   "cell_type": "code",
   "execution_count": null,
   "id": "00b2b60e-91cd-4009-b62c-2b215912db94",
   "metadata": {},
   "outputs": [],
   "source": [
    "wel = gwf.packages.get_package('wel-1').as_mutable_bc()"
   ]
  },
  {
   "cell_type": "code",
   "execution_count": null,
   "id": "6daa63c5-0526-4f9c-87a5-09baa750a138",
   "metadata": {},
   "outputs": [],
   "source": [
    "wel.nodelist[:]"
   ]
  },
  {
   "cell_type": "markdown",
   "id": "5caa1d47-2d28-42e2-a879-41c4f2f83171",
   "metadata": {},
   "source": [
    "### Inspect values at any node"
   ]
  },
  {
   "cell_type": "code",
   "execution_count": null,
   "id": "1245e46d-e171-4c34-b2b6-f14f56fa8b1a",
   "metadata": {},
   "outputs": [],
   "source": [
    "initial_head = gwf.X[(1, 6, 7)]\n",
    "initial_head"
   ]
  },
  {
   "cell_type": "code",
   "execution_count": null,
   "id": "27554f66-42e5-4e7f-a948-e24a831a4f93",
   "metadata": {},
   "outputs": [],
   "source": [
    "conc = gwt.X[(1, 7, 2)]\n",
    "conc"
   ]
  },
  {
   "cell_type": "code",
   "execution_count": null,
   "id": "09251c02-90ea-4ec1-ad73-e43620906de2",
   "metadata": {},
   "outputs": [],
   "source": [
    "conc = gwt.X[(1, 6, 2)]\n",
    "conc"
   ]
  },
  {
   "cell_type": "code",
   "execution_count": null,
   "id": "bfba887f-7a8f-4b57-b6eb-11c2c083ab1a",
   "metadata": {},
   "outputs": [],
   "source": [
    "conc = gwt.X[(1, 1, 1)]\n",
    "conc"
   ]
  },
  {
   "cell_type": "markdown",
   "id": "51127add-56b6-422f-a314-5697466d9887",
   "metadata": {},
   "source": [
    "### Controlled Well Head "
   ]
  },
  {
   "cell_type": "markdown",
   "id": "dffa5bec-7cbd-4474-b859-cd9e8a096012",
   "metadata": {},
   "source": [
    "### Run the control script "
   ]
  },
  {
   "cell_type": "code",
   "execution_count": null,
   "id": "90dd89ef-2281-4b41-aeb8-4a40968adb5c",
   "metadata": {},
   "outputs": [],
   "source": []
  }
 ],
 "metadata": {
  "kernelspec": {
   "display_name": "Python 3 (ipykernel)",
   "language": "python",
   "name": "python3"
  },
  "language_info": {
   "codemirror_mode": {
    "name": "ipython",
    "version": 3
   },
   "file_extension": ".py",
   "mimetype": "text/x-python",
   "name": "python",
   "nbconvert_exporter": "python",
   "pygments_lexer": "ipython3",
   "version": "3.13.5"
  }
 },
 "nbformat": 4,
 "nbformat_minor": 5
}
