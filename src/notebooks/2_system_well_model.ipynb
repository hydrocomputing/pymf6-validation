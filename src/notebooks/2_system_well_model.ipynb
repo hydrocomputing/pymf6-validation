{
 "cells": [
  {
   "cell_type": "markdown",
   "id": "cd282849-bb38-430c-a734-f1e9795af027",
   "metadata": {},
   "source": [
    "# Well System Model"
   ]
  },
  {
   "cell_type": "markdown",
   "id": "7f397289-9870-4fe6-8e06-2281fb86e7f2",
   "metadata": {},
   "source": [
    "![River Base Concept Model](river_and_wells.svg)"
   ]
  },
  {
   "cell_type": "markdown",
   "id": "b667af76-2748-47cf-880f-362f18df551b",
   "metadata": {
    "tags": []
   },
   "source": [
    "# Example description\n",
    "### Spatial configuration\n",
    "There is two simulated aquifer which are separated by an aquitard. The model grid consists of 15 rows, 10 columns, and 3 layers.  Uniform grid spacing with a row and column width of 100.0 meters. The top layer is positioned at an elevation of 15.0 meters, while the bottom layers are situated at elevations of -5.0, -10.0, and -15.0 meters, respectively.\n",
    "### Temporal discretization\n",
    "The model is designed for a simulation period of 10 days, divided into 120 time steps per stress period, with a time step multiplier of 1.0. The simulation is repeated for a total of 3 periods. The model operates in days as time units and meters as length units.\n",
    "### Layer Hydraulic properties \n",
    "Initial hydraulic conductivity values for the three layers are set at 0.5, 0.000006, and 0.5, respectively.\n",
    "The vertical anisotropy ratios for the layers are specified as 0.1, 0.2, and 0.3, indicating differences in hydraulic conductivity in the vertical direction.\n",
    "### Storage properties \n",
    "The specific yield is set at 0.2, representing the volumetric ratio of water that drains under the influence of gravity.The specific storage is specified as 0.000001, representing the compressibility of the aquifer.\n",
    "### Boundary Conditions \n",
    "The model starts with an initial hydraulic head of 10.0 meters across the entire domain. \n",
    "Two constant head boundaries are established at specific locations: one at the intersection of the first layer, first row, and first column and another at the intersection of the last layer, last row, and last column, each set at a constant head of 10.0 meters.\n",
    "### Solute transport conditions \n",
    "The initial concentration of the substance being transported within the groundwater system set to 1.\n",
    "The model simulates a point source contamination: at cell (Layer 0, Row 5, Column 1), the initial concentration is set to 10.\n",
    "Similarly, at cell (Layer 0, Row 6, Column 1), the initial concentration is also set to 10."
   ]
  },
  {
   "cell_type": "markdown",
   "id": "2b4835b8-8060-469f-9531-f405a2abde39",
   "metadata": {},
   "source": [
    "# Start setting up the model "
   ]
  },
  {
   "cell_type": "markdown",
   "id": "16c80df8-d761-4698-8ca0-f602662ac047",
   "metadata": {
    "tags": []
   },
   "source": [
    "### Magic commands - auto reload of the model each time "
   ]
  },
  {
   "cell_type": "code",
   "execution_count": 1,
   "id": "482a74f0-385b-495d-92f6-9d5b368374d9",
   "metadata": {
    "tags": []
   },
   "outputs": [],
   "source": [
    "%load_ext autoreload"
   ]
  },
  {
   "cell_type": "code",
   "execution_count": 2,
   "id": "9a97cf56-15fc-4af5-97b0-309d1744f41d",
   "metadata": {
    "tags": []
   },
   "outputs": [],
   "source": [
    "%autoreload 2"
   ]
  },
  {
   "cell_type": "markdown",
   "id": "1b24c6f7-4000-4666-883e-9c522d464bbb",
   "metadata": {
    "tags": []
   },
   "source": [
    "### Import from pymf6tools the functions to run, get and visualize simulation results"
   ]
  },
  {
   "cell_type": "code",
   "execution_count": 3,
   "id": "a7f6a036-b3b3-4ba5-b02b-1b4c298f7bf2",
   "metadata": {},
   "outputs": [],
   "source": [
    "from pathlib import Path\n",
    "import numpy as np \n",
    "from pymf6.mf6 import MF6\n",
    "import pandas as pd \n",
    "from functools import partial \n",
    "\n",
    "from pymf6_tools.base_model import make_model_data\n",
    "from pymf6_tools.make_model import make_input, run_simulation, get_simulation\n",
    "from pymf6_tools.plotting import show_heads, show_well_head, show_bcs"
   ]
  },
  {
   "cell_type": "code",
   "execution_count": 4,
   "id": "3e931716-42e0-413f-92e3-33c9c8dbd505",
   "metadata": {
    "tags": []
   },
   "outputs": [],
   "source": [
    "from pymf6_tools.plotting import show_heads, show_well_head, show_concentration, show_bcs, show_bot_elevations, show_river_stages, contour_bot_elevations, plot_spec_discharge"
   ]
  },
  {
   "cell_type": "markdown",
   "id": "16231890-25d0-4bc3-b14a-765a966659b6",
   "metadata": {},
   "source": [
    "## Set model path and name "
   ]
  },
  {
   "cell_type": "code",
   "execution_count": 5,
   "id": "0b865120-0329-4a36-8be7-60171efff881",
   "metadata": {},
   "outputs": [],
   "source": [
    "model_path = r'models/gwf_transbase'\n",
    "model_name = 'transbase'"
   ]
  },
  {
   "cell_type": "markdown",
   "id": "d3f8ccb6-4fab-4ded-a194-c8faa5cae633",
   "metadata": {
    "tags": []
   },
   "source": [
    "## Run simulation"
   ]
  },
  {
   "cell_type": "code",
   "execution_count": 6,
   "id": "1bfa1db4-7c63-4a16-a8b3-116b8f37b9b3",
   "metadata": {
    "tags": []
   },
   "outputs": [],
   "source": [
    "run_simulation(model_path)"
   ]
  },
  {
   "cell_type": "markdown",
   "id": "216a2005-5a99-4ff3-8a2d-e2a4ccb382cc",
   "metadata": {},
   "source": [
    "### Inspect visualization tools"
   ]
  },
  {
   "cell_type": "code",
   "execution_count": 7,
   "id": "7267b457-c30b-4408-9597-2b47a36015ea",
   "metadata": {
    "tags": []
   },
   "outputs": [
    {
     "data": {
      "text/plain": [
       "\u001b[31mSignature:\u001b[39m\n",
       "show_bcs(\n",
       "    model_path,\n",
       "    name,\n",
       "    title=\u001b[33m'Boundary Conditions'\u001b[39m,\n",
       "    bc_names=(\u001b[33m'chd'\u001b[39m, \u001b[33m'wel'\u001b[39m, \u001b[33m'riv'\u001b[39m),\n",
       "    show_grid=\u001b[38;5;28;01mTrue\u001b[39;00m,\n",
       ")\n",
       "\u001b[31mDocstring:\u001b[39m Show location of boundary conditions.\n",
       "\u001b[31mFile:\u001b[39m      c:\\users\\lucialabarca\\pymf6-validation\\.pixi\\envs\\default\\lib\\site-packages\\pymf6_tools\\plotting.py\n",
       "\u001b[31mType:\u001b[39m      function"
      ]
     },
     "metadata": {},
     "output_type": "display_data"
    }
   ],
   "source": [
    "show_bcs?"
   ]
  },
  {
   "cell_type": "markdown",
   "id": "e8305e3e-df1c-4ad2-a857-21168ceb55a4",
   "metadata": {},
   "source": [
    "### Inspect the parameters by importing the model results "
   ]
  },
  {
   "cell_type": "code",
   "execution_count": 8,
   "id": "5e718290-8bef-42a5-8f0c-f027fdb177e0",
   "metadata": {},
   "outputs": [],
   "source": [
    "mf6 = MF6(model_path)"
   ]
  },
  {
   "cell_type": "code",
   "execution_count": 9,
   "id": "5ae3e97c-d848-462d-b28c-b79f76f6c8e7",
   "metadata": {},
   "outputs": [
    {
     "data": {
      "text/plain": [
       "dict_keys(['gwt6', 'gwf6'])"
      ]
     },
     "execution_count": 9,
     "metadata": {},
     "output_type": "execute_result"
    }
   ],
   "source": [
    "mf6.models.keys()"
   ]
  },
  {
   "cell_type": "code",
   "execution_count": 10,
   "id": "d6d6ecc2-8c60-4112-a21a-4d79b0ff17d4",
   "metadata": {},
   "outputs": [],
   "source": [
    "gwf_models = mf6.models['gwf6']"
   ]
  },
  {
   "cell_type": "code",
   "execution_count": 11,
   "id": "26b87095-7877-4280-bd02-35c0b6029d4e",
   "metadata": {},
   "outputs": [
    {
     "data": {
      "text/plain": [
       "dict_keys(['gwf_transbase'])"
      ]
     },
     "execution_count": 11,
     "metadata": {},
     "output_type": "execute_result"
    }
   ],
   "source": [
    "gwf_models.keys()"
   ]
  },
  {
   "cell_type": "code",
   "execution_count": 12,
   "id": "d381d44d-c2fc-47ac-b7bd-5b1a94987c71",
   "metadata": {},
   "outputs": [],
   "source": [
    "gwt_models = mf6.models['gwt6']"
   ]
  },
  {
   "cell_type": "code",
   "execution_count": 13,
   "id": "d643350c-063b-4084-87f6-59db69e02abd",
   "metadata": {},
   "outputs": [
    {
     "data": {
      "text/plain": [
       "dict_keys(['gwt_transbase'])"
      ]
     },
     "execution_count": 13,
     "metadata": {},
     "output_type": "execute_result"
    }
   ],
   "source": [
    "gwt_models.keys()"
   ]
  },
  {
   "cell_type": "code",
   "execution_count": 14,
   "id": "345e31a4-dd2f-4684-95a0-d1d1bed6dd5d",
   "metadata": {},
   "outputs": [],
   "source": [
    "gwt = gwt_models['gwt_transbase']"
   ]
  },
  {
   "cell_type": "code",
   "execution_count": 15,
   "id": "3a193ad1-8741-402f-90fe-fcfeca33cad8",
   "metadata": {},
   "outputs": [
    {
     "data": {
      "text/html": [
       "<div>\n",
       "<style scoped>\n",
       "    .dataframe tbody tr th:only-of-type {\n",
       "        vertical-align: middle;\n",
       "    }\n",
       "\n",
       "    .dataframe tbody tr th {\n",
       "        vertical-align: top;\n",
       "    }\n",
       "\n",
       "    .dataframe thead th {\n",
       "        text-align: right;\n",
       "    }\n",
       "</style>\n",
       "<table border=\"1\" class=\"dataframe\">\n",
       "  <thead>\n",
       "    <tr style=\"text-align: right;\">\n",
       "      <th></th>\n",
       "      <th>description</th>\n",
       "      <th>is_mutable</th>\n",
       "    </tr>\n",
       "    <tr>\n",
       "      <th>name</th>\n",
       "      <th></th>\n",
       "      <th></th>\n",
       "    </tr>\n",
       "  </thead>\n",
       "  <tbody>\n",
       "    <tr>\n",
       "      <th>dis</th>\n",
       "      <td>DIS Package: DIS</td>\n",
       "      <td>False</td>\n",
       "    </tr>\n",
       "    <tr>\n",
       "      <th>mst</th>\n",
       "      <td>MST Package: MST</td>\n",
       "      <td>False</td>\n",
       "    </tr>\n",
       "    <tr>\n",
       "      <th>mvt</th>\n",
       "      <td>MVT Package: MVT</td>\n",
       "      <td>True</td>\n",
       "    </tr>\n",
       "    <tr>\n",
       "      <th>adv</th>\n",
       "      <td>ADV Package: ADV</td>\n",
       "      <td>True</td>\n",
       "    </tr>\n",
       "    <tr>\n",
       "      <th>dsp</th>\n",
       "      <td>DSP Package: DSP</td>\n",
       "      <td>False</td>\n",
       "    </tr>\n",
       "    <tr>\n",
       "      <th>ssm</th>\n",
       "      <td>SSM Package: SSM</td>\n",
       "      <td>True</td>\n",
       "    </tr>\n",
       "    <tr>\n",
       "      <th>ic</th>\n",
       "      <td>IC Package: IC</td>\n",
       "      <td>False</td>\n",
       "    </tr>\n",
       "    <tr>\n",
       "      <th>cnc_0</th>\n",
       "      <td>CNC Package: CNC_0</td>\n",
       "      <td>True</td>\n",
       "    </tr>\n",
       "    <tr>\n",
       "      <th>fmi</th>\n",
       "      <td>FMI Package: FMI</td>\n",
       "      <td>True</td>\n",
       "    </tr>\n",
       "  </tbody>\n",
       "</table>\n",
       "</div><h4 id=\"model-packages\">Model packages</h4>\n",
       "<p>Packages can be accessed via\n",
       "<code>model.packages.package_name</code>. If <code>package_name</code>\n",
       "is not a valid Python identifier, access with pandas logic\n",
       "<code>model.packages.loc['package_name']</code>. Packages that are\n",
       "mutable (<code>is_mutable</code> is True) can be converted in a mutable\n",
       "boundary condition with <code>.as_mutable_bc()</code>.</p>\n"
      ],
      "text/plain": [
       "              description  is_mutable\n",
       "name                                 \n",
       "dis      DIS Package: DIS       False\n",
       "mst      MST Package: MST       False\n",
       "mvt      MVT Package: MVT        True\n",
       "adv      ADV Package: ADV        True\n",
       "dsp      DSP Package: DSP       False\n",
       "ssm      SSM Package: SSM        True\n",
       "ic         IC Package: IC       False\n",
       "cnc_0  CNC Package: CNC_0        True\n",
       "fmi      FMI Package: FMI        True\n",
       "\n",
       "#### Model packages\n",
       "\n",
       "Packages can be accessed via `model.packages.package_name`. If\n",
       "`package_name` is not a valid Python identifier, access with pandas\n",
       "logic `model.packages.loc['package_name']`. Packages that are mutable\n",
       "(`is_mutable` is True) can be converted in a mutable boundary condition\n",
       "with `.as_mutable_bc()`."
      ]
     },
     "execution_count": 15,
     "metadata": {},
     "output_type": "execute_result"
    }
   ],
   "source": [
    "gwt.packages"
   ]
  },
  {
   "cell_type": "markdown",
   "id": "b709e145-451b-4260-ab34-f6a8fa412790",
   "metadata": {},
   "source": [
    "## Visualization of Input and Output - e.g. Boundary conditions and Heads "
   ]
  },
  {
   "cell_type": "markdown",
   "id": "d3a1e043-981b-4b72-85ad-d6b38c4fc531",
   "metadata": {},
   "source": [
    "### Boundary Conditions \n",
    "Note that you should change the \"bc_names\" according to the boundary conditions present in the simulation.  \n",
    "<span style=\"color:blue\">'chd'</span> Constant-head boundary  \n",
    "<span style=\"color:blue\">'riv-1'</span> River boundary"
   ]
  },
  {
   "cell_type": "code",
   "execution_count": 16,
   "id": "1d0f88ee-6fae-4e42-ad71-c61c0822603f",
   "metadata": {},
   "outputs": [
    {
     "data": {
      "text/plain": [
       "\u001b[31mSignature:\u001b[39m\n",
       "show_bcs(\n",
       "    model_path,\n",
       "    name,\n",
       "    title=\u001b[33m'Boundary Conditions'\u001b[39m,\n",
       "    bc_names=(\u001b[33m'chd'\u001b[39m, \u001b[33m'wel'\u001b[39m, \u001b[33m'riv'\u001b[39m),\n",
       "    show_grid=\u001b[38;5;28;01mTrue\u001b[39;00m,\n",
       ")\n",
       "\u001b[31mDocstring:\u001b[39m Show location of boundary conditions.\n",
       "\u001b[31mFile:\u001b[39m      c:\\users\\lucialabarca\\pymf6-validation\\.pixi\\envs\\default\\lib\\site-packages\\pymf6_tools\\plotting.py\n",
       "\u001b[31mType:\u001b[39m      function"
      ]
     },
     "metadata": {},
     "output_type": "display_data"
    }
   ],
   "source": [
    "show_bcs?"
   ]
  },
  {
   "cell_type": "code",
   "execution_count": 17,
   "id": "45f354f7-bb5d-4c86-a3fc-3d925e6bdd2c",
   "metadata": {
    "tags": []
   },
   "outputs": [
    {
     "data": {
      "text/plain": [
       "<matplotlib.collections.QuadMesh at 0x157dfefead0>"
      ]
     },
     "execution_count": 17,
     "metadata": {},
     "output_type": "execute_result"
    },
    {
     "data": {
      "image/png": "[encoded data removed]",
      "text/plain": [
       "<Figure size 640x480 with 1 Axes>"
      ]
     },
     "metadata": {},
     "output_type": "display_data"
    }
   ],
   "source": [
    "show_bcs(model_path, model_name, bc_names=('chd','wel'))"
   ]
  },
  {
   "cell_type": "markdown",
   "id": "073ee411-b1d9-4cd5-bab7-380cac593f46",
   "metadata": {},
   "source": [
    "### Specific Discharge - Interactive graph (layer and time)\n",
    "Specify the layer and time of the simulation to be visualized."
   ]
  },
  {
   "cell_type": "code",
   "execution_count": 18,
   "id": "023730b0-603a-4a0a-af4c-c03f379f8ae0",
   "metadata": {
    "tags": []
   },
   "outputs": [
    {
     "ename": "ValueError",
     "evalue": "datafile error: file is empty: C:\\Users\\lucialabarca\\pymf6-validation\\src\\notebooks\\models\\gwf_transbase\\gwf_transbase.bud",
     "output_type": "error",
     "traceback": [
      "\u001b[31m---------------------------------------------------------------------------\u001b[39m",
      "\u001b[31mValueError\u001b[39m                                Traceback (most recent call last)",
      "\u001b[36mCell\u001b[39m\u001b[36m \u001b[39m\u001b[32mIn[18]\u001b[39m\u001b[32m, line 1\u001b[39m\n\u001b[32m----> \u001b[39m\u001b[32m1\u001b[39m \u001b[43mplot_spec_discharge\u001b[49m\u001b[43m(\u001b[49m\u001b[43mmodel_path\u001b[49m\u001b[43m,\u001b[49m\u001b[43m \u001b[49m\u001b[43mmodel_name\u001b[49m\u001b[43m,\u001b[49m\u001b[43m \u001b[49m\u001b[43mlayer\u001b[49m\u001b[43m=\u001b[49m\u001b[32;43m2\u001b[39;49m\u001b[43m,\u001b[49m\u001b[43m \u001b[49m\u001b[43mtimes\u001b[49m\u001b[43m \u001b[49m\u001b[43m=\u001b[49m\u001b[43m \u001b[49m\u001b[32;43m300\u001b[39;49m\u001b[43m)\u001b[49m\n",
      "\u001b[36mFile \u001b[39m\u001b[32m~\\pymf6-validation\\.pixi\\envs\\default\\Lib\\site-packages\\pymf6_tools\\plotting.py:311\u001b[39m, in \u001b[36mplot_spec_discharge\u001b[39m\u001b[34m(model_path, model_name, layer, times, show_inactive)\u001b[39m\n\u001b[32m    309\u001b[39m gwf_name = \u001b[33m'\u001b[39m\u001b[33mgwf_\u001b[39m\u001b[33m'\u001b[39m + model_name\n\u001b[32m    310\u001b[39m ml = sim.get_model(gwf_name)\n\u001b[32m--> \u001b[39m\u001b[32m311\u001b[39m spdis = \u001b[43mml\u001b[49m\u001b[43m.\u001b[49m\u001b[43moutput\u001b[49m\u001b[43m.\u001b[49m\u001b[43mbudget\u001b[49m\u001b[43m(\u001b[49m\u001b[43m)\u001b[49m.get_data(text=\u001b[33m'\u001b[39m\u001b[33mSPDIS\u001b[39m\u001b[33m'\u001b[39m)[times]\n\u001b[32m    312\u001b[39m head = ml.output.head().get_alldata()[\u001b[32m0\u001b[39m]\n\u001b[32m    313\u001b[39m qx, qy, _ = get_specific_discharge(spdis, ml)\n",
      "\u001b[36mFile \u001b[39m\u001b[32m~\\pymf6-validation\\.pixi\\envs\\default\\Lib\\site-packages\\flopy\\mf6\\utils\\output_util.py:318\u001b[39m, in \u001b[36mMF6Output.__budget\u001b[39m\u001b[34m(self, precision)\u001b[39m\n\u001b[32m    316\u001b[39m \u001b[38;5;28;01mtry\u001b[39;00m:\n\u001b[32m    317\u001b[39m     budget_file = os.path.join(\u001b[38;5;28mself\u001b[39m._sim_ws, \u001b[38;5;28mself\u001b[39m._budget[\u001b[32m0\u001b[39m])\n\u001b[32m--> \u001b[39m\u001b[32m318\u001b[39m     \u001b[38;5;28;01mreturn\u001b[39;00m \u001b[43mCellBudgetFile\u001b[49m\u001b[43m(\u001b[49m\n\u001b[32m    319\u001b[39m \u001b[43m        \u001b[49m\u001b[43mbudget_file\u001b[49m\u001b[43m,\u001b[49m\n\u001b[32m    320\u001b[39m \u001b[43m        \u001b[49m\u001b[43mprecision\u001b[49m\u001b[43m=\u001b[49m\u001b[43mprecision\u001b[49m\u001b[43m,\u001b[49m\n\u001b[32m    321\u001b[39m \u001b[43m        \u001b[49m\u001b[43mmodelgrid\u001b[49m\u001b[43m=\u001b[49m\u001b[38;5;28;43mself\u001b[39;49m\u001b[43m.\u001b[49m\u001b[43m_model\u001b[49m\u001b[43m.\u001b[49m\u001b[43mmodelgrid\u001b[49m\u001b[43m,\u001b[49m\n\u001b[32m    322\u001b[39m \u001b[43m    \u001b[49m\u001b[43m)\u001b[49m\n\u001b[32m    323\u001b[39m \u001b[38;5;28;01mexcept\u001b[39;00m \u001b[38;5;167;01mOSError\u001b[39;00m:\n\u001b[32m    324\u001b[39m     \u001b[38;5;28;01mreturn\u001b[39;00m \u001b[38;5;28;01mNone\u001b[39;00m\n",
      "\u001b[36mFile \u001b[39m\u001b[32m~\\pymf6-validation\\.pixi\\envs\\default\\Lib\\site-packages\\flopy\\utils\\binaryfile\\__init__.py:878\u001b[39m, in \u001b[36mCellBudgetFile.__init__\u001b[39m\u001b[34m(self, filename, precision, verbose, **kwargs)\u001b[39m\n\u001b[32m    876\u001b[39m \u001b[38;5;28;01massert\u001b[39;00m \u001b[38;5;28mself\u001b[39m.file.tell() == \u001b[32m0\u001b[39m\n\u001b[32m    877\u001b[39m \u001b[38;5;28;01mif\u001b[39;00m totalbytes == \u001b[32m0\u001b[39m:\n\u001b[32m--> \u001b[39m\u001b[32m878\u001b[39m     \u001b[38;5;28;01mraise\u001b[39;00m \u001b[38;5;167;01mValueError\u001b[39;00m(\u001b[33mf\u001b[39m\u001b[33m\"\u001b[39m\u001b[33mdatafile error: file is empty: \u001b[39m\u001b[38;5;132;01m{\u001b[39;00mfilename\u001b[38;5;132;01m}\u001b[39;00m\u001b[33m\"\u001b[39m)\n\u001b[32m    879\u001b[39m \u001b[38;5;28mself\u001b[39m.nrow = \u001b[32m0\u001b[39m\n\u001b[32m    880\u001b[39m \u001b[38;5;28mself\u001b[39m.ncol = \u001b[32m0\u001b[39m\n",
      "\u001b[31mValueError\u001b[39m: datafile error: file is empty: C:\\Users\\lucialabarca\\pymf6-validation\\src\\notebooks\\models\\gwf_transbase\\gwf_transbase.bud"
     ]
    }
   ],
   "source": [
    "plot_spec_discharge(model_path, model_name, layer=2, times = 300)"
   ]
  },
  {
   "cell_type": "code",
   "execution_count": null,
   "id": "28d0abec-5af0-4b90-bc9c-186768ae6855",
   "metadata": {
    "tags": []
   },
   "outputs": [],
   "source": [
    "plot_spec_discharge(model_path, model_name, layer=1, times = 300)"
   ]
  },
  {
   "cell_type": "markdown",
   "id": "f67e701a-215a-422e-a5d7-75ce14cb8b9b",
   "metadata": {},
   "source": [
    "### Bottom elevations with Countour lines - Interactive layer \n",
    "Specify the layer to be visualized."
   ]
  },
  {
   "cell_type": "markdown",
   "id": "1a587b8c-9450-428e-bbf4-aa3a3e741f1e",
   "metadata": {},
   "source": [
    "### Groundwater level "
   ]
  },
  {
   "cell_type": "code",
   "execution_count": null,
   "id": "793ea635-6122-4238-b84a-87eeb00c775b",
   "metadata": {},
   "outputs": [],
   "source": [
    "show_heads(model_path, model_name, show_wells=False)"
   ]
  },
  {
   "cell_type": "markdown",
   "id": "3c91ff95-a26f-49b1-9e72-0d35f02449ef",
   "metadata": {},
   "source": [
    "### Concentration"
   ]
  },
  {
   "cell_type": "code",
   "execution_count": null,
   "id": "0c154176-3584-4fa3-ace4-307c94e53bd9",
   "metadata": {
    "tags": []
   },
   "outputs": [],
   "source": [
    "show_concentration(model_path, model_name, show_wells=True, show_arrows=True)"
   ]
  },
  {
   "cell_type": "markdown",
   "id": "51127add-56b6-422f-a314-5697466d9887",
   "metadata": {},
   "source": [
    "### Well Head "
   ]
  },
  {
   "cell_type": "code",
   "execution_count": null,
   "id": "90dd89ef-2281-4b41-aeb8-4a40968adb5c",
   "metadata": {},
   "outputs": [],
   "source": [
    "specific_model_data = {\n",
    "    'model_path': model_path,\n",
    "    'name': model_name,\n",
    "}\n",
    "\n",
    "model_data = make_model_data(specific_model_data)\n",
    "\n",
    "pymf6_model_data = make_model_data(specific_model_data, base_model_data=model_data)\n"
   ]
  },
  {
   "cell_type": "code",
   "execution_count": null,
   "id": "e452d3cc-c301-4d69-b049-e478211dacf9",
   "metadata": {},
   "outputs": [],
   "source": [
    "wel_coords = model_data['wells']['wel_out']['coords']"
   ]
  },
  {
   "cell_type": "code",
   "execution_count": null,
   "id": "6d8eab86-2b90-4866-99ca-4fcab10f137a",
   "metadata": {},
   "outputs": [],
   "source": [
    "from functools import partial\n",
    "\n",
    "show_my_well_head = partial(show_well_head,\n",
    "                            wel_coords=wel_coords,\n",
    "                            lower_head_limit=0.49,\n",
    "                            upper_head_limit=0.51)"
   ]
  },
  {
   "cell_type": "code",
   "execution_count": null,
   "id": "37ad56f6-7213-468e-9873-6109d02ddff6",
   "metadata": {},
   "outputs": [],
   "source": [
    "show_my_well_head(model_data=pymf6_model_data)"
   ]
  },
  {
   "cell_type": "code",
   "execution_count": null,
   "id": "4128ce90-bd91-4bd6-b507-04521a48b990",
   "metadata": {},
   "outputs": [],
   "source": []
  }
 ],
 "metadata": {
  "kernelspec": {
   "display_name": "Python 3 (ipykernel)",
   "language": "python",
   "name": "python3"
  },
  "language_info": {
   "codemirror_mode": {
    "name": "ipython",
    "version": 3
   },
   "file_extension": ".py",
   "mimetype": "text/x-python",
   "name": "python",
   "nbconvert_exporter": "python",
   "pygments_lexer": "ipython3",
   "version": "3.13.5"
  }
 },
 "nbformat": 4,
 "nbformat_minor": 5
}
