{
 "cells": [
  {
   "cell_type": "code",
   "execution_count": 14,
   "id": "bbc0779b-ae3f-4752-be6e-da52e3493053",
   "metadata": {},
   "outputs": [],
   "source": [
    "# Trial test "
   ]
  },
  {
   "cell_type": "code",
   "execution_count": 15,
   "id": "72b83189-f8f2-46b6-8f64-91be5d675797",
   "metadata": {},
   "outputs": [],
   "source": [
    "from pymf6.mf6 import MF6"
   ]
  },
  {
   "cell_type": "code",
   "execution_count": 16,
   "id": "21d8d78f-b1cb-4d82-8773-d711009693b9",
   "metadata": {},
   "outputs": [],
   "source": [
    "model_path = 'models/gwf_riverbase'\n",
    "name = \"gwf_riverbase\""
   ]
  },
  {
   "cell_type": "code",
   "execution_count": null,
   "id": "83679811-4c48-43d8-9ee6-05d4f55392d5",
   "metadata": {},
   "outputs": [],
   "source": [
    "mf6 = MF6(sim_path=model_path)"
   ]
  },
  {
   "cell_type": "code",
   "execution_count": null,
   "id": "38808e0e-8008-481d-a67b-ec548e77af80",
   "metadata": {},
   "outputs": [],
   "source": [
    "mf6"
   ]
  },
  {
   "cell_type": "code",
   "execution_count": null,
   "id": "3de402f4-f291-46f9-adc4-1c430990bb6c",
   "metadata": {},
   "outputs": [],
   "source": [
    "mf6.info"
   ]
  },
  {
   "cell_type": "code",
   "execution_count": null,
   "id": "5026d959-d81a-4f17-b68a-ce1489047e82",
   "metadata": {},
   "outputs": [],
   "source": [
    "mf6.simulation"
   ]
  },
  {
   "cell_type": "code",
   "execution_count": null,
   "id": "42fd25e7-7be8-4d46-acbb-c2d849adcb93",
   "metadata": {},
   "outputs": [],
   "source": [
    "mf6.simulation.model_names "
   ]
  },
  {
   "cell_type": "code",
   "execution_count": null,
   "id": "dfaec230-7892-4537-9710-2d0ca53e1ea7",
   "metadata": {},
   "outputs": [],
   "source": []
  }
 ],
 "metadata": {
  "kernelspec": {
   "display_name": "Python 3 (ipykernel)",
   "language": "python",
   "name": "python3"
  },
  "language_info": {
   "codemirror_mode": {
    "name": "ipython",
    "version": 3
   },
   "file_extension": ".py",
   "mimetype": "text/x-python",
   "name": "python",
   "nbconvert_exporter": "python",
   "pygments_lexer": "ipython3",
   "version": "3.13.5"
  }
 },
 "nbformat": 4,
 "nbformat_minor": 5
}
