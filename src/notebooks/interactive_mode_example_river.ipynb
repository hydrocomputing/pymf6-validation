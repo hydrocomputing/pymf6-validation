{
 "cells": [
  {
   "cell_type": "code",
   "execution_count": 1,
   "id": "bf55008c-ea35-4b96-ade0-577b39d71dab",
   "metadata": {},
   "outputs": [],
   "source": [
    "#Trial test"
   ]
  },
  {
   "cell_type": "code",
   "execution_count": 2,
   "id": "870221dd-2c65-4f4b-8532-aecb88ba60ac",
   "metadata": {},
   "outputs": [],
   "source": [
    "import pandas as pd\n",
    "\n",
    "from pymf6.modeling_tools import make_model\n",
    "from pymf6.modeling_tools.base_model import make_model_data\n",
    "from pymf6.modeling_tools.plotting import show_well_head\n",
    "from pymf6.mf6 import MF6"
   ]
  },
  {
   "cell_type": "code",
   "execution_count": 3,
   "id": "162122b9-bb79-47a9-bdec-5996eeae559a",
   "metadata": {},
   "outputs": [],
   "source": [
    "model_path = 'models/riverbase'\n",
    "name = \"riverbase\"\n",
    "\n",
    "specific_model_data = {\n",
    "    'model_path': model_path,\n",
    "    'name': name,\n",
    "}\n",
    "\n",
    "model_data = make_model_data(specific_model_data)\n",
    "\n",
    "pymf6_model_data = make_model_data(specific_model_data, base_model_data=model_data)"
   ]
  },
  {
   "cell_type": "code",
   "execution_count": 4,
   "id": "86190d52-285a-4198-a24f-57745a21539f",
   "metadata": {},
   "outputs": [],
   "source": [
    "wel_coords = model_data['wells']['wel_out']['coords']"
   ]
  },
  {
   "cell_type": "code",
   "execution_count": 5,
   "id": "228259a1-2d92-447f-8b1d-cfe8f349c120",
   "metadata": {},
   "outputs": [],
   "source": [
    "from functools import partial\n",
    "\n",
    "show_my_well_head = partial(show_well_head,\n",
    "                            wel_coords=wel_coords,\n",
    "                            lower_head_limit=0.49,\n",
    "                            upper_head_limit=0.51)"
   ]
  },
  {
   "cell_type": "code",
   "execution_count": 6,
   "id": "84c9530d-920d-4346-b9da-9ff6c10cb0f1",
   "metadata": {},
   "outputs": [],
   "source": [
    "make_model.make_input(\n",
    "    pymf6_model_data\n",
    ")"
   ]
  },
  {
   "cell_type": "code",
   "execution_count": 7,
   "id": "0e9e24e7-f269-4fd2-a2d4-5c0dc1c8a003",
   "metadata": {},
   "outputs": [],
   "source": [
    "tolerance = 0.01\n",
    "head_limit = 0.5\n",
    "upper_limit = head_limit + tolerance\n",
    "lower_limit = head_limit - tolerance"
   ]
  },
  {
   "cell_type": "code",
   "execution_count": 8,
   "id": "08dbbde3-3aa6-48d8-b339-91a6317fdccf",
   "metadata": {},
   "outputs": [
    {
     "data": {
      "text/plain": [
       "\u001b[31mInit signature:\u001b[39m\n",
       "MF6(\n",
       "    sim_path,\n",
       "    dll_path=\u001b[38;5;28;01mNone\u001b[39;00m,\n",
       "    use_modflow_api=\u001b[38;5;28;01mTrue\u001b[39;00m,\n",
       "    advance_first_step=\u001b[38;5;28;01mTrue\u001b[39;00m,\n",
       "    verbose=\u001b[38;5;28;01mFalse\u001b[39;00m,\n",
       "    new_step_only=\u001b[38;5;28;01mFalse\u001b[39;00m,\n",
       "    do_solution_loop=\u001b[38;5;28;01mTrue\u001b[39;00m,\n",
       "    _develop=\u001b[38;5;28;01mFalse\u001b[39;00m,\n",
       ")\n",
       "\u001b[31mDocstring:\u001b[39m     \n",
       "Wrapper around XmiWrapper and modflowapi.\n",
       "\n",
       "`advance_first_step = True` progresses to the first model step with\n",
       "model time > 0. This is needed to access any internal values of BCs.\n",
       "\u001b[31mFile:\u001b[39m           c:\\users\\lucialabarca\\pymf6-validation\\.pixi\\envs\\default\\lib\\site-packages\\pymf6\\mf6.py\n",
       "\u001b[31mType:\u001b[39m           type\n",
       "\u001b[31mSubclasses:\u001b[39m     "
      ]
     },
     "metadata": {},
     "output_type": "display_data"
    }
   ],
   "source": [
    "MF6?"
   ]
  },
  {
   "cell_type": "code",
   "execution_count": 35,
   "id": "fc1e2acf-d628-4550-b8c2-bfcc12fe2ada",
   "metadata": {},
   "outputs": [],
   "source": [
    "mf6 = MF6(model_path)"
   ]
  },
  {
   "cell_type": "code",
   "execution_count": 36,
   "id": "9335ed40-cb2d-456c-b89f-30afb625a921",
   "metadata": {},
   "outputs": [
    {
     "data": {
      "text/plain": [
       "dict_keys(['gwf6'])"
      ]
     },
     "execution_count": 36,
     "metadata": {},
     "output_type": "execute_result"
    }
   ],
   "source": [
    "mf6.models.keys()"
   ]
  },
  {
   "cell_type": "code",
   "execution_count": null,
   "id": "b36c7505-a496-4019-a962-83bba5dd774f",
   "metadata": {},
   "outputs": [],
   "source": []
  },
  {
   "cell_type": "code",
   "execution_count": 11,
   "id": "1e60cc64-ae18-4e00-a4f2-3c82579ebbe7",
   "metadata": {},
   "outputs": [],
   "source": [
    "gwf_models = mf6.models['gwf6']"
   ]
  },
  {
   "cell_type": "code",
   "execution_count": 12,
   "id": "6ce0c3cc-14b4-429a-908f-a04ac852bda0",
   "metadata": {},
   "outputs": [],
   "source": [
    "flow_models = mf6.models['gwf6']"
   ]
  },
  {
   "cell_type": "code",
   "execution_count": 13,
   "id": "b0746b0f-fad2-4648-b688-4bb8affe39b9",
   "metadata": {},
   "outputs": [
    {
     "data": {
      "text/plain": [
       "dict_keys(['riverbase'])"
      ]
     },
     "execution_count": 13,
     "metadata": {},
     "output_type": "execute_result"
    }
   ],
   "source": [
    "flow_models.keys()"
   ]
  },
  {
   "cell_type": "code",
   "execution_count": 14,
   "id": "0013263e-65f8-4704-9dc9-ec4415352849",
   "metadata": {},
   "outputs": [],
   "source": [
    "gwf = flow_models['riverbase']"
   ]
  },
  {
   "cell_type": "code",
   "execution_count": 15,
   "id": "33315dfa-7843-48ae-9f1b-530804243dde",
   "metadata": {},
   "outputs": [
    {
     "data": {
      "text/plain": [
       "np.int32(4)"
      ]
     },
     "execution_count": 15,
     "metadata": {},
     "output_type": "execute_result"
    }
   ],
   "source": [
    "gwf.nper"
   ]
  },
  {
   "cell_type": "code",
   "execution_count": 16,
   "id": "6f7616c0-f642-41a3-be89-286a09e0f7f3",
   "metadata": {},
   "outputs": [
    {
     "data": {
      "text/html": [
       "<div>\n",
       "<style scoped>\n",
       "    .dataframe tbody tr th:only-of-type {\n",
       "        vertical-align: middle;\n",
       "    }\n",
       "\n",
       "    .dataframe tbody tr th {\n",
       "        vertical-align: top;\n",
       "    }\n",
       "\n",
       "    .dataframe thead th {\n",
       "        text-align: right;\n",
       "    }\n",
       "</style>\n",
       "<table border=\"1\" class=\"dataframe\">\n",
       "  <thead>\n",
       "    <tr style=\"text-align: right;\">\n",
       "      <th></th>\n",
       "      <th>description</th>\n",
       "      <th>is_mutable</th>\n",
       "    </tr>\n",
       "    <tr>\n",
       "      <th>name</th>\n",
       "      <th></th>\n",
       "      <th></th>\n",
       "    </tr>\n",
       "  </thead>\n",
       "  <tbody>\n",
       "    <tr>\n",
       "      <th>dis</th>\n",
       "      <td>DIS Package: DIS</td>\n",
       "      <td>False</td>\n",
       "    </tr>\n",
       "    <tr>\n",
       "      <th>gnc</th>\n",
       "      <td>GNC Package: GNC</td>\n",
       "      <td>True</td>\n",
       "    </tr>\n",
       "    <tr>\n",
       "      <th>sto</th>\n",
       "      <td>STO Package: STO</td>\n",
       "      <td>False</td>\n",
       "    </tr>\n",
       "    <tr>\n",
       "      <th>npf</th>\n",
       "      <td>NPF Package: NPF</td>\n",
       "      <td>False</td>\n",
       "    </tr>\n",
       "    <tr>\n",
       "      <th>hfb</th>\n",
       "      <td>HFB Package: HFB</td>\n",
       "      <td>True</td>\n",
       "    </tr>\n",
       "    <tr>\n",
       "      <th>mywell</th>\n",
       "      <td>WEL Package: MYWELL</td>\n",
       "      <td>True</td>\n",
       "    </tr>\n",
       "    <tr>\n",
       "      <th>mvr</th>\n",
       "      <td>MVR Package: MVR</td>\n",
       "      <td>True</td>\n",
       "    </tr>\n",
       "    <tr>\n",
       "      <th>ic</th>\n",
       "      <td>IC Package: IC</td>\n",
       "      <td>False</td>\n",
       "    </tr>\n",
       "    <tr>\n",
       "      <th>vsc</th>\n",
       "      <td>VSC Package: VSC</td>\n",
       "      <td>True</td>\n",
       "    </tr>\n",
       "    <tr>\n",
       "      <th>buy</th>\n",
       "      <td>BUY Package: BUY</td>\n",
       "      <td>True</td>\n",
       "    </tr>\n",
       "    <tr>\n",
       "      <th>csub</th>\n",
       "      <td>CSUB Package: CSUB</td>\n",
       "      <td>True</td>\n",
       "    </tr>\n",
       "    <tr>\n",
       "      <th>chd_0</th>\n",
       "      <td>CHD Package: CHD_0</td>\n",
       "      <td>True</td>\n",
       "    </tr>\n",
       "  </tbody>\n",
       "</table>\n",
       "</div><h4 id=\"model-packages\">Model packages</h4>\n",
       "<p>Packages can be accessed via\n",
       "<code>model.packages.package_name</code>. If <code>package_name</code>\n",
       "is not a valid Python identifier, access with pandas logic\n",
       "<code>model.packages.loc['package_name']</code>. Packages that are\n",
       "mutable (<code>is_mutable</code> is True) can be converted in a mutable\n",
       "boundary condition with <code>.as_mutable_bc()</code>.</p>\n"
      ],
      "text/plain": [
       "                description  is_mutable\n",
       "name                                   \n",
       "dis        DIS Package: DIS       False\n",
       "gnc        GNC Package: GNC        True\n",
       "sto        STO Package: STO       False\n",
       "npf        NPF Package: NPF       False\n",
       "hfb        HFB Package: HFB        True\n",
       "mywell  WEL Package: MYWELL        True\n",
       "mvr        MVR Package: MVR        True\n",
       "ic           IC Package: IC       False\n",
       "vsc        VSC Package: VSC        True\n",
       "buy        BUY Package: BUY        True\n",
       "csub     CSUB Package: CSUB        True\n",
       "chd_0    CHD Package: CHD_0        True\n",
       "\n",
       "#### Model packages\n",
       "\n",
       "Packages can be accessed via `model.packages.package_name`. If\n",
       "`package_name` is not a valid Python identifier, access with pandas\n",
       "logic `model.packages.loc['package_name']`. Packages that are mutable\n",
       "(`is_mutable` is True) can be converted in a mutable boundary condition\n",
       "with `.as_mutable_bc()`."
      ]
     },
     "execution_count": 16,
     "metadata": {},
     "output_type": "execute_result"
    }
   ],
   "source": [
    "gwf.packages"
   ]
  },
  {
   "cell_type": "code",
   "execution_count": 17,
   "id": "1c3f038b-3c91-4d56-b834-921baf2da1d1",
   "metadata": {},
   "outputs": [
    {
     "ename": "ValueError",
     "evalue": "No values yet.\nBoundary condition MYWELL does not have any values for current stress periods.\nAdvance to a stress period with values and call this function again.",
     "output_type": "error",
     "traceback": [
      "\u001b[31m---------------------------------------------------------------------------\u001b[39m",
      "\u001b[31mValueError\u001b[39m                                Traceback (most recent call last)",
      "\u001b[36mCell\u001b[39m\u001b[36m \u001b[39m\u001b[32mIn[17]\u001b[39m\u001b[32m, line 1\u001b[39m\n\u001b[32m----> \u001b[39m\u001b[32m1\u001b[39m \u001b[43mgwf\u001b[49m\u001b[43m.\u001b[49m\u001b[43mpackages\u001b[49m\u001b[43m.\u001b[49m\u001b[43mmywell\u001b[49m\u001b[43m.\u001b[49m\u001b[43mas_mutable_bc\u001b[49m\u001b[43m(\u001b[49m\u001b[43m)\u001b[49m\n",
      "\u001b[36mFile \u001b[39m\u001b[32m~\\pymf6-validation\\.pixi\\envs\\default\\Lib\\site-packages\\pymf6\\mf6.py:362\u001b[39m, in \u001b[36mPackages.__init__.<locals>.as_mutable_bc\u001b[39m\u001b[34m(self)\u001b[39m\n\u001b[32m    360\u001b[39m \u001b[38;5;28;01mdef\u001b[39;00m\u001b[38;5;250m \u001b[39m\u001b[34mas_mutable_bc\u001b[39m(\u001b[38;5;28mself\u001b[39m):\n\u001b[32m    361\u001b[39m \u001b[38;5;250m    \u001b[39m\u001b[33;03m\"\"\"Turn package in a mutable boundary condition.\"\"\"\u001b[39;00m\n\u001b[32m--> \u001b[39m\u001b[32m362\u001b[39m     \u001b[38;5;28;01mreturn\u001b[39;00m \u001b[43mcreate_mutable_bc\u001b[49m\u001b[43m(\u001b[49m\u001b[38;5;28;43mself\u001b[39;49m\u001b[43m)\u001b[49m\n",
      "\u001b[36mFile \u001b[39m\u001b[32m~\\pymf6-validation\\.pixi\\envs\\default\\Lib\\site-packages\\pymf6\\api.py:212\u001b[39m, in \u001b[36mcreate_mutable_bc\u001b[39m\u001b[34m(package)\u001b[39m\n\u001b[32m    210\u001b[39m     msg += \u001b[33mf\u001b[39m\u001b[33m'\u001b[39m\u001b[33mBoundary condition \u001b[39m\u001b[38;5;132;01m{\u001b[39;00mpackage.pkg_name\u001b[38;5;132;01m}\u001b[39;00m\u001b[33m does not have any values for current stress periods.\u001b[39m\u001b[38;5;130;01m\\n\u001b[39;00m\u001b[33m'\u001b[39m\n\u001b[32m    211\u001b[39m     msg += \u001b[33m'\u001b[39m\u001b[33mAdvance to a stress period with values and call this function again.\u001b[39m\u001b[33m'\u001b[39m\n\u001b[32m--> \u001b[39m\u001b[32m212\u001b[39m     \u001b[38;5;28;01mraise\u001b[39;00m \u001b[38;5;167;01mValueError\u001b[39;00m(msg)\n\u001b[32m    213\u001b[39m \u001b[38;5;28;01mtry\u001b[39;00m:\n\u001b[32m    214\u001b[39m     package.stress_period_data\n",
      "\u001b[31mValueError\u001b[39m: No values yet.\nBoundary condition MYWELL does not have any values for current stress periods.\nAdvance to a stress period with values and call this function again."
     ]
    }
   ],
   "source": [
    "gwf.packages.mywell.as_mutable_bc()"
   ]
  },
  {
   "cell_type": "code",
   "execution_count": 18,
   "id": "99f70013-d2ed-43f1-87a1-abf5431ba3ba",
   "metadata": {},
   "outputs": [],
   "source": [
    "loop = mf6.model_loop()"
   ]
  },
  {
   "cell_type": "code",
   "execution_count": 21,
   "id": "35412c27-26c9-4ecd-a74e-e57948a7e2e3",
   "metadata": {},
   "outputs": [],
   "source": [
    "for model_step in loop:\n",
    "    if gwf.kper > 0:\n",
    "        break"
   ]
  },
  {
   "cell_type": "code",
   "execution_count": 22,
   "id": "7541be45-d057-4550-afeb-36dd297c7011",
   "metadata": {},
   "outputs": [
    {
     "data": {
      "text/plain": [
       "<States.stress_period_start: 1>"
      ]
     },
     "execution_count": 22,
     "metadata": {},
     "output_type": "execute_result"
    }
   ],
   "source": [
    "model_step.state"
   ]
  },
  {
   "cell_type": "code",
   "execution_count": 24,
   "id": "395a77a8-44b3-4174-80e5-a459ae927af2",
   "metadata": {},
   "outputs": [],
   "source": [
    "mywell = gwf.packages.mywell.as_mutable_bc()"
   ]
  },
  {
   "cell_type": "code",
   "execution_count": 25,
   "id": "22c52a59-decf-4b75-b950-24ea067b5318",
   "metadata": {},
   "outputs": [
    {
     "data": {
      "text/html": [
       "<div>\n",
       "<style scoped>\n",
       "    .dataframe tbody tr th:only-of-type {\n",
       "        vertical-align: middle;\n",
       "    }\n",
       "\n",
       "    .dataframe tbody tr th {\n",
       "        vertical-align: top;\n",
       "    }\n",
       "\n",
       "    .dataframe thead th {\n",
       "        text-align: right;\n",
       "    }\n",
       "</style>\n",
       "<table border=\"1\" class=\"dataframe\">\n",
       "  <thead>\n",
       "    <tr style=\"text-align: right;\">\n",
       "      <th></th>\n",
       "      <th>nodelist</th>\n",
       "      <th>q</th>\n",
       "    </tr>\n",
       "  </thead>\n",
       "  <tbody>\n",
       "    <tr>\n",
       "      <th>0</th>\n",
       "      <td>(0, 4, 4)</td>\n",
       "      <td>-0.05</td>\n",
       "    </tr>\n",
       "  </tbody>\n",
       "</table>\n",
       "</div>"
      ],
      "text/plain": [
       "    nodelist     q\n",
       "0  (0, 4, 4) -0.05"
      ]
     },
     "execution_count": 25,
     "metadata": {},
     "output_type": "execute_result"
    }
   ],
   "source": [
    "mywell"
   ]
  },
  {
   "cell_type": "code",
   "execution_count": 26,
   "id": "128f958c-ab84-46db-80fd-7057a0ef9563",
   "metadata": {},
   "outputs": [
    {
     "data": {
      "text/plain": [
       "<States.stress_period_start: 1>"
      ]
     },
     "execution_count": 26,
     "metadata": {},
     "output_type": "execute_result"
    }
   ],
   "source": [
    "model_step.state "
   ]
  },
  {
   "cell_type": "code",
   "execution_count": 27,
   "id": "593976c6-45ac-48df-829a-d75c03f6458b",
   "metadata": {},
   "outputs": [
    {
     "data": {
      "text/plain": [
       "['riverbase']"
      ]
     },
     "execution_count": 27,
     "metadata": {},
     "output_type": "execute_result"
    }
   ],
   "source": [
    "model_step.simulation_group.model_names"
   ]
  },
  {
   "cell_type": "code",
   "execution_count": 28,
   "id": "64baac7f-9f97-4996-88d1-fb8d4fd035a9",
   "metadata": {},
   "outputs": [
    {
     "data": {
      "text/plain": [
       "np.int32(1)"
      ]
     },
     "execution_count": 28,
     "metadata": {},
     "output_type": "execute_result"
    }
   ],
   "source": [
    "model_step.simulation_group.kper"
   ]
  },
  {
   "cell_type": "code",
   "execution_count": 29,
   "id": "c5ac6c93-c441-4ade-a901-6ae15066b435",
   "metadata": {},
   "outputs": [
    {
     "data": {
      "text/plain": [
       "np.float64(1.0833333333333333)"
      ]
     },
     "execution_count": 29,
     "metadata": {},
     "output_type": "execute_result"
    }
   ],
   "source": [
    "gwf.totim"
   ]
  },
  {
   "cell_type": "code",
   "execution_count": 30,
   "id": "fe307b3d-c485-4803-a9a8-0217c4985518",
   "metadata": {},
   "outputs": [
    {
     "data": {
      "text/plain": [
       "RIVERBASE, 1 Layer, 10 Row, 10 Column model\n",
       "Packages accessible include: \n",
       "  ArrayPackage objects:\n",
       "    dis: <class 'modflowapi.extensions.pakbase.ApiDisPackage'>\n",
       "    sto: <class 'modflowapi.extensions.pakbase.ApiStoPackage'>\n",
       "    npf: <class 'modflowapi.extensions.pakbase.ApiNpfPackage'>\n",
       "    ic: <class 'modflowapi.extensions.pakbase.ApiIcPackage'>\n",
       "  ListPackage objects:\n",
       "    mywell: <class 'modflowapi.extensions.pakbase.ApiWelPackage'>\n",
       "    chd_0: <class 'modflowapi.extensions.pakbase.ApiChdPackage'>\n",
       "  AdvancedPackage objects:\n",
       "    gnc: <class 'modflowapi.extensions.pakbase.ApiGncPackage'>\n",
       "    hfb: <class 'modflowapi.extensions.pakbase.ApiHfbPackage'>\n",
       "    mvr: <class 'modflowapi.extensions.pakbase.ApiMvrPackage'>\n",
       "    vsc: <class 'modflowapi.extensions.pakbase.ApiVscPackage'>\n",
       "    buy: <class 'modflowapi.extensions.pakbase.ApiBuyPackage'>\n",
       "    csub: <class 'modflowapi.extensions.pakbase.ApiCsubPackage'>"
      ]
     },
     "execution_count": 30,
     "metadata": {},
     "output_type": "execute_result"
    }
   ],
   "source": [
    "gwf"
   ]
  },
  {
   "cell_type": "code",
   "execution_count": null,
   "id": "f58de4b0-071f-449b-8bcf-2e1cdc468911",
   "metadata": {},
   "outputs": [],
   "source": []
  }
 ],
 "metadata": {
  "kernelspec": {
   "display_name": "Python 3 (ipykernel)",
   "language": "python",
   "name": "python3"
  },
  "language_info": {
   "codemirror_mode": {
    "name": "ipython",
    "version": 3
   },
   "file_extension": ".py",
   "mimetype": "text/x-python",
   "name": "python",
   "nbconvert_exporter": "python",
   "pygments_lexer": "ipython3",
   "version": "3.13.5"
  }
 },
 "nbformat": 4,
 "nbformat_minor": 5
}
