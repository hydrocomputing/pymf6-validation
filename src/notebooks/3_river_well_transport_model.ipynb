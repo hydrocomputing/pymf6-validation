{
 "cells": [
  {
   "cell_type": "markdown",
   "id": "cd282849-bb38-430c-a734-f1e9795af027",
   "metadata": {},
   "source": [
    "# River, Well system and Solute Transport Model"
   ]
  },
  {
   "cell_type": "markdown",
   "id": "7f397289-9870-4fe6-8e06-2281fb86e7f2",
   "metadata": {},
   "source": [
    "![River Base Concept Model](river_and_wells.svg)"
   ]
  },
  {
   "cell_type": "markdown",
   "id": "b667af76-2748-47cf-880f-362f18df551b",
   "metadata": {
    "tags": []
   },
   "source": [
    "# Example description\n",
    "### Spatial configuration\n",
    "There is two simulated aquifer which are separted by an aquitard. The model grid consists of 15 rows, 10 columns, and 3 layers.  Uniform grid spacing with a row and column width of 100.0 meters. The top layer is positioned at an elevation of 15.0 meters, while the bottom layers are situated at elevations of -5.0, -10.0, and -15.0 meters, respectively.\n",
    "### Temporal discretization\n",
    "The model is designed for a simulation period of 10 days, divided into 120 time steps per stress period, with a time step multiplier of 1.0. The simulation is repeated for a total of 3 periods. The model operates in days as time units and meters as length units.\n",
    "### Layer Hydraulic properties \n",
    "Initial hydraulic conductivity values for the three layers are set at 0.5, 0.000006, and 0.5, respectively.\n",
    "The vertical anisotropy ratios for the layers are specified as 0.1, 0.2, and 0.3, indicating differences in hydraulic conductivity in the vertical direction. \n",
    "### Storage properties \n",
    "The specific yield is set at 0.2, representing the volumetric ratio of water that drains under the influence of gravity.The specific storage is specified as 0.000001, representing the compressibility of the aquifer.\n",
    "### Flow Boundary Conditions \n",
    "The model starts with an initial hydraulic head of 10.0 meters across the entire domain. \n",
    "Two constant head boundaries are established at specific locations: one at the intersection of the first layer, first row, and first column and another at the intersection of the last layer, last row, and last column, each set at a constant head of 10.0 meters.\n",
    "### River Boundary Conditions \n",
    "rivlay: Specifies the layer number for each river cell. In this case, all river cells are situated in Layer 0, denoting their vertical position within the aquifer system.\n",
    "rivrow and rivcol: Arrays indicating the horizontal positions of the river cells in terms of rows and columns within the model grid.\n",
    "rivstg: Represents the stage or water level of each river cell. The values gradually vary between 13 and 14 across the river cells.\n",
    "rivbot: Defines the elevation of the river bottom for each corresponding river cell, showing a variation between elevations of 7 and 10.\n",
    "rivcnd: Indicates the conductance values associated with the river cells. In this case, a uniform conductance value of 0.05 is assigned to all river cells.\n",
    "### Solute transport conditions \n",
    "The initial concentration of the substance being transported within the groundwater system set to 1.\n",
    "The model simulates a point source contamination: at cell (Layer 0, Row 5, Column 1), the initial concentration is set to 10.\n",
    "Similarly, at cell (Layer 0, Row 6, Column 1), the initial concentration is also set to 10.\n",
    "### Well Boundary Conditions \n",
    "The 3 wells are located at (0, 4, 4), (0, 6, 4) and (0, 8,4); and all wells only reaching the first layer (=0). \n",
    "Discharge or pumping rates associated with the wells are -0.05 (m/d) on the first time-period, -0.5 for the second and -0.05 for the third."
   ]
  },
  {
   "cell_type": "markdown",
   "id": "2b4835b8-8060-469f-9531-f405a2abde39",
   "metadata": {},
   "source": [
    "# Start setting up the model "
   ]
  },
  {
   "cell_type": "markdown",
   "id": "16c80df8-d761-4698-8ca0-f602662ac047",
   "metadata": {
    "tags": []
   },
   "source": [
    "### Magic commands - auto reload of the model each time "
   ]
  },
  {
   "cell_type": "code",
   "execution_count": 1,
   "id": "482a74f0-385b-495d-92f6-9d5b368374d9",
   "metadata": {
    "tags": []
   },
   "outputs": [],
   "source": [
    "%load_ext autoreload"
   ]
  },
  {
   "cell_type": "code",
   "execution_count": 2,
   "id": "9a97cf56-15fc-4af5-97b0-309d1744f41d",
   "metadata": {
    "tags": []
   },
   "outputs": [],
   "source": [
    "%autoreload 2"
   ]
  },
  {
   "cell_type": "markdown",
   "id": "1b24c6f7-4000-4666-883e-9c522d464bbb",
   "metadata": {
    "tags": []
   },
   "source": [
    "### Import from pymf6tools the functions to run, get and visualize simulation results"
   ]
  },
  {
   "cell_type": "code",
   "execution_count": 3,
   "id": "e59049dc-9f74-4860-a6b3-314d2b6e8e46",
   "metadata": {},
   "outputs": [],
   "source": [
    "from pathlib import Path\n",
    "import numpy as np \n",
    "from pymf6.mf6 import MF6\n",
    "import pandas as pd \n",
    "from functools import partial \n",
    "\n",
    "from pymf6_tools.base_model import make_model_data\n",
    "from pymf6_tools.make_model import make_input, run_simulation, get_simulation\n",
    "from pymf6_tools.plotting import show_heads, show_well_head, show_bcs\n",
    "from pymf6_tools.make_model import run_simulation, get_simulation\n",
    "from pymf6_tools.plotting import (\n",
    "    show_heads, show_well_head, show_concentration, show_bcs, \n",
    "    show_bot_elevations, contour_bot_elevations, plot_spec_discharge, \n",
    "    show_concentration, contour_well_heads, show_river_stages)"
   ]
  },
  {
   "cell_type": "markdown",
   "id": "16231890-25d0-4bc3-b14a-765a966659b6",
   "metadata": {},
   "source": [
    "## Set model path and name "
   ]
  },
  {
   "cell_type": "code",
   "execution_count": 4,
   "id": "0b865120-0329-4a36-8be7-60171efff881",
   "metadata": {},
   "outputs": [],
   "source": [
    "model_path = Path('models/transport_river_base').absolute()\n",
    "model_name = 'transriver'"
   ]
  },
  {
   "cell_type": "markdown",
   "id": "d3f8ccb6-4fab-4ded-a194-c8faa5cae633",
   "metadata": {
    "tags": []
   },
   "source": [
    "## Run simulation"
   ]
  },
  {
   "cell_type": "code",
   "execution_count": 5,
   "id": "1bfa1db4-7c63-4a16-a8b3-116b8f37b9b3",
   "metadata": {
    "tags": []
   },
   "outputs": [],
   "source": [
    "run_simulation(model_path)"
   ]
  },
  {
   "cell_type": "markdown",
   "id": "216a2005-5a99-4ff3-8a2d-e2a4ccb382cc",
   "metadata": {},
   "source": [
    "### Inspect visualization tools"
   ]
  },
  {
   "cell_type": "code",
   "execution_count": 6,
   "id": "7267b457-c30b-4408-9597-2b47a36015ea",
   "metadata": {
    "tags": []
   },
   "outputs": [
    {
     "data": {
      "text/plain": [
       "\u001b[31mSignature:\u001b[39m\n",
       "show_well_head(\n",
       "    wel_coords,\n",
       "    model_path,\n",
       "    model_name,\n",
       "    times,\n",
       "    title=\u001b[33m''\u001b[39m,\n",
       "    y_start=\u001b[32m0.3\u001b[39m,\n",
       "    y_end=\u001b[32m1.05\u001b[39m,\n",
       "    upper_head_limit=\u001b[38;5;28;01mNone\u001b[39;00m,\n",
       "    lower_head_limit=\u001b[38;5;28;01mNone\u001b[39;00m,\n",
       "    x=(\u001b[32m0\u001b[39m, \u001b[32m32\u001b[39m),\n",
       ")\n",
       "\u001b[31mDocstring:\u001b[39m Plot head at well over time.\n",
       "\u001b[31mFile:\u001b[39m      c:\\users\\lucialabarca\\pymf6-validation\\.pixi\\envs\\default\\lib\\site-packages\\pymf6_tools\\plotting.py\n",
       "\u001b[31mType:\u001b[39m      function"
      ]
     },
     "metadata": {},
     "output_type": "display_data"
    }
   ],
   "source": [
    "show_well_head?"
   ]
  },
  {
   "cell_type": "markdown",
   "id": "e8305e3e-df1c-4ad2-a857-21168ceb55a4",
   "metadata": {},
   "source": [
    "### Inspect the parameters by importing the model results "
   ]
  },
  {
   "cell_type": "code",
   "execution_count": null,
   "id": "bf0984db-d348-4ea3-870a-cf9907abbbf2",
   "metadata": {},
   "outputs": [],
   "source": [
    "mf6 = MF6(model_path)"
   ]
  },
  {
   "cell_type": "code",
   "execution_count": null,
   "id": "5e718290-8bef-42a5-8f0c-f027fdb177e0",
   "metadata": {},
   "outputs": [],
   "source": [
    "mf6.model.keys()"
   ]
  },
  {
   "cell_type": "code",
   "execution_count": null,
   "id": "2a8518d9-6cd0-4ff4-ba82-27b0d21d28ef",
   "metadata": {
    "tags": []
   },
   "outputs": [],
   "source": [
    "gwf_models = mf6.models['gwf6']"
   ]
  },
  {
   "cell_type": "code",
   "execution_count": null,
   "id": "13a439ca-022e-4a30-a48e-961a3e02a927",
   "metadata": {
    "tags": []
   },
   "outputs": [],
   "source": [
    "gwt_models = mf6.models['gwt6']"
   ]
  },
  {
   "cell_type": "code",
   "execution_count": null,
   "id": "2faa3178-e3dc-4d2d-afc9-44aa0e67b12b",
   "metadata": {
    "tags": []
   },
   "outputs": [],
   "source": [
    "gwf_model.keys()"
   ]
  },
  {
   "cell_type": "code",
   "execution_count": null,
   "id": "e19b18e4-51aa-48ce-a07f-7ca0e867fee3",
   "metadata": {
    "tags": []
   },
   "outputs": [],
   "source": [
    "gwt_model.keys()"
   ]
  },
  {
   "cell_type": "code",
   "execution_count": null,
   "id": "e5e60e08-9525-4458-a818-63ed83087b18",
   "metadata": {
    "tags": []
   },
   "outputs": [],
   "source": [
    "riv_table.index[0]"
   ]
  },
  {
   "cell_type": "code",
   "execution_count": null,
   "id": "429e7607-05b4-494d-84ae-c8c755ddbfec",
   "metadata": {
    "tags": []
   },
   "outputs": [],
   "source": [
    "riv_table.loc[[(0, 1, 0)]]"
   ]
  },
  {
   "cell_type": "code",
   "execution_count": null,
   "id": "6f7085e7-5eb5-4080-b557-7e7e8477ea13",
   "metadata": {
    "tags": []
   },
   "outputs": [],
   "source": [
    "riv_table"
   ]
  },
  {
   "cell_type": "markdown",
   "id": "b709e145-451b-4260-ab34-f6a8fa412790",
   "metadata": {},
   "source": [
    "## Visualization of Input and Output - e.g. Boundary conditions and Heads "
   ]
  },
  {
   "cell_type": "markdown",
   "id": "d3a1e043-981b-4b72-85ad-d6b38c4fc531",
   "metadata": {},
   "source": [
    "### Boundary Conditions \n",
    "Note that you should change the \"bc_names\" according to the boundary conditions present in the simulation.  \n",
    "<span style=\"color:blue\">'chd'</span> Constant-head boundary  \n",
    "<span style=\"color:blue\">'wel'</span> Well boundary  \n",
    "<span style=\"color:blue\">'riv-1'</span> River boundary"
   ]
  },
  {
   "cell_type": "code",
   "execution_count": null,
   "id": "45f354f7-bb5d-4c86-a3fc-3d925e6bdd2c",
   "metadata": {
    "tags": []
   },
   "outputs": [],
   "source": [
    "show_bcs(model_path, model_name, bc_names=('chd', 'wel', 'riv-1'))"
   ]
  },
  {
   "cell_type": "markdown",
   "id": "2cf44635-6208-4fa4-9ae1-486cf9ee5d71",
   "metadata": {},
   "source": [
    "### Bottom elevation of the layers - Interactive graph (top, bottom and layer)\n",
    "max_top: maximum elevation of the layer selected  \n",
    "max_botm: maximum depth of the layer selected  \n",
    "layer: choose layer of the model "
   ]
  },
  {
   "cell_type": "code",
   "execution_count": null,
   "id": "b3f68e20-5cfd-419e-b18f-6b0712c14058",
   "metadata": {},
   "outputs": [],
   "source": [
    "show_bot_elevations(model_path, model_name, max_top=15., max_botm=-15., layer=1)"
   ]
  },
  {
   "cell_type": "markdown",
   "id": "073ee411-b1d9-4cd5-bab7-380cac593f46",
   "metadata": {},
   "source": [
    "### Specific Discharge - Interactive graph (layer and time)\n",
    "Specify the layer and time of the simulation to be visualized."
   ]
  },
  {
   "cell_type": "code",
   "execution_count": null,
   "id": "023730b0-603a-4a0a-af4c-c03f379f8ae0",
   "metadata": {
    "tags": []
   },
   "outputs": [],
   "source": [
    "plot_spec_discharge(model_path, model_name, layer=2, times = 300)"
   ]
  },
  {
   "cell_type": "markdown",
   "id": "f67e701a-215a-422e-a5d7-75ce14cb8b9b",
   "metadata": {},
   "source": [
    "### Bottom elevations with Countour lines - Interactive grapgh (layer) \n",
    "Specify the layer to be visualized."
   ]
  },
  {
   "cell_type": "code",
   "execution_count": null,
   "id": "0d943afc-31a1-4b14-98cd-18a18ca1e21b",
   "metadata": {
    "tags": []
   },
   "outputs": [],
   "source": [
    "contour_bot_elevations(model_path, model_name, max_top= -15, max_botm=15, layer=1)"
   ]
  },
  {
   "cell_type": "markdown",
   "id": "0e1dd7e1-3e49-4e8c-8484-e0234681df8c",
   "metadata": {},
   "source": [
    "### River Stage - Interactive graph (layer and time)\n",
    "Specify the layer and the time to visualize."
   ]
  },
  {
   "cell_type": "code",
   "execution_count": null,
   "id": "14986192-d888-4c2a-bfd5-3309a17da959",
   "metadata": {
    "tags": []
   },
   "outputs": [],
   "source": [
    "show_river_stages(model_path, model_name, layer=1, time_period=3)"
   ]
  },
  {
   "cell_type": "markdown",
   "id": "1a587b8c-9450-428e-bbf4-aa3a3e741f1e",
   "metadata": {},
   "source": [
    "### Groundwater level "
   ]
  },
  {
   "cell_type": "code",
   "execution_count": null,
   "id": "793ea635-6122-4238-b84a-87eeb00c775b",
   "metadata": {},
   "outputs": [],
   "source": [
    "show_heads(model_path, model_name, show_wells=False)"
   ]
  },
  {
   "cell_type": "markdown",
   "id": "203cfa77-0133-40ad-95ff-4788348dedbe",
   "metadata": {},
   "source": [
    "### Heads with countour lines"
   ]
  },
  {
   "cell_type": "code",
   "execution_count": null,
   "id": "57929394-dc38-4307-8a2a-403c37c5635f",
   "metadata": {},
   "outputs": [],
   "source": [
    "contour_well_heads(model_path, model_name, title=\"Well heads contour\")"
   ]
  },
  {
   "cell_type": "markdown",
   "id": "7ba63a15-e26f-4923-a4f9-621dc20975eb",
   "metadata": {},
   "source": [
    "### Well Head along time \n",
    "Specify well coordinates and the times to visualize. "
   ]
  },
  {
   "cell_type": "code",
   "execution_count": null,
   "id": "6af9d2a8-b4e1-4838-942a-fc59325eee68",
   "metadata": {},
   "outputs": [],
   "source": [
    "show_well_head((0, 4, 4), model_path, model_name, times=[1], y_start=0, y_end=20)"
   ]
  },
  {
   "cell_type": "markdown",
   "id": "65926472-a610-4dad-9e71-1d0dab99870b",
   "metadata": {},
   "source": [
    "### Concentration \n",
    "<span style=\"color:blue\">levels:</span> Set the amount of intervals between the minimum and the maximum concentration  \n",
    "<span style=\"color:blue\">kstkper:</span> set the time-step to retrieve the concentration results  \n",
    "<span style=\"color:blue\">show_wells:</span> Boolean to show boundary conditions \n",
    "<span style=\"color:blue\">vmin and vmax:</span> minimum and maximum values  \n",
    "<span style=\"color:blue\">show_countours:</span> Boolean to show countours on top of the graph  \n",
    "<span style=\"color:blue\">show_arrows:</span> Boolean to show specific discharge"
   ]
  },
  {
   "cell_type": "code",
   "execution_count": null,
   "id": "f8963989-b4f9-4427-ba13-4a2f3c6db701",
   "metadata": {
    "tags": []
   },
   "outputs": [],
   "source": [
    "show_concentration(model_path, model_name, show_arrows=True)"
   ]
  },
  {
   "cell_type": "code",
   "execution_count": null,
   "id": "873ec9e5-0a91-45ce-afc2-270282b3ea3c",
   "metadata": {},
   "outputs": [],
   "source": []
  }
 ],
 "metadata": {
  "kernelspec": {
   "display_name": "Python 3 (ipykernel)",
   "language": "python",
   "name": "python3"
  },
  "language_info": {
   "codemirror_mode": {
    "name": "ipython",
    "version": 3
   },
   "file_extension": ".py",
   "mimetype": "text/x-python",
   "name": "python",
   "nbconvert_exporter": "python",
   "pygments_lexer": "ipython3",
   "version": "3.13.5"
  }
 },
 "nbformat": 4,
 "nbformat_minor": 5
}
