{
 "cells": [
  {
   "cell_type": "markdown",
   "id": "cd282849-bb38-430c-a734-f1e9795af027",
   "metadata": {},
   "source": [
    "# River and well Model"
   ]
  },
  {
   "cell_type": "markdown",
   "id": "7f397289-9870-4fe6-8e06-2281fb86e7f2",
   "metadata": {},
   "source": [
    "![River Base Concept Model](river_and_wells.svg)"
   ]
  },
  {
   "cell_type": "markdown",
   "id": "b667af76-2748-47cf-880f-362f18df551b",
   "metadata": {
    "tags": []
   },
   "source": [
    "# Example description\n",
    "### Spatial configuration\n",
    "There is two simulated aquifer which are separated by an aquitard. The model grid consists of 15 rows, 10 columns, and 3 layers.  Uniform grid spacing with a row and column width of 100.0 meters. The top layer is positioned at an elevation of 15.0 meters, while the bottom layers are situated at elevations of -5.0, -10.0, and -15.0 meters, respectively.\n",
    "### Temporal discretization\n",
    "The model is designed for a simulation period of 10 days, divided into 120 time steps per stress period, with a time step multiplier of 1.0. The simulation is repeated for a total of 3 periods. The model operates in days as time units and meters as length units.\n",
    "### Layer Hydraulic properties \n",
    "Initial hydraulic conductivity values for the three layers are set at 0.5, 0.000006, and 0.5, respectively.\n",
    "The vertical anisotropy ratios for the layers are specified as 0.1, 0.2, and 0.3, indicating differences in hydraulic conductivity in the vertical direction.\n",
    "### Storage properties \n",
    "The specific yield is set at 0.2, representing the volumetric ratio of water that drains under the influence of gravity.The specific storage is specified as 0.000001, representing the compressibility of the aquifer.\n",
    "### Boundary Conditions \n",
    "The model starts with an initial hydraulic head of 10.0 meters across the entire domain. \n",
    "Two constant head boundaries are established at specific locations: one at the intersection of the first layer, first row, and first column and another at the intersection of the last layer, last row, and last column, each set at a constant head of 10.0 meters.\n",
    "### River Boundary specifications \n",
    "rivlay: Specifies the layer number for each river cell. In this case, all river cells are situated in Layer 0, denoting their vertical position within the aquifer system.  \n",
    "rivrow and rivcol: Arrays indicating the horizontal positions of the river cells in terms of rows and columns within the model grid.  \n",
    "rivstg: Represents the stage or water level of each river cell. The values gradually vary between 13 and 14 across the river cells.  \n",
    "rivbot: Defines the elevation of the river bottom for each corresponding river cell, showing a variation between elevations of 7 and 10.  \n",
    "rivcnd: Indicates the conductance values associated with the river cells. In this case, a uniform conductance value of 0.05 is assigned to all river cells.  "
   ]
  },
  {
   "cell_type": "markdown",
   "id": "2b4835b8-8060-469f-9531-f405a2abde39",
   "metadata": {},
   "source": [
    "# Start setting up the model "
   ]
  },
  {
   "cell_type": "markdown",
   "id": "16c80df8-d761-4698-8ca0-f602662ac047",
   "metadata": {
    "tags": []
   },
   "source": [
    "### Magic commands - auto reload of the model each time "
   ]
  },
  {
   "cell_type": "code",
   "execution_count": 1,
   "id": "482a74f0-385b-495d-92f6-9d5b368374d9",
   "metadata": {
    "tags": []
   },
   "outputs": [],
   "source": [
    "%load_ext autoreload"
   ]
  },
  {
   "cell_type": "code",
   "execution_count": 2,
   "id": "9a97cf56-15fc-4af5-97b0-309d1744f41d",
   "metadata": {
    "tags": []
   },
   "outputs": [],
   "source": [
    "%autoreload 2"
   ]
  },
  {
   "cell_type": "markdown",
   "id": "1b24c6f7-4000-4666-883e-9c522d464bbb",
   "metadata": {
    "tags": []
   },
   "source": [
    "### Import from pymf6tools the functions to run, get and visualize simulation results"
   ]
  },
  {
   "cell_type": "code",
   "execution_count": 3,
   "id": "a7f6a036-b3b3-4ba5-b02b-1b4c298f7bf2",
   "metadata": {},
   "outputs": [],
   "source": [
    "from pathlib import Path\n",
    "\n",
    "from pymf6_tools.base_model import make_model_data\n",
    "from pymf6_tools.make_model import make_input, run_simulation\n",
    "from pymf6_tools.plotting import show_heads, show_well_head, show_bcs"
   ]
  },
  {
   "cell_type": "code",
   "execution_count": 4,
   "id": "8468b7e2-11aa-42d4-b513-a79078d12b1c",
   "metadata": {},
   "outputs": [],
   "source": [
    "import numpy as np \n",
    "from pymf6.mf6 import MF6\n",
    "import pandas as pd \n",
    "from functools import partial \n",
    "from pymf6_tools.make_model import run_simulation, get_simulation\n"
   ]
  },
  {
   "cell_type": "code",
   "execution_count": 5,
   "id": "3e931716-42e0-413f-92e3-33c9c8dbd505",
   "metadata": {
    "tags": []
   },
   "outputs": [],
   "source": [
    "from pymf6_tools.plotting import show_heads, show_well_head, show_concentration, show_bcs, show_bot_elevations, show_river_stages, contour_bot_elevations, plot_spec_discharge"
   ]
  },
  {
   "cell_type": "markdown",
   "id": "16231890-25d0-4bc3-b14a-765a966659b6",
   "metadata": {},
   "source": [
    "## Set model path and name "
   ]
  },
  {
   "cell_type": "code",
   "execution_count": 6,
   "id": "0b865120-0329-4a36-8be7-60171efff881",
   "metadata": {},
   "outputs": [],
   "source": [
    "model_path = 'models/riverbase'\n",
    "model_name = \"riverbase\"\n",
    "model_name = 'gwf_' + model_name "
   ]
  },
  {
   "cell_type": "markdown",
   "id": "d3f8ccb6-4fab-4ded-a194-c8faa5cae633",
   "metadata": {
    "tags": []
   },
   "source": [
    "## Run simulation"
   ]
  },
  {
   "cell_type": "code",
   "execution_count": 7,
   "id": "1bfa1db4-7c63-4a16-a8b3-116b8f37b9b3",
   "metadata": {
    "tags": []
   },
   "outputs": [],
   "source": [
    "run_simulation(model_path)"
   ]
  },
  {
   "cell_type": "markdown",
   "id": "e8305e3e-df1c-4ad2-a857-21168ceb55a4",
   "metadata": {},
   "source": [
    "### Inspect the parameters by importing the model results "
   ]
  },
  {
   "cell_type": "code",
   "execution_count": 8,
   "id": "da0731ef-755a-4a66-b136-b06fb108c70b",
   "metadata": {},
   "outputs": [],
   "source": [
    "mf6 = MF6(model_path)"
   ]
  },
  {
   "cell_type": "code",
   "execution_count": 9,
   "id": "69a3d677-621a-4363-baf1-76e37a405de9",
   "metadata": {},
   "outputs": [
    {
     "data": {
      "text/plain": [
       "dict_keys(['gwf6'])"
      ]
     },
     "execution_count": 9,
     "metadata": {},
     "output_type": "execute_result"
    }
   ],
   "source": [
    "mf6.models.keys()"
   ]
  },
  {
   "cell_type": "code",
   "execution_count": 10,
   "id": "30b1215e-65a6-4b4b-9b95-cba9c14ae955",
   "metadata": {},
   "outputs": [],
   "source": [
    "gwf_models = mf6.models['gwf6']"
   ]
  },
  {
   "cell_type": "code",
   "execution_count": 11,
   "id": "eb0498e0-e255-4221-ae45-fdd0c0875be2",
   "metadata": {},
   "outputs": [
    {
     "data": {
      "text/plain": [
       "dict_keys(['riverbase'])"
      ]
     },
     "execution_count": 11,
     "metadata": {},
     "output_type": "execute_result"
    }
   ],
   "source": [
    "gwf_models.keys()"
   ]
  },
  {
   "cell_type": "code",
   "execution_count": 12,
   "id": "567718b7-065b-4303-a58d-780a5a971555",
   "metadata": {},
   "outputs": [],
   "source": [
    "gwf = gwf_models['riverbase']"
   ]
  },
  {
   "cell_type": "code",
   "execution_count": 13,
   "id": "1e72a366-7bf5-4e08-a298-87a55750c237",
   "metadata": {},
   "outputs": [
    {
     "data": {
      "text/html": [
       "<div>\n",
       "<style scoped>\n",
       "    .dataframe tbody tr th:only-of-type {\n",
       "        vertical-align: middle;\n",
       "    }\n",
       "\n",
       "    .dataframe tbody tr th {\n",
       "        vertical-align: top;\n",
       "    }\n",
       "\n",
       "    .dataframe thead th {\n",
       "        text-align: right;\n",
       "    }\n",
       "</style>\n",
       "<table border=\"1\" class=\"dataframe\">\n",
       "  <thead>\n",
       "    <tr style=\"text-align: right;\">\n",
       "      <th></th>\n",
       "      <th>description</th>\n",
       "      <th>is_mutable</th>\n",
       "    </tr>\n",
       "    <tr>\n",
       "      <th>name</th>\n",
       "      <th></th>\n",
       "      <th></th>\n",
       "    </tr>\n",
       "  </thead>\n",
       "  <tbody>\n",
       "    <tr>\n",
       "      <th>dis</th>\n",
       "      <td>DIS Package: DIS</td>\n",
       "      <td>False</td>\n",
       "    </tr>\n",
       "    <tr>\n",
       "      <th>gnc</th>\n",
       "      <td>GNC Package: GNC</td>\n",
       "      <td>True</td>\n",
       "    </tr>\n",
       "    <tr>\n",
       "      <th>sto</th>\n",
       "      <td>STO Package: STO</td>\n",
       "      <td>False</td>\n",
       "    </tr>\n",
       "    <tr>\n",
       "      <th>npf</th>\n",
       "      <td>NPF Package: NPF</td>\n",
       "      <td>False</td>\n",
       "    </tr>\n",
       "    <tr>\n",
       "      <th>hfb</th>\n",
       "      <td>HFB Package: HFB</td>\n",
       "      <td>True</td>\n",
       "    </tr>\n",
       "    <tr>\n",
       "      <th>mywell</th>\n",
       "      <td>WEL Package: MYWELL</td>\n",
       "      <td>True</td>\n",
       "    </tr>\n",
       "    <tr>\n",
       "      <th>mvr</th>\n",
       "      <td>MVR Package: MVR</td>\n",
       "      <td>True</td>\n",
       "    </tr>\n",
       "    <tr>\n",
       "      <th>ic</th>\n",
       "      <td>IC Package: IC</td>\n",
       "      <td>False</td>\n",
       "    </tr>\n",
       "    <tr>\n",
       "      <th>vsc</th>\n",
       "      <td>VSC Package: VSC</td>\n",
       "      <td>True</td>\n",
       "    </tr>\n",
       "    <tr>\n",
       "      <th>buy</th>\n",
       "      <td>BUY Package: BUY</td>\n",
       "      <td>True</td>\n",
       "    </tr>\n",
       "    <tr>\n",
       "      <th>csub</th>\n",
       "      <td>CSUB Package: CSUB</td>\n",
       "      <td>True</td>\n",
       "    </tr>\n",
       "    <tr>\n",
       "      <th>chd_0</th>\n",
       "      <td>CHD Package: CHD_0</td>\n",
       "      <td>True</td>\n",
       "    </tr>\n",
       "  </tbody>\n",
       "</table>\n",
       "</div><h4 id=\"model-packages\">Model packages</h4>\n",
       "<p>Packages can be accessed via\n",
       "<code>model.packages.package_name</code>. If <code>package_name</code>\n",
       "is not a valid Python identifier, access with pandas logic\n",
       "<code>model.packages.loc['package_name']</code>. Packages that are\n",
       "mutable (<code>is_mutable</code> is True) can be converted in a mutable\n",
       "boundary condition with <code>.as_mutable_bc()</code>.</p>\n"
      ],
      "text/plain": [
       "                description  is_mutable\n",
       "name                                   \n",
       "dis        DIS Package: DIS       False\n",
       "gnc        GNC Package: GNC        True\n",
       "sto        STO Package: STO       False\n",
       "npf        NPF Package: NPF       False\n",
       "hfb        HFB Package: HFB        True\n",
       "mywell  WEL Package: MYWELL        True\n",
       "mvr        MVR Package: MVR        True\n",
       "ic           IC Package: IC       False\n",
       "vsc        VSC Package: VSC        True\n",
       "buy        BUY Package: BUY        True\n",
       "csub     CSUB Package: CSUB        True\n",
       "chd_0    CHD Package: CHD_0        True\n",
       "\n",
       "#### Model packages\n",
       "\n",
       "Packages can be accessed via `model.packages.package_name`. If\n",
       "`package_name` is not a valid Python identifier, access with pandas\n",
       "logic `model.packages.loc['package_name']`. Packages that are mutable\n",
       "(`is_mutable` is True) can be converted in a mutable boundary condition\n",
       "with `.as_mutable_bc()`."
      ]
     },
     "execution_count": 13,
     "metadata": {},
     "output_type": "execute_result"
    }
   ],
   "source": [
    "gwf.packages"
   ]
  },
  {
   "cell_type": "markdown",
   "id": "b709e145-451b-4260-ab34-f6a8fa412790",
   "metadata": {},
   "source": [
    "## Visualization of Input and Output - e.g. Boundary conditions and Heads "
   ]
  },
  {
   "cell_type": "markdown",
   "id": "d3a1e043-981b-4b72-85ad-d6b38c4fc531",
   "metadata": {},
   "source": [
    "### Boundary Conditions \n",
    "Note that you should change the \"bc_names\" according to the boundary conditions present in the simulation.  \n",
    "<span style=\"color:blue\">'chd'</span> Constant-head boundary  \n",
    "<span style=\"color:blue\">'riv-1'</span> River boundary"
   ]
  },
  {
   "cell_type": "markdown",
   "id": "216a2005-5a99-4ff3-8a2d-e2a4ccb382cc",
   "metadata": {},
   "source": [
    "### Inspect visualization tools"
   ]
  },
  {
   "cell_type": "code",
   "execution_count": 14,
   "id": "7267b457-c30b-4408-9597-2b47a36015ea",
   "metadata": {
    "tags": []
   },
   "outputs": [
    {
     "data": {
      "text/plain": [
       "\u001b[31mSignature:\u001b[39m\n",
       "show_bcs(\n",
       "    model_path,\n",
       "    name,\n",
       "    title=\u001b[33m'Boundary Conditions'\u001b[39m,\n",
       "    bc_names=(\u001b[33m'chd'\u001b[39m, \u001b[33m'wel'\u001b[39m, \u001b[33m'riv'\u001b[39m),\n",
       "    show_grid=\u001b[38;5;28;01mTrue\u001b[39;00m,\n",
       ")\n",
       "\u001b[31mDocstring:\u001b[39m Show location of boundary conditions.\n",
       "\u001b[31mFile:\u001b[39m      c:\\users\\lucialabarca\\pymf6-validation\\.pixi\\envs\\default\\lib\\site-packages\\pymf6_tools\\plotting.py\n",
       "\u001b[31mType:\u001b[39m      function"
      ]
     },
     "metadata": {},
     "output_type": "display_data"
    }
   ],
   "source": [
    "show_bcs?"
   ]
  },
  {
   "cell_type": "code",
   "execution_count": 15,
   "id": "1d0f88ee-6fae-4e42-ad71-c61c0822603f",
   "metadata": {},
   "outputs": [
    {
     "data": {
      "text/plain": [
       "\u001b[31mSignature:\u001b[39m\n",
       "show_bcs(\n",
       "    model_path,\n",
       "    name,\n",
       "    title=\u001b[33m'Boundary Conditions'\u001b[39m,\n",
       "    bc_names=(\u001b[33m'chd'\u001b[39m, \u001b[33m'wel'\u001b[39m, \u001b[33m'riv'\u001b[39m),\n",
       "    show_grid=\u001b[38;5;28;01mTrue\u001b[39;00m,\n",
       ")\n",
       "\u001b[31mDocstring:\u001b[39m Show location of boundary conditions.\n",
       "\u001b[31mFile:\u001b[39m      c:\\users\\lucialabarca\\pymf6-validation\\.pixi\\envs\\default\\lib\\site-packages\\pymf6_tools\\plotting.py\n",
       "\u001b[31mType:\u001b[39m      function"
      ]
     },
     "metadata": {},
     "output_type": "display_data"
    }
   ],
   "source": [
    "show_bcs?"
   ]
  },
  {
   "cell_type": "code",
   "execution_count": 16,
   "id": "45f354f7-bb5d-4c86-a3fc-3d925e6bdd2c",
   "metadata": {
    "tags": []
   },
   "outputs": [
    {
     "ename": "AssertionError",
     "evalue": "A model grid instance must be provided to PlotMapView",
     "output_type": "error",
     "traceback": [
      "\u001b[31m---------------------------------------------------------------------------\u001b[39m",
      "\u001b[31mAssertionError\u001b[39m                            Traceback (most recent call last)",
      "\u001b[36mCell\u001b[39m\u001b[36m \u001b[39m\u001b[32mIn[16]\u001b[39m\u001b[32m, line 1\u001b[39m\n\u001b[32m----> \u001b[39m\u001b[32m1\u001b[39m \u001b[43mshow_bcs\u001b[49m\u001b[43m(\u001b[49m\u001b[43mmodel_path\u001b[49m\u001b[43m,\u001b[49m\u001b[43m \u001b[49m\u001b[43mmodel_name\u001b[49m\u001b[43m,\u001b[49m\u001b[43m \u001b[49m\u001b[43mbc_names\u001b[49m\u001b[43m=\u001b[49m\u001b[43m(\u001b[49m\u001b[33;43m'\u001b[39;49m\u001b[33;43mchd\u001b[39;49m\u001b[33;43m'\u001b[39;49m\u001b[43m,\u001b[49m\u001b[33;43m'\u001b[39;49m\u001b[33;43mriv-1\u001b[39;49m\u001b[33;43m'\u001b[39;49m\u001b[43m,\u001b[49m\u001b[43m \u001b[49m\u001b[33;43m'\u001b[39;49m\u001b[33;43mwel\u001b[39;49m\u001b[33;43m'\u001b[39;49m\u001b[43m)\u001b[49m\u001b[43m)\u001b[49m\n",
      "\u001b[36mFile \u001b[39m\u001b[32m~\\pymf6-validation\\.pixi\\envs\\default\\Lib\\site-packages\\pymf6_tools\\plotting.py:64\u001b[39m, in \u001b[36mshow_bcs\u001b[39m\u001b[34m(model_path, name, title, bc_names, show_grid)\u001b[39m\n\u001b[32m     62\u001b[39m sim = get_simulation(model_path, name)\n\u001b[32m     63\u001b[39m gwf = sim.get_model(gwf_name)\n\u001b[32m---> \u001b[39m\u001b[32m64\u001b[39m pmv = \u001b[43mflopy\u001b[49m\u001b[43m.\u001b[49m\u001b[43mplot\u001b[49m\u001b[43m.\u001b[49m\u001b[43mPlotMapView\u001b[49m\u001b[43m(\u001b[49m\u001b[43mgwf\u001b[49m\u001b[43m)\u001b[49m\n\u001b[32m     66\u001b[39m \u001b[38;5;28;01mdef\u001b[39;00m\u001b[38;5;250m \u001b[39m\u001b[34madd_bc\u001b[39m(name, handles=handles, pmv=pmv):\n\u001b[32m     67\u001b[39m \u001b[38;5;250m    \u001b[39m\u001b[33;03m\"\"\"Add a BC including legend entry.\"\"\"\u001b[39;00m\n",
      "\u001b[36mFile \u001b[39m\u001b[32m~\\pymf6-validation\\.pixi\\envs\\default\\Lib\\site-packages\\flopy\\plot\\map.py:56\u001b[39m, in \u001b[36mPlotMapView.__init__\u001b[39m\u001b[34m(self, model, modelgrid, ax, layer, extent)\u001b[39m\n\u001b[32m     54\u001b[39m \u001b[38;5;28;01melse\u001b[39;00m:\n\u001b[32m     55\u001b[39m     err_msg = \u001b[33m\"\u001b[39m\u001b[33mA model grid instance must be provided to PlotMapView\u001b[39m\u001b[33m\"\u001b[39m\n\u001b[32m---> \u001b[39m\u001b[32m56\u001b[39m     \u001b[38;5;28;01mraise\u001b[39;00m \u001b[38;5;167;01mAssertionError\u001b[39;00m(err_msg)\n\u001b[32m     58\u001b[39m \u001b[38;5;28;01mif\u001b[39;00m ax \u001b[38;5;129;01mis\u001b[39;00m \u001b[38;5;28;01mNone\u001b[39;00m:\n\u001b[32m     59\u001b[39m     \u001b[38;5;28;01mtry\u001b[39;00m:\n",
      "\u001b[31mAssertionError\u001b[39m: A model grid instance must be provided to PlotMapView"
     ]
    }
   ],
   "source": [
    "show_bcs(model_path, model_name, bc_names=('chd','riv-1', 'wel'))"
   ]
  },
  {
   "cell_type": "markdown",
   "id": "2cf44635-6208-4fa4-9ae1-486cf9ee5d71",
   "metadata": {},
   "source": [
    "### Bottom elevation of the layers - Interactive graph\n",
    "max_top: maximum elevation of the layer selected  \n",
    "max_botm: maximum depth of the layer selected  \n",
    "layer: choose layer of the model "
   ]
  },
  {
   "cell_type": "code",
   "execution_count": null,
   "id": "b3f68e20-5cfd-419e-b18f-6b0712c14058",
   "metadata": {},
   "outputs": [],
   "source": [
    "show_bot_elevations(model_path, model_name, max_top=15., max_botm=-15., layer=1)"
   ]
  },
  {
   "cell_type": "markdown",
   "id": "073ee411-b1d9-4cd5-bab7-380cac593f46",
   "metadata": {},
   "source": [
    "### Specific Discharge - Interactive graph (layer and time)\n",
    "Specify the layer and time of the simulation to be visualized."
   ]
  },
  {
   "cell_type": "code",
   "execution_count": null,
   "id": "023730b0-603a-4a0a-af4c-c03f379f8ae0",
   "metadata": {
    "tags": []
   },
   "outputs": [],
   "source": [
    "plot_spec_discharge(model_path, model_name, layer=2, times = 300)"
   ]
  },
  {
   "cell_type": "code",
   "execution_count": null,
   "id": "28d0abec-5af0-4b90-bc9c-186768ae6855",
   "metadata": {
    "tags": []
   },
   "outputs": [],
   "source": [
    "plot_spec_discharge(model_path, model_name, layer=1, times = 300)"
   ]
  },
  {
   "cell_type": "markdown",
   "id": "f67e701a-215a-422e-a5d7-75ce14cb8b9b",
   "metadata": {},
   "source": [
    "### Bottom elevations with Countour lines - Interactive layer \n",
    "Specify the layer to be visualized."
   ]
  },
  {
   "cell_type": "code",
   "execution_count": null,
   "id": "0d943afc-31a1-4b14-98cd-18a18ca1e21b",
   "metadata": {
    "tags": []
   },
   "outputs": [],
   "source": [
    "contour_bot_elevations(model_path, model_name, max_top= -15, max_botm=15, layer=1)"
   ]
  },
  {
   "cell_type": "markdown",
   "id": "f25e7956-25ad-412b-934b-91f77e321197",
   "metadata": {},
   "source": [
    "### River Stages - Interactive layer and time period \n",
    "Specify the layer and the time period to be plotted. "
   ]
  },
  {
   "cell_type": "code",
   "execution_count": null,
   "id": "308fc620-a523-48b9-b996-661ec166ce24",
   "metadata": {
    "tags": []
   },
   "outputs": [],
   "source": [
    "show_river_stages(model_path, model_name, layer=1, time_period=3)"
   ]
  },
  {
   "cell_type": "markdown",
   "id": "1a587b8c-9450-428e-bbf4-aa3a3e741f1e",
   "metadata": {},
   "source": [
    "### Groundwater level "
   ]
  },
  {
   "cell_type": "code",
   "execution_count": null,
   "id": "793ea635-6122-4238-b84a-87eeb00c775b",
   "metadata": {},
   "outputs": [],
   "source": [
    "show_heads(model_path, model_name, show_wells=False)"
   ]
  },
  {
   "cell_type": "markdown",
   "id": "3c91ff95-a26f-49b1-9e72-0d35f02449ef",
   "metadata": {},
   "source": [
    "### Concentration"
   ]
  },
  {
   "cell_type": "code",
   "execution_count": null,
   "id": "0c154176-3584-4fa3-ace4-307c94e53bd9",
   "metadata": {
    "tags": []
   },
   "outputs": [],
   "source": [
    "show_concentration(model_path, model_name, show_wells=False, show_arrows=True)"
   ]
  },
  {
   "cell_type": "markdown",
   "id": "51127add-56b6-422f-a314-5697466d9887",
   "metadata": {},
   "source": [
    "### Well Head "
   ]
  },
  {
   "cell_type": "code",
   "execution_count": null,
   "id": "90dd89ef-2281-4b41-aeb8-4a40968adb5c",
   "metadata": {},
   "outputs": [],
   "source": [
    "specific_model_data = {\n",
    "    'model_path': model_path,\n",
    "    'name': model_name,\n",
    "}\n",
    "\n",
    "model_data = make_model_data(specific_model_data)\n",
    "\n",
    "pymf6_model_data = make_model_data(specific_model_data, base_model_data=model_data)"
   ]
  },
  {
   "cell_type": "code",
   "execution_count": null,
   "id": "6d8eab86-2b90-4866-99ca-4fcab10f137a",
   "metadata": {},
   "outputs": [],
   "source": [
    "from functools import partial\n",
    "\n",
    "show_my_well_head = partial(show_well_head,\n",
    "                            wel_coords=wel_coords,\n",
    "                            lower_head_limit=0.49,\n",
    "                            upper_head_limit=0.51)"
   ]
  },
  {
   "cell_type": "code",
   "execution_count": null,
   "id": "5e718290-8bef-42a5-8f0c-f027fdb177e0",
   "metadata": {},
   "outputs": [],
   "source": [
    "well_coords = {'wells': {\n",
    "        'wel_out': {'q': (-0.05, -0.5, -0.05), 'coords': (0, 4, 4)}}}"
   ]
  },
  {
   "cell_type": "code",
   "execution_count": null,
   "id": "37ad56f6-7213-468e-9873-6109d02ddff6",
   "metadata": {},
   "outputs": [],
   "source": [
    "show_my_well_head(model_data=pymf6_model_data)"
   ]
  },
  {
   "cell_type": "code",
   "execution_count": null,
   "id": "4128ce90-bd91-4bd6-b507-04521a48b990",
   "metadata": {},
   "outputs": [],
   "source": []
  }
 ],
 "metadata": {
  "kernelspec": {
   "display_name": "Python 3 (ipykernel)",
   "language": "python",
   "name": "python3"
  },
  "language_info": {
   "codemirror_mode": {
    "name": "ipython",
    "version": 3
   },
   "file_extension": ".py",
   "mimetype": "text/x-python",
   "name": "python",
   "nbconvert_exporter": "python",
   "pygments_lexer": "ipython3",
   "version": "3.13.5"
  }
 },
 "nbformat": 4,
 "nbformat_minor": 5
}
