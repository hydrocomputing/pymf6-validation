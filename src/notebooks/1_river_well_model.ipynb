{
 "cells": [
  {
   "cell_type": "markdown",
   "id": "cd282849-bb38-430c-a734-f1e9795af027",
   "metadata": {},
   "source": [
    "# River and well Model"
   ]
  },
  {
   "cell_type": "markdown",
   "id": "7f397289-9870-4fe6-8e06-2281fb86e7f2",
   "metadata": {},
   "source": [
    "![River Base Concept Model](river_and_wells.svg)"
   ]
  },
  {
   "cell_type": "markdown",
   "id": "b667af76-2748-47cf-880f-362f18df551b",
   "metadata": {
    "tags": []
   },
   "source": [
    "# Example description\n",
    "### Spatial configuration\n",
    "There is two simulated aquifer which are separated by an aquitard. The model grid consists of 15 rows, 10 columns, and 3 layers.  Uniform grid spacing with a row and column width of 100.0 meters. The top layer is positioned at an elevation of 15.0 meters, while the bottom layers are situated at elevations of -5.0, -10.0, and -15.0 meters, respectively.\n",
    "### Temporal discretization\n",
    "The model is designed for a simulation period of 10 days, divided into 120 time steps per stress period, with a time step multiplier of 1.0. The simulation is repeated for a total of 3 periods. The model operates in days as time units and meters as length units.\n",
    "### Layer Hydraulic properties \n",
    "Initial hydraulic conductivity values for the three layers are set at 0.5, 0.000006, and 0.5, respectively.\n",
    "The vertical anisotropy ratios for the layers are specified as 0.1, 0.2, and 0.3, indicating differences in hydraulic conductivity in the vertical direction.\n",
    "### Storage properties \n",
    "The specific yield is set at 0.2, representing the volumetric ratio of water that drains under the influence of gravity.The specific storage is specified as 0.000001, representing the compressibility of the aquifer.\n",
    "### Boundary Conditions \n",
    "The model starts with an initial hydraulic head of 10.0 meters across the entire domain. \n",
    "Two constant head boundaries are established at specific locations: one at the intersection of the first layer, first row, and first column and another at the intersection of the last layer, last row, and last column, each set at a constant head of 10.0 meters.\n",
    "### River Boundary specifications \n",
    "rivlay: Specifies the layer number for each river cell. In this case, all river cells are situated in Layer 0, denoting their vertical position within the aquifer system.  \n",
    "rivrow and rivcol: Arrays indicating the horizontal positions of the river cells in terms of rows and columns within the model grid.  \n",
    "rivstg: Represents the stage or water level of each river cell. The values gradually vary between 13 and 14 across the river cells.  \n",
    "rivbot: Defines the elevation of the river bottom for each corresponding river cell, showing a variation between elevations of 7 and 10.  \n",
    "rivcnd: Indicates the conductance values associated with the river cells. In this case, a uniform conductance value of 0.05 is assigned to all river cells.  "
   ]
  },
  {
   "cell_type": "markdown",
   "id": "2b4835b8-8060-469f-9531-f405a2abde39",
   "metadata": {},
   "source": [
    "# Start setting up the model "
   ]
  },
  {
   "cell_type": "markdown",
   "id": "16c80df8-d761-4698-8ca0-f602662ac047",
   "metadata": {
    "tags": []
   },
   "source": [
    "### Magic commands - auto reload of the model each time "
   ]
  },
  {
   "cell_type": "code",
   "execution_count": 92,
   "id": "482a74f0-385b-495d-92f6-9d5b368374d9",
   "metadata": {
    "tags": []
   },
   "outputs": [
    {
     "name": "stdout",
     "output_type": "stream",
     "text": [
      "The autoreload extension is already loaded. To reload it, use:\n",
      "  %reload_ext autoreload\n"
     ]
    }
   ],
   "source": [
    "%load_ext autoreload"
   ]
  },
  {
   "cell_type": "code",
   "execution_count": 93,
   "id": "9a97cf56-15fc-4af5-97b0-309d1744f41d",
   "metadata": {
    "tags": []
   },
   "outputs": [],
   "source": [
    "%autoreload 2"
   ]
  },
  {
   "cell_type": "markdown",
   "id": "1b24c6f7-4000-4666-883e-9c522d464bbb",
   "metadata": {
    "tags": []
   },
   "source": [
    "### Import from pymf6tools the functions to run, get and visualize simulation results"
   ]
  },
  {
   "cell_type": "code",
   "execution_count": 94,
   "id": "a7f6a036-b3b3-4ba5-b02b-1b4c298f7bf2",
   "metadata": {},
   "outputs": [],
   "source": [
    "from pathlib import Path\n",
    "\n",
    "from pymf6_tools.base_model import make_model_data\n",
    "from pymf6_tools.make_model import make_input, run_simulation\n",
    "from pymf6_tools.plotting import show_heads, show_well_head, show_bcs"
   ]
  },
  {
   "cell_type": "code",
   "execution_count": 4,
   "id": "8468b7e2-11aa-42d4-b513-a79078d12b1c",
   "metadata": {},
   "outputs": [],
   "source": [
    "import numpy as np \n",
    "from pymf6.mf6 import MF6\n",
    "import pandas as pd \n",
    "from functools import partial \n",
    "from pymf6_tools.make_model import run_simulation, get_simulation\n"
   ]
  },
  {
   "cell_type": "code",
   "execution_count": 96,
   "id": "3e931716-42e0-413f-92e3-33c9c8dbd505",
   "metadata": {
    "tags": []
   },
   "outputs": [],
   "source": [
    "from pymf6_tools.plotting import show_heads, show_well_head, show_concentration, show_bcs, show_bot_elevations, show_river_stages, contour_bot_elevations, plot_spec_discharge"
   ]
  },
  {
   "cell_type": "markdown",
   "id": "16231890-25d0-4bc3-b14a-765a966659b6",
   "metadata": {},
   "source": [
    "## Set model path and name "
   ]
  },
  {
   "cell_type": "code",
   "execution_count": 6,
   "id": "0b865120-0329-4a36-8be7-60171efff881",
   "metadata": {},
   "outputs": [],
   "source": [
    "model_path = 'models/riverbase'\n",
    "model_name = \"riverbase\""
   ]
  },
  {
   "cell_type": "markdown",
   "id": "d3f8ccb6-4fab-4ded-a194-c8faa5cae633",
   "metadata": {
    "tags": []
   },
   "source": [
    "## Run simulation - Uncontrolled "
   ]
  },
  {
   "cell_type": "code",
   "execution_count": 105,
   "id": "1bfa1db4-7c63-4a16-a8b3-116b8f37b9b3",
   "metadata": {
    "tags": []
   },
   "outputs": [],
   "source": [
    "run_simulation(model_path)"
   ]
  },
  {
   "cell_type": "markdown",
   "id": "b709e145-451b-4260-ab34-f6a8fa412790",
   "metadata": {},
   "source": [
    "## Visualization of Input and Output - e.g. Boundary conditions and Heads "
   ]
  },
  {
   "cell_type": "markdown",
   "id": "d3a1e043-981b-4b72-85ad-d6b38c4fc531",
   "metadata": {},
   "source": [
    "### Boundary Conditions \n",
    "Note that you should change the \"bc_names\" according to the boundary conditions present in the simulation.  \n",
    "<span style=\"color:blue\">'chd'</span> Constant-head boundary  \n",
    "<span style=\"color:blue\">'riv-1'</span> River boundary"
   ]
  },
  {
   "cell_type": "markdown",
   "id": "216a2005-5a99-4ff3-8a2d-e2a4ccb382cc",
   "metadata": {},
   "source": [
    "### Inspect visualization tools"
   ]
  },
  {
   "cell_type": "code",
   "execution_count": 106,
   "id": "1d0f88ee-6fae-4e42-ad71-c61c0822603f",
   "metadata": {},
   "outputs": [
    {
     "data": {
      "text/plain": [
       "\u001b[31mSignature:\u001b[39m\n",
       "show_bcs(\n",
       "    model_path,\n",
       "    name,\n",
       "    title=\u001b[33m'Boundary Conditions'\u001b[39m,\n",
       "    bc_names=(\u001b[33m'chd'\u001b[39m, \u001b[33m'wel'\u001b[39m, \u001b[33m'riv'\u001b[39m),\n",
       "    show_grid=\u001b[38;5;28;01mTrue\u001b[39;00m,\n",
       ")\n",
       "\u001b[31mDocstring:\u001b[39m Show location of boundary conditions.\n",
       "\u001b[31mFile:\u001b[39m      c:\\users\\lucialabarca\\pymf6-validation\\.pixi\\envs\\default\\lib\\site-packages\\pymf6_tools\\plotting.py\n",
       "\u001b[31mType:\u001b[39m      function"
      ]
     },
     "metadata": {},
     "output_type": "display_data"
    }
   ],
   "source": [
    "show_bcs?"
   ]
  },
  {
   "cell_type": "code",
   "execution_count": 109,
   "id": "45f354f7-bb5d-4c86-a3fc-3d925e6bdd2c",
   "metadata": {
    "tags": []
   },
   "outputs": [
    {
     "data": {
      "text/plain": [
       "<matplotlib.collections.QuadMesh at 0x2743db0c690>"
      ]
     },
     "execution_count": 109,
     "metadata": {},
     "output_type": "execute_result"
    },
    {
     "data": {
      "image/png": "[encoded data removed]",
      "text/plain": [
       "<Figure size 640x480 with 1 Axes>"
      ]
     },
     "metadata": {},
     "output_type": "display_data"
    }
   ],
   "source": [
    "show_bcs(model_path, model_name, bc_names=('chd','riv-1'))"
   ]
  },
  {
   "cell_type": "markdown",
   "id": "23cdb12e-dc24-436f-91b3-cbe5a89dfa5e",
   "metadata": {},
   "source": [
    "### Check results - Plot model "
   ]
  },
  {
   "cell_type": "markdown",
   "id": "2cf44635-6208-4fa4-9ae1-486cf9ee5d71",
   "metadata": {},
   "source": [
    "### Bottom elevation of the layers - Interactive graph\n",
    "max_top: maximum elevation of the layer selected  \n",
    "max_botm: maximum depth of the layer selected  \n",
    "layer: choose layer of the model "
   ]
  },
  {
   "cell_type": "code",
   "execution_count": 101,
   "id": "b3f68e20-5cfd-419e-b18f-6b0712c14058",
   "metadata": {},
   "outputs": [
    {
     "data": {
      "text/plain": [
       "<flopy.plot.map.PlotMapView at 0x2743d2526d0>"
      ]
     },
     "execution_count": 101,
     "metadata": {},
     "output_type": "execute_result"
    },
    {
     "data": {
      "image/png": "[encoded data removed]",
      "text/plain": [
       "<Figure size 640x480 with 2 Axes>"
      ]
     },
     "metadata": {},
     "output_type": "display_data"
    }
   ],
   "source": [
    "show_bot_elevations(model_path, model_name, max_top=15., max_botm=-15., layer=1)"
   ]
  },
  {
   "cell_type": "markdown",
   "id": "073ee411-b1d9-4cd5-bab7-380cac593f46",
   "metadata": {},
   "source": [
    "### Specific Discharge - Interactive graph (layer and time)\n",
    "Specify the layer and time of the simulation to be visualized."
   ]
  },
  {
   "cell_type": "code",
   "execution_count": 102,
   "id": "023730b0-603a-4a0a-af4c-c03f379f8ae0",
   "metadata": {
    "tags": []
   },
   "outputs": [
    {
     "ename": "ValueError",
     "evalue": "datafile error: file is empty: C:\\Users\\lucialabarca\\pymf6-validation\\src\\notebooks\\models\\riverbase\\gwf_riverbase.bud",
     "output_type": "error",
     "traceback": [
      "\u001b[31m---------------------------------------------------------------------------\u001b[39m",
      "\u001b[31mValueError\u001b[39m                                Traceback (most recent call last)",
      "\u001b[36mCell\u001b[39m\u001b[36m \u001b[39m\u001b[32mIn[102]\u001b[39m\u001b[32m, line 1\u001b[39m\n\u001b[32m----> \u001b[39m\u001b[32m1\u001b[39m \u001b[43mplot_spec_discharge\u001b[49m\u001b[43m(\u001b[49m\u001b[43mmodel_path\u001b[49m\u001b[43m,\u001b[49m\u001b[43m \u001b[49m\u001b[43mmodel_name\u001b[49m\u001b[43m,\u001b[49m\u001b[43m \u001b[49m\u001b[43mlayer\u001b[49m\u001b[43m=\u001b[49m\u001b[32;43m2\u001b[39;49m\u001b[43m,\u001b[49m\u001b[43m \u001b[49m\u001b[43mtimes\u001b[49m\u001b[43m \u001b[49m\u001b[43m=\u001b[49m\u001b[43m \u001b[49m\u001b[32;43m300\u001b[39;49m\u001b[43m)\u001b[49m\n",
      "\u001b[36mFile \u001b[39m\u001b[32m~\\pymf6-validation\\.pixi\\envs\\default\\Lib\\site-packages\\pymf6_tools\\plotting.py:311\u001b[39m, in \u001b[36mplot_spec_discharge\u001b[39m\u001b[34m(model_path, model_name, layer, times, show_inactive)\u001b[39m\n\u001b[32m    309\u001b[39m gwf_name = \u001b[33m'\u001b[39m\u001b[33mgwf_\u001b[39m\u001b[33m'\u001b[39m + model_name\n\u001b[32m    310\u001b[39m ml = sim.get_model(gwf_name)\n\u001b[32m--> \u001b[39m\u001b[32m311\u001b[39m spdis = \u001b[43mml\u001b[49m\u001b[43m.\u001b[49m\u001b[43moutput\u001b[49m\u001b[43m.\u001b[49m\u001b[43mbudget\u001b[49m\u001b[43m(\u001b[49m\u001b[43m)\u001b[49m.get_data(text=\u001b[33m'\u001b[39m\u001b[33mSPDIS\u001b[39m\u001b[33m'\u001b[39m)[times]\n\u001b[32m    312\u001b[39m head = ml.output.head().get_alldata()[\u001b[32m0\u001b[39m]\n\u001b[32m    313\u001b[39m qx, qy, _ = get_specific_discharge(spdis, ml)\n",
      "\u001b[36mFile \u001b[39m\u001b[32m~\\pymf6-validation\\.pixi\\envs\\default\\Lib\\site-packages\\flopy\\mf6\\utils\\output_util.py:318\u001b[39m, in \u001b[36mMF6Output.__budget\u001b[39m\u001b[34m(self, precision)\u001b[39m\n\u001b[32m    316\u001b[39m \u001b[38;5;28;01mtry\u001b[39;00m:\n\u001b[32m    317\u001b[39m     budget_file = os.path.join(\u001b[38;5;28mself\u001b[39m._sim_ws, \u001b[38;5;28mself\u001b[39m._budget[\u001b[32m0\u001b[39m])\n\u001b[32m--> \u001b[39m\u001b[32m318\u001b[39m     \u001b[38;5;28;01mreturn\u001b[39;00m \u001b[43mCellBudgetFile\u001b[49m\u001b[43m(\u001b[49m\n\u001b[32m    319\u001b[39m \u001b[43m        \u001b[49m\u001b[43mbudget_file\u001b[49m\u001b[43m,\u001b[49m\n\u001b[32m    320\u001b[39m \u001b[43m        \u001b[49m\u001b[43mprecision\u001b[49m\u001b[43m=\u001b[49m\u001b[43mprecision\u001b[49m\u001b[43m,\u001b[49m\n\u001b[32m    321\u001b[39m \u001b[43m        \u001b[49m\u001b[43mmodelgrid\u001b[49m\u001b[43m=\u001b[49m\u001b[38;5;28;43mself\u001b[39;49m\u001b[43m.\u001b[49m\u001b[43m_model\u001b[49m\u001b[43m.\u001b[49m\u001b[43mmodelgrid\u001b[49m\u001b[43m,\u001b[49m\n\u001b[32m    322\u001b[39m \u001b[43m    \u001b[49m\u001b[43m)\u001b[49m\n\u001b[32m    323\u001b[39m \u001b[38;5;28;01mexcept\u001b[39;00m \u001b[38;5;167;01mOSError\u001b[39;00m:\n\u001b[32m    324\u001b[39m     \u001b[38;5;28;01mreturn\u001b[39;00m \u001b[38;5;28;01mNone\u001b[39;00m\n",
      "\u001b[36mFile \u001b[39m\u001b[32m~\\pymf6-validation\\.pixi\\envs\\default\\Lib\\site-packages\\flopy\\utils\\binaryfile\\__init__.py:878\u001b[39m, in \u001b[36mCellBudgetFile.__init__\u001b[39m\u001b[34m(self, filename, precision, verbose, **kwargs)\u001b[39m\n\u001b[32m    876\u001b[39m \u001b[38;5;28;01massert\u001b[39;00m \u001b[38;5;28mself\u001b[39m.file.tell() == \u001b[32m0\u001b[39m\n\u001b[32m    877\u001b[39m \u001b[38;5;28;01mif\u001b[39;00m totalbytes == \u001b[32m0\u001b[39m:\n\u001b[32m--> \u001b[39m\u001b[32m878\u001b[39m     \u001b[38;5;28;01mraise\u001b[39;00m \u001b[38;5;167;01mValueError\u001b[39;00m(\u001b[33mf\u001b[39m\u001b[33m\"\u001b[39m\u001b[33mdatafile error: file is empty: \u001b[39m\u001b[38;5;132;01m{\u001b[39;00mfilename\u001b[38;5;132;01m}\u001b[39;00m\u001b[33m\"\u001b[39m)\n\u001b[32m    879\u001b[39m \u001b[38;5;28mself\u001b[39m.nrow = \u001b[32m0\u001b[39m\n\u001b[32m    880\u001b[39m \u001b[38;5;28mself\u001b[39m.ncol = \u001b[32m0\u001b[39m\n",
      "\u001b[31mValueError\u001b[39m: datafile error: file is empty: C:\\Users\\lucialabarca\\pymf6-validation\\src\\notebooks\\models\\riverbase\\gwf_riverbase.bud"
     ]
    }
   ],
   "source": [
    "plot_spec_discharge(model_path, model_name, layer=2, times = 300)"
   ]
  },
  {
   "cell_type": "code",
   "execution_count": null,
   "id": "28d0abec-5af0-4b90-bc9c-186768ae6855",
   "metadata": {
    "tags": []
   },
   "outputs": [],
   "source": [
    "plot_spec_discharge(model_path, model_name, layer=1, times = 300)"
   ]
  },
  {
   "cell_type": "markdown",
   "id": "f67e701a-215a-422e-a5d7-75ce14cb8b9b",
   "metadata": {},
   "source": [
    "### Bottom elevations with Countour lines - Interactive layer \n",
    "Specify the layer to be visualized."
   ]
  },
  {
   "cell_type": "code",
   "execution_count": null,
   "id": "0d943afc-31a1-4b14-98cd-18a18ca1e21b",
   "metadata": {
    "tags": []
   },
   "outputs": [],
   "source": [
    "contour_bot_elevations(model_path, model_name, max_top= -15, max_botm=15, layer=1)"
   ]
  },
  {
   "cell_type": "markdown",
   "id": "f25e7956-25ad-412b-934b-91f77e321197",
   "metadata": {},
   "source": [
    "### River Stages - Interactive layer and time period \n",
    "Specify the layer and the time period to be plotted. "
   ]
  },
  {
   "cell_type": "code",
   "execution_count": null,
   "id": "308fc620-a523-48b9-b996-661ec166ce24",
   "metadata": {
    "tags": []
   },
   "outputs": [],
   "source": [
    "show_river_stages(model_path, model_name, layer=1, time_period=3)"
   ]
  },
  {
   "cell_type": "markdown",
   "id": "1a587b8c-9450-428e-bbf4-aa3a3e741f1e",
   "metadata": {},
   "source": [
    "### Groundwater level "
   ]
  },
  {
   "cell_type": "code",
   "execution_count": null,
   "id": "793ea635-6122-4238-b84a-87eeb00c775b",
   "metadata": {},
   "outputs": [],
   "source": [
    "show_heads(model_path, model_name, show_wells=False)"
   ]
  },
  {
   "cell_type": "markdown",
   "id": "f6e6b879-1eeb-491b-9999-bcde1dc4a7bd",
   "metadata": {},
   "source": [
    "### Show well head"
   ]
  },
  {
   "cell_type": "code",
   "execution_count": null,
   "id": "02e83016-c367-49de-9929-dfabc6f385ff",
   "metadata": {},
   "outputs": [],
   "source": [
    "show_well_head((0, 4, 4), model_path, model_name, times=[1], y_start=0, y_end=20)"
   ]
  },
  {
   "cell_type": "markdown",
   "id": "dc8697a2-f4cd-4bfc-918f-833eb3f702c5",
   "metadata": {},
   "source": [
    "### Controlled case "
   ]
  },
  {
   "cell_type": "markdown",
   "id": "8b68a976-6331-48e9-a1c2-6078bb741cb2",
   "metadata": {},
   "source": [
    "The primary objective is to the extract the maximum amount of groundwater for drinking water supply while maintaining system stability through continued regulation. To ensure sustainable groundwater management and protect the integrity of the connected river ecosystem, we aim to dynamically control the flow model. The pumping rates of the wells are continuously regulated based on threshold values for both groundwater levels and river water levels. This approach allows for real-time adjustment of extraction rates to prevent overexploitation and ecological degradation. "
   ]
  },
  {
   "cell_type": "markdown",
   "id": "7ea9d2bc-bc98-41a5-bfff-34216f9ae7bb",
   "metadata": {},
   "source": [
    "### Using pymf6 to dynamically access the model "
   ]
  },
  {
   "cell_type": "code",
   "execution_count": null,
   "id": "da0731ef-755a-4a66-b136-b06fb108c70b",
   "metadata": {},
   "outputs": [],
   "source": [
    "mf6 = MF6(model_path)"
   ]
  },
  {
   "cell_type": "markdown",
   "id": "e8305e3e-df1c-4ad2-a857-21168ceb55a4",
   "metadata": {},
   "source": [
    "### Inspect the parameters by importing the model results "
   ]
  },
  {
   "cell_type": "code",
   "execution_count": null,
   "id": "69a3d677-621a-4363-baf1-76e37a405de9",
   "metadata": {},
   "outputs": [],
   "source": [
    "mf6.models.keys()"
   ]
  },
  {
   "cell_type": "code",
   "execution_count": null,
   "id": "30b1215e-65a6-4b4b-9b95-cba9c14ae955",
   "metadata": {},
   "outputs": [],
   "source": [
    "gwf_models = mf6.models['gwf6']"
   ]
  },
  {
   "cell_type": "code",
   "execution_count": null,
   "id": "eb0498e0-e255-4221-ae45-fdd0c0875be2",
   "metadata": {},
   "outputs": [],
   "source": [
    "gwf_models.keys()"
   ]
  },
  {
   "cell_type": "code",
   "execution_count": null,
   "id": "567718b7-065b-4303-a58d-780a5a971555",
   "metadata": {},
   "outputs": [],
   "source": [
    "gwf = gwf_models['riverbase']"
   ]
  },
  {
   "cell_type": "markdown",
   "id": "8144ae59-8ddd-4219-8aca-669f461eb2f3",
   "metadata": {},
   "source": [
    "### Inspect the packages "
   ]
  },
  {
   "cell_type": "code",
   "execution_count": null,
   "id": "1e72a366-7bf5-4e08-a298-87a55750c237",
   "metadata": {},
   "outputs": [],
   "source": [
    "gwf.packages"
   ]
  },
  {
   "cell_type": "markdown",
   "id": "51127add-56b6-422f-a314-5697466d9887",
   "metadata": {},
   "source": [
    "### Controlled Well Head "
   ]
  },
  {
   "cell_type": "code",
   "execution_count": null,
   "id": "90dd89ef-2281-4b41-aeb8-4a40968adb5c",
   "metadata": {},
   "outputs": [],
   "source": [
    "show_well_head((0, 4, 4), model_path, model_name, times=[1], y_start=0, y_end=20)"
   ]
  }
 ],
 "metadata": {
  "kernelspec": {
   "display_name": "Python 3 (ipykernel)",
   "language": "python",
   "name": "python3"
  },
  "language_info": {
   "codemirror_mode": {
    "name": "ipython",
    "version": 3
   },
   "file_extension": ".py",
   "mimetype": "text/x-python",
   "name": "python",
   "nbconvert_exporter": "python",
   "pygments_lexer": "ipython3",
   "version": "3.13.5"
  }
 },
 "nbformat": 4,
 "nbformat_minor": 5
}
