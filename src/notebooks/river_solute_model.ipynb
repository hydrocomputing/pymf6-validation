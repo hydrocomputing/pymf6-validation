{
 "cells": [
  {
   "cell_type": "markdown",
   "id": "cd282849-bb38-430c-a734-f1e9795af027",
   "metadata": {},
   "source": [
    "# River and Solute Transport Model"
   ]
  },
  {
   "cell_type": "markdown",
   "id": "7f397289-9870-4fe6-8e06-2281fb86e7f2",
   "metadata": {},
   "source": [
    "![River Base Concept Model](river_and_wells.svg)"
   ]
  },
  {
   "cell_type": "markdown",
   "id": "b667af76-2748-47cf-880f-362f18df551b",
   "metadata": {
    "tags": []
   },
   "source": [
    "# Example description\n",
    "### Spatial configuration\n",
    "There is two simulated aquifer which are separated by an aquitard. The model grid consists of 15 rows, 10 columns, and 3 layers.  Uniform grid spacing with a row and column width of 100.0 meters. The top layer is positioned at an elevation of 15.0 meters, while the bottom layers are situated at elevations of -5.0, -10.0, and -15.0 meters, respectively.\n",
    "### Temporal discretization\n",
    "The model is designed for a simulation period of 10 days, divided into 120 time steps per stress period, with a time step multiplier of 1.0. The simulation is repeated for a total of 3 periods. The model operates in days as time units and meters as length units.\n",
    "### Layer Hydraulic properties \n",
    "Initial hydraulic conductivity values for the three layers are set at 0.5, 0.000006, and 0.5, respectively.\n",
    "The vertical anisotropy ratios for the layers are specified as 0.1, 0.2, and 0.3, indicating differences in hydraulic conductivity in the vertical direction.\n",
    "### Storage properties \n",
    "The specific yield is set at 0.2, representing the volumetric ratio of water that drains under the influence of gravity.The specific storage is specified as 0.000001, representing the compressibility of the aquifer.\n",
    "### Boundary Conditions \n",
    "The model starts with an initial hydraulic head of 10.0 meters across the entire domain. \n",
    "Two constant head boundaries are established at specific locations: one at the intersection of the first layer, first row, and first column and another at the intersection of the last layer, last row, and last column, each set at a constant head of 10.0 meters.\n",
    "### Solute transport conditions \n",
    "The initial concentration of the substance being transported within the groundwater system set to 1.\n",
    "The model simulates a point source contamination: at cell (Layer 0, Row 5, Column 1), the initial concentration is set to 10.\n",
    "Similarly, at cell (Layer 0, Row 6, Column 1), the initial concentration is also set to 10.\n",
    "### River Boundary specifications \n",
    "rivlay: Specifies the layer number for each river cell. In this case, all river cells are situated in Layer 0, denoting their vertical position within the aquifer system.  \n",
    "rivrow and rivcol: Arrays indicating the horizontal positions of the river cells in terms of rows and columns within the model grid.  \n",
    "rivstg: Represents the stage or water level of each river cell. The values gradually vary between 13 and 14 across the river cells.  \n",
    "rivbot: Defines the elevation of the river bottom for each corresponding river cell, showing a variation between elevations of 7 and 10.  \n",
    "rivcnd: Indicates the conductance values associated with the river cells. In this case, a uniform conductance value of 0.05 is assigned to all river cells.  "
   ]
  },
  {
   "cell_type": "markdown",
   "id": "2b4835b8-8060-469f-9531-f405a2abde39",
   "metadata": {},
   "source": [
    "# Start setting up the model "
   ]
  },
  {
   "cell_type": "markdown",
   "id": "16c80df8-d761-4698-8ca0-f602662ac047",
   "metadata": {
    "tags": []
   },
   "source": [
    "### Magic commands - auto reload of the model each time "
   ]
  },
  {
   "cell_type": "code",
   "execution_count": 2,
   "id": "482a74f0-385b-495d-92f6-9d5b368374d9",
   "metadata": {
    "tags": []
   },
   "outputs": [],
   "source": [
    "%load_ext autoreload"
   ]
  },
  {
   "cell_type": "code",
   "execution_count": 3,
   "id": "9a97cf56-15fc-4af5-97b0-309d1744f41d",
   "metadata": {
    "tags": []
   },
   "outputs": [],
   "source": [
    "%autoreload 2"
   ]
  },
  {
   "cell_type": "markdown",
   "id": "1b24c6f7-4000-4666-883e-9c522d464bbb",
   "metadata": {
    "tags": []
   },
   "source": [
    "### Import from pymf6tools the functions to run, get and visualize simulation results"
   ]
  },
  {
   "cell_type": "code",
   "execution_count": 4,
   "id": "a7f6a036-b3b3-4ba5-b02b-1b4c298f7bf2",
   "metadata": {},
   "outputs": [],
   "source": [
    "import pandas as pd\n",
    "\n",
    "from pymf6.modeling_tools import make_model\n",
    "from pymf6.modeling_tools.base_model import make_model_data\n",
    "from pymf6.modeling_tools.plotting import show_well_head"
   ]
  },
  {
   "cell_type": "code",
   "execution_count": 5,
   "id": "8468b7e2-11aa-42d4-b513-a79078d12b1c",
   "metadata": {},
   "outputs": [],
   "source": [
    "import numpy as np \n",
    "from pymf6.mf6 import MF6\n",
    "import pandas as pd \n",
    "from functools import partial \n",
    "from pymf6_tools.make_model import run_simulation, get_simulation\n"
   ]
  },
  {
   "cell_type": "code",
   "execution_count": 6,
   "id": "3e931716-42e0-413f-92e3-33c9c8dbd505",
   "metadata": {
    "tags": []
   },
   "outputs": [],
   "source": [
    "from pymf6_tools.plotting import show_heads, show_well_head, show_concentration, show_bcs, show_bot_elevations, show_river_stages, contour_bot_elevations, plot_spec_discharge"
   ]
  },
  {
   "cell_type": "markdown",
   "id": "16231890-25d0-4bc3-b14a-765a966659b6",
   "metadata": {},
   "source": [
    "## Set model path and name "
   ]
  },
  {
   "cell_type": "code",
   "execution_count": 7,
   "id": "0b865120-0329-4a36-8be7-60171efff881",
   "metadata": {},
   "outputs": [],
   "source": [
    "model_path = 'models/riverbase'\n",
    "model_name = \"riverbase\""
   ]
  },
  {
   "cell_type": "markdown",
   "id": "d3f8ccb6-4fab-4ded-a194-c8faa5cae633",
   "metadata": {
    "tags": []
   },
   "source": [
    "## Run simulation"
   ]
  },
  {
   "cell_type": "code",
   "execution_count": 8,
   "id": "1bfa1db4-7c63-4a16-a8b3-116b8f37b9b3",
   "metadata": {
    "tags": []
   },
   "outputs": [],
   "source": [
    "run_simulation(model_path)"
   ]
  },
  {
   "cell_type": "markdown",
   "id": "216a2005-5a99-4ff3-8a2d-e2a4ccb382cc",
   "metadata": {},
   "source": [
    "### Inspect visualization tools"
   ]
  },
  {
   "cell_type": "code",
   "execution_count": 9,
   "id": "7267b457-c30b-4408-9597-2b47a36015ea",
   "metadata": {
    "tags": []
   },
   "outputs": [
    {
     "data": {
      "text/plain": [
       "\u001b[31mSignature:\u001b[39m\n",
       "show_bcs(\n",
       "    model_path,\n",
       "    name,\n",
       "    title=\u001b[33m'Boundary Conditions'\u001b[39m,\n",
       "    bc_names=(\u001b[33m'chd'\u001b[39m, \u001b[33m'wel'\u001b[39m, \u001b[33m'riv'\u001b[39m),\n",
       "    show_grid=\u001b[38;5;28;01mTrue\u001b[39;00m,\n",
       ")\n",
       "\u001b[31mDocstring:\u001b[39m Show location of boundary conditions.\n",
       "\u001b[31mFile:\u001b[39m      c:\\users\\lucialabarca\\pymf6-validation\\.pixi\\envs\\default\\lib\\site-packages\\pymf6_tools\\plotting.py\n",
       "\u001b[31mType:\u001b[39m      function"
      ]
     },
     "metadata": {},
     "output_type": "display_data"
    }
   ],
   "source": [
    "show_bcs?"
   ]
  },
  {
   "cell_type": "markdown",
   "id": "e8305e3e-df1c-4ad2-a857-21168ceb55a4",
   "metadata": {},
   "source": [
    "### Inspect the parameters by importing the model results "
   ]
  },
  {
   "cell_type": "code",
   "execution_count": null,
   "id": "197599f1-a856-4ffd-92fb-6e78a0444fa2",
   "metadata": {},
   "outputs": [],
   "source": [
    "mf6 = MF6(sim_path=model_path)"
   ]
  },
  {
   "cell_type": "code",
   "execution_count": null,
   "id": "bf0984db-d348-4ea3-870a-cf9907abbbf2",
   "metadata": {},
   "outputs": [],
   "source": [
    "sim = get_simulation(model_path, model_name)\n",
    "ml = sim.get_model('gwf_' + model_name)\n",
    "dis = ml.get_package('dis') "
   ]
  },
  {
   "cell_type": "code",
   "execution_count": null,
   "id": "5e718290-8bef-42a5-8f0c-f027fdb177e0",
   "metadata": {},
   "outputs": [],
   "source": [
    "dis.data_list"
   ]
  },
  {
   "cell_type": "markdown",
   "id": "b709e145-451b-4260-ab34-f6a8fa412790",
   "metadata": {},
   "source": [
    "## Visualization of Input and Output - e.g. Boundary conditions and Heads "
   ]
  },
  {
   "cell_type": "markdown",
   "id": "d3a1e043-981b-4b72-85ad-d6b38c4fc531",
   "metadata": {},
   "source": [
    "### Boundary Conditions \n",
    "Note that you should change the \"bc_names\" according to the boundary conditions present in the simulation.  \n",
    "<span style=\"color:blue\">'chd'</span> Constant-head boundary  \n",
    "<span style=\"color:blue\">'riv-1'</span> River boundary"
   ]
  },
  {
   "cell_type": "code",
   "execution_count": null,
   "id": "1d0f88ee-6fae-4e42-ad71-c61c0822603f",
   "metadata": {},
   "outputs": [],
   "source": [
    "show_bcs?"
   ]
  },
  {
   "cell_type": "code",
   "execution_count": null,
   "id": "45f354f7-bb5d-4c86-a3fc-3d925e6bdd2c",
   "metadata": {
    "tags": []
   },
   "outputs": [],
   "source": [
    "show_bcs(model_path, model_name, bc_names=('chd','riv-1'))"
   ]
  },
  {
   "cell_type": "markdown",
   "id": "2cf44635-6208-4fa4-9ae1-486cf9ee5d71",
   "metadata": {},
   "source": [
    "### Bottom elevation of the layers - Interactive graph\n",
    "max_top: maximum elevation of the layer selected  \n",
    "max_botm: maximum depth of the layer selected  \n",
    "layer: choose layer of the model "
   ]
  },
  {
   "cell_type": "code",
   "execution_count": null,
   "id": "b3f68e20-5cfd-419e-b18f-6b0712c14058",
   "metadata": {},
   "outputs": [],
   "source": [
    "show_bot_elevations(model_path, model_name, max_top=15., max_botm=-15., layer=1)"
   ]
  },
  {
   "cell_type": "markdown",
   "id": "073ee411-b1d9-4cd5-bab7-380cac593f46",
   "metadata": {},
   "source": [
    "### Specific Discharge - Interactive graph (layer and time)\n",
    "Specify the layer and time of the simulation to be visualized."
   ]
  },
  {
   "cell_type": "code",
   "execution_count": null,
   "id": "023730b0-603a-4a0a-af4c-c03f379f8ae0",
   "metadata": {
    "tags": []
   },
   "outputs": [],
   "source": [
    "plot_spec_discharge(model_path, model_name, layer=2, times = 300)"
   ]
  },
  {
   "cell_type": "code",
   "execution_count": null,
   "id": "28d0abec-5af0-4b90-bc9c-186768ae6855",
   "metadata": {
    "tags": []
   },
   "outputs": [],
   "source": [
    "plot_spec_discharge(model_path, model_name, layer=1, times = 300)"
   ]
  },
  {
   "cell_type": "markdown",
   "id": "f67e701a-215a-422e-a5d7-75ce14cb8b9b",
   "metadata": {},
   "source": [
    "### Bottom elevations with Countour lines - Interactive layer \n",
    "Specify the layer to be visualized."
   ]
  },
  {
   "cell_type": "code",
   "execution_count": null,
   "id": "0d943afc-31a1-4b14-98cd-18a18ca1e21b",
   "metadata": {
    "tags": []
   },
   "outputs": [],
   "source": [
    "contour_bot_elevations(model_path, model_name, max_top= -15, max_botm=15, layer=1)"
   ]
  },
  {
   "cell_type": "markdown",
   "id": "f25e7956-25ad-412b-934b-91f77e321197",
   "metadata": {},
   "source": [
    "### River Stages - Interactive layer and time period \n",
    "Specify the layer and the time period to be plotted. "
   ]
  },
  {
   "cell_type": "code",
   "execution_count": null,
   "id": "308fc620-a523-48b9-b996-661ec166ce24",
   "metadata": {
    "tags": []
   },
   "outputs": [],
   "source": [
    "show_river_stages(model_path, model_name, layer=1, time_period=3)"
   ]
  },
  {
   "cell_type": "markdown",
   "id": "1a587b8c-9450-428e-bbf4-aa3a3e741f1e",
   "metadata": {},
   "source": [
    "### Groundwater level "
   ]
  },
  {
   "cell_type": "code",
   "execution_count": null,
   "id": "793ea635-6122-4238-b84a-87eeb00c775b",
   "metadata": {},
   "outputs": [],
   "source": [
    "show_heads(model_path, model_name, show_wells=False)"
   ]
  },
  {
   "cell_type": "markdown",
   "id": "3c91ff95-a26f-49b1-9e72-0d35f02449ef",
   "metadata": {},
   "source": [
    "### Concentration"
   ]
  },
  {
   "cell_type": "code",
   "execution_count": null,
   "id": "0c154176-3584-4fa3-ace4-307c94e53bd9",
   "metadata": {
    "tags": []
   },
   "outputs": [],
   "source": [
    "show_concentration(model_path, model_name, show_wells=False, show_arrows=True)"
   ]
  },
  {
   "cell_type": "code",
   "execution_count": null,
   "id": "0e352d63-f443-4b37-8bff-9200a265d86a",
   "metadata": {},
   "outputs": [],
   "source": [
    "specific_model_data = {\n",
    "    'model_path': model_path,\n",
    "    'name': name,\n",
    "}"
   ]
  },
  {
   "cell_type": "code",
   "execution_count": null,
   "id": "c770468d-308e-49bb-bc03-df54cbb8d28e",
   "metadata": {},
   "outputs": [],
   "source": [
    "model_data = make_model_data(specific_model_data)\n",
    "\n",
    "pymf6_model_data = make_model_data(specific_model_data, base_model_data=model_data)"
   ]
  },
  {
   "cell_type": "code",
   "execution_count": null,
   "id": "4372fe88-c467-4251-9ca6-f40432464257",
   "metadata": {},
   "outputs": [],
   "source": [
    "wel_coords = model_data['wells']['wel_out']['coords']"
   ]
  },
  {
   "cell_type": "code",
   "execution_count": null,
   "id": "4f9049ce-e8e1-4a2c-a41f-cdbee3eca016",
   "metadata": {},
   "outputs": [],
   "source": [
    "show_my_well_head = partial(show_well_head,\n",
    "                            wel_coords=wel_coords,\n",
    "                            lower_head_limit=0.49,\n",
    "                            upper_head_limit=0.51)"
   ]
  },
  {
   "cell_type": "code",
   "execution_count": null,
   "id": "b1a4025d-ea93-4da7-8697-17b6595666fa",
   "metadata": {},
   "outputs": [],
   "source": [
    "show_my_well_head(model_data=pymf6_model_data)"
   ]
  },
  {
   "cell_type": "code",
   "execution_count": null,
   "id": "76591522-f9fc-4f24-8e39-108740e90dbd",
   "metadata": {},
   "outputs": [],
   "source": [
    "gwf.pacakges.mywell.as_mutable_bc()"
   ]
  },
  {
   "cell_type": "code",
   "execution_count": null,
   "id": "b47d98ce-195e-423b-bf61-925a58b1d29c",
   "metadata": {},
   "outputs": [],
   "source": []
  }
 ],
 "metadata": {
  "kernelspec": {
   "display_name": "Python 3 (ipykernel)",
   "language": "python",
   "name": "python3"
  },
  "language_info": {
   "codemirror_mode": {
    "name": "ipython",
    "version": 3
   },
   "file_extension": ".py",
   "mimetype": "text/x-python",
   "name": "python",
   "nbconvert_exporter": "python",
   "pygments_lexer": "ipython3",
   "version": "3.13.5"
  }
 },
 "nbformat": 4,
 "nbformat_minor": 5
}
