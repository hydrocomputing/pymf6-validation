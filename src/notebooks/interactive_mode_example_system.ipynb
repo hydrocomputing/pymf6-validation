{
 "cells": [
  {
   "cell_type": "code",
   "execution_count": 2,
   "id": "bf55008c-ea35-4b96-ade0-577b39d71dab",
   "metadata": {},
   "outputs": [],
   "source": [
    "#Trial test"
   ]
  },
  {
   "cell_type": "code",
   "execution_count": 3,
   "id": "870221dd-2c65-4f4b-8532-aecb88ba60ac",
   "metadata": {},
   "outputs": [],
   "source": [
    "import pandas as pd\n",
    "\n",
    "from pymf6.modeling_tools import make_model\n",
    "from pymf6.modeling_tools.base_model import make_model_data\n",
    "from pymf6.modeling_tools.plotting import show_well_head\n",
    "from pymf6.mf6 import MF6"
   ]
  },
  {
   "cell_type": "code",
   "execution_count": 4,
   "id": "162122b9-bb79-47a9-bdec-5996eeae559a",
   "metadata": {},
   "outputs": [],
   "source": [
    "model_path = 'models/transport_river_base'\n",
    "name = \"transport_river_base\"\n",
    "\n",
    "specific_model_data = {\n",
    "    'model_path': model_path,\n",
    "    'name': name,\n",
    "}\n",
    "\n",
    "model_data = make_model_data(specific_model_data)\n",
    "\n",
    "pymf6_model_data = make_model_data(specific_model_data, base_model_data=model_data)"
   ]
  },
  {
   "cell_type": "code",
   "execution_count": 5,
   "id": "86190d52-285a-4198-a24f-57745a21539f",
   "metadata": {},
   "outputs": [],
   "source": [
    "wel_coords = model_data['wells']['wel_out']['coords']"
   ]
  },
  {
   "cell_type": "code",
   "execution_count": 6,
   "id": "228259a1-2d92-447f-8b1d-cfe8f349c120",
   "metadata": {},
   "outputs": [],
   "source": [
    "from functools import partial\n",
    "\n",
    "show_my_well_head = partial(show_well_head,\n",
    "                            wel_coords=wel_coords,\n",
    "                            lower_head_limit=0.49,\n",
    "                            upper_head_limit=0.51)"
   ]
  },
  {
   "cell_type": "code",
   "execution_count": 7,
   "id": "84c9530d-920d-4346-b9da-9ff6c10cb0f1",
   "metadata": {},
   "outputs": [],
   "source": [
    "make_model.make_input(\n",
    "    pymf6_model_data\n",
    ")"
   ]
  },
  {
   "cell_type": "code",
   "execution_count": 8,
   "id": "0e9e24e7-f269-4fd2-a2d4-5c0dc1c8a003",
   "metadata": {},
   "outputs": [],
   "source": [
    "tolerance = 0.01\n",
    "head_limit = 0.5\n",
    "upper_limit = head_limit + tolerance\n",
    "lower_limit = head_limit - tolerance"
   ]
  },
  {
   "cell_type": "code",
   "execution_count": 9,
   "id": "08dbbde3-3aa6-48d8-b339-91a6317fdccf",
   "metadata": {},
   "outputs": [
    {
     "data": {
      "text/plain": [
       "\u001b[31mInit signature:\u001b[39m\n",
       "MF6(\n",
       "    sim_path,\n",
       "    dll_path=\u001b[38;5;28;01mNone\u001b[39;00m,\n",
       "    use_modflow_api=\u001b[38;5;28;01mTrue\u001b[39;00m,\n",
       "    advance_first_step=\u001b[38;5;28;01mTrue\u001b[39;00m,\n",
       "    verbose=\u001b[38;5;28;01mFalse\u001b[39;00m,\n",
       "    new_step_only=\u001b[38;5;28;01mFalse\u001b[39;00m,\n",
       "    do_solution_loop=\u001b[38;5;28;01mTrue\u001b[39;00m,\n",
       "    _develop=\u001b[38;5;28;01mFalse\u001b[39;00m,\n",
       ")\n",
       "\u001b[31mDocstring:\u001b[39m     \n",
       "Wrapper around XmiWrapper and modflowapi.\n",
       "\n",
       "`advance_first_step = True` progresses to the first model step with\n",
       "model time > 0. This is needed to access any internal values of BCs.\n",
       "\u001b[31mFile:\u001b[39m           c:\\users\\lucialabarca\\pymf6-validation\\.pixi\\envs\\default\\lib\\site-packages\\pymf6\\mf6.py\n",
       "\u001b[31mType:\u001b[39m           type\n",
       "\u001b[31mSubclasses:\u001b[39m     "
      ]
     },
     "metadata": {},
     "output_type": "display_data"
    }
   ],
   "source": [
    "MF6?"
   ]
  },
  {
   "cell_type": "code",
   "execution_count": null,
   "id": "fc1e2acf-d628-4550-b8c2-bfcc12fe2ada",
   "metadata": {},
   "outputs": [],
   "source": [
    "mf6 = MF6(model_path)"
   ]
  },
  {
   "cell_type": "code",
   "execution_count": null,
   "id": "9335ed40-cb2d-456c-b89f-30afb625a921",
   "metadata": {},
   "outputs": [],
   "source": [
    "mf6.models.keys()"
   ]
  },
  {
   "cell_type": "code",
   "execution_count": null,
   "id": "1e60cc64-ae18-4e00-a4f2-3c82579ebbe7",
   "metadata": {},
   "outputs": [],
   "source": [
    "gwf_models = mf6.models['gwf6']"
   ]
  },
  {
   "cell_type": "code",
   "execution_count": null,
   "id": "6ce0c3cc-14b4-429a-908f-a04ac852bda0",
   "metadata": {},
   "outputs": [],
   "source": [
    "flow_models = mf6.models['gwf6']"
   ]
  },
  {
   "cell_type": "code",
   "execution_count": null,
   "id": "b0746b0f-fad2-4648-b688-4bb8affe39b9",
   "metadata": {},
   "outputs": [],
   "source": [
    "flow_models.keys()"
   ]
  },
  {
   "cell_type": "code",
   "execution_count": null,
   "id": "0013263e-65f8-4704-9dc9-ec4415352849",
   "metadata": {},
   "outputs": [],
   "source": [
    "gwf = flow_models['riverbase']"
   ]
  },
  {
   "cell_type": "code",
   "execution_count": null,
   "id": "33315dfa-7843-48ae-9f1b-530804243dde",
   "metadata": {},
   "outputs": [],
   "source": [
    "gwf.nper"
   ]
  },
  {
   "cell_type": "code",
   "execution_count": null,
   "id": "6f7616c0-f642-41a3-be89-286a09e0f7f3",
   "metadata": {},
   "outputs": [],
   "source": [
    "gwf.packages"
   ]
  },
  {
   "cell_type": "code",
   "execution_count": null,
   "id": "1c3f038b-3c91-4d56-b834-921baf2da1d1",
   "metadata": {},
   "outputs": [],
   "source": [
    "gwf.packages.mywell.as_mutable_bc()"
   ]
  },
  {
   "cell_type": "code",
   "execution_count": null,
   "id": "99f70013-d2ed-43f1-87a1-abf5431ba3ba",
   "metadata": {},
   "outputs": [],
   "source": [
    "loop = mf6.model_loop()"
   ]
  },
  {
   "cell_type": "code",
   "execution_count": null,
   "id": "35412c27-26c9-4ecd-a74e-e57948a7e2e3",
   "metadata": {},
   "outputs": [],
   "source": [
    "for model_step in loop:\n",
    "    if gwf.kper > 0:\n",
    "        break"
   ]
  },
  {
   "cell_type": "code",
   "execution_count": null,
   "id": "7541be45-d057-4550-afeb-36dd297c7011",
   "metadata": {},
   "outputs": [],
   "source": [
    "model_step.state"
   ]
  },
  {
   "cell_type": "code",
   "execution_count": null,
   "id": "395a77a8-44b3-4174-80e5-a459ae927af2",
   "metadata": {},
   "outputs": [],
   "source": [
    "mywell = gwf.packages.mywell.as_mutable_bc()"
   ]
  },
  {
   "cell_type": "code",
   "execution_count": null,
   "id": "22c52a59-decf-4b75-b950-24ea067b5318",
   "metadata": {},
   "outputs": [],
   "source": [
    "mywell"
   ]
  },
  {
   "cell_type": "code",
   "execution_count": null,
   "id": "128f958c-ab84-46db-80fd-7057a0ef9563",
   "metadata": {},
   "outputs": [],
   "source": [
    "model_step.state "
   ]
  },
  {
   "cell_type": "code",
   "execution_count": null,
   "id": "593976c6-45ac-48df-829a-d75c03f6458b",
   "metadata": {},
   "outputs": [],
   "source": [
    "model_step.simulation_group.model_names"
   ]
  },
  {
   "cell_type": "code",
   "execution_count": null,
   "id": "64baac7f-9f97-4996-88d1-fb8d4fd035a9",
   "metadata": {},
   "outputs": [],
   "source": [
    "model_step.simulation_group.kper"
   ]
  },
  {
   "cell_type": "code",
   "execution_count": null,
   "id": "c5ac6c93-c441-4ade-a901-6ae15066b435",
   "metadata": {},
   "outputs": [],
   "source": [
    "gwf.totim"
   ]
  },
  {
   "cell_type": "code",
   "execution_count": null,
   "id": "fe307b3d-c485-4803-a9a8-0217c4985518",
   "metadata": {},
   "outputs": [],
   "source": [
    "gwf"
   ]
  },
  {
   "cell_type": "code",
   "execution_count": null,
   "id": "f58de4b0-071f-449b-8bcf-2e1cdc468911",
   "metadata": {},
   "outputs": [],
   "source": []
  }
 ],
 "metadata": {
  "kernelspec": {
   "display_name": "Python 3 (ipykernel)",
   "language": "python",
   "name": "python3"
  },
  "language_info": {
   "codemirror_mode": {
    "name": "ipython",
    "version": 3
   },
   "file_extension": ".py",
   "mimetype": "text/x-python",
   "name": "python",
   "nbconvert_exporter": "python",
   "pygments_lexer": "ipython3",
   "version": "3.13.5"
  }
 },
 "nbformat": 4,
 "nbformat_minor": 5
}
